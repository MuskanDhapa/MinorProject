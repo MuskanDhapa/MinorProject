{
  "nbformat": 4,
  "nbformat_minor": 0,
  "metadata": {
    "colab": {
      "name": "MPR Model.ipynb",
      "provenance": [],
      "collapsed_sections": []
    },
    "kernelspec": {
      "display_name": "Python 3",
      "name": "python3"
    },
    "language_info": {
      "name": "python"
    }
  },
  "cells": [
    {
      "cell_type": "code",
      "metadata": {
        "id": "duU7VsEGkzcS"
      },
      "source": [
        "### Data Collection\n",
        "import pandas_datareader as pdr"
      ],
      "execution_count": 129,
      "outputs": []
    },
    {
      "cell_type": "code",
      "metadata": {
        "id": "1qedk_5sk0Gc"
      },
      "source": [
        "df = pdr.get_data_tiingo('AAPL', api_key='42339adc748250f3771ee40550b91af60a4074f5')"
      ],
      "execution_count": 130,
      "outputs": []
    },
    {
      "cell_type": "code",
      "metadata": {
        "id": "JG7f5MRtlQ4J"
      },
      "source": [
        "df.to_csv('Stock.csv')"
      ],
      "execution_count": 131,
      "outputs": []
    },
    {
      "cell_type": "code",
      "metadata": {
        "id": "rYNbKOKRlWwD"
      },
      "source": [
        "import pandas as pd"
      ],
      "execution_count": 132,
      "outputs": []
    },
    {
      "cell_type": "code",
      "metadata": {
        "id": "K9wpJ10QlYeo"
      },
      "source": [
        "df=pd.read_csv('Stock.csv')"
      ],
      "execution_count": 133,
      "outputs": []
    },
    {
      "cell_type": "code",
      "metadata": {
        "colab": {
          "base_uri": "https://localhost:8080/"
        },
        "id": "6PADC7DSEV32",
        "outputId": "25203922-521a-4d52-eb61-d5394955a69d"
      },
      "source": [
        "print(df)"
      ],
      "execution_count": 134,
      "outputs": [
        {
          "output_type": "stream",
          "name": "stdout",
          "text": [
            "     symbol                       date   close  ...  adjVolume  divCash  splitFactor\n",
            "0      AAPL  2016-11-28 00:00:00+00:00  111.57  ...  108775932      0.0          1.0\n",
            "1      AAPL  2016-11-29 00:00:00+00:00  111.46  ...  114115000      0.0          1.0\n",
            "2      AAPL  2016-11-30 00:00:00+00:00  110.52  ...  144649032      0.0          1.0\n",
            "3      AAPL  2016-12-01 00:00:00+00:00  109.49  ...  148347448      0.0          1.0\n",
            "4      AAPL  2016-12-02 00:00:00+00:00  109.90  ...  106111988      0.0          1.0\n",
            "...     ...                        ...     ...  ...        ...      ...          ...\n",
            "1253   AAPL  2021-11-18 00:00:00+00:00  157.87  ...  137827673      0.0          1.0\n",
            "1254   AAPL  2021-11-19 00:00:00+00:00  160.55  ...  117305597      0.0          1.0\n",
            "1255   AAPL  2021-11-22 00:00:00+00:00  161.02  ...  117467889      0.0          1.0\n",
            "1256   AAPL  2021-11-23 00:00:00+00:00  161.41  ...   96041899      0.0          1.0\n",
            "1257   AAPL  2021-11-24 00:00:00+00:00  161.94  ...   69463623      0.0          1.0\n",
            "\n",
            "[1258 rows x 14 columns]\n"
          ]
        }
      ]
    },
    {
      "cell_type": "code",
      "metadata": {
        "id": "2Vjc9dT9lbUV"
      },
      "source": [
        "df1=df.reset_index()['close']"
      ],
      "execution_count": 135,
      "outputs": []
    },
    {
      "cell_type": "code",
      "metadata": {
        "colab": {
          "base_uri": "https://localhost:8080/"
        },
        "id": "swp9XYYblepl",
        "outputId": "b8bba127-7221-4912-ef14-06e533772f05"
      },
      "source": [
        "df1"
      ],
      "execution_count": 136,
      "outputs": [
        {
          "output_type": "execute_result",
          "data": {
            "text/plain": [
              "0       111.57\n",
              "1       111.46\n",
              "2       110.52\n",
              "3       109.49\n",
              "4       109.90\n",
              "         ...  \n",
              "1253    157.87\n",
              "1254    160.55\n",
              "1255    161.02\n",
              "1256    161.41\n",
              "1257    161.94\n",
              "Name: close, Length: 1258, dtype: float64"
            ]
          },
          "metadata": {},
          "execution_count": 136
        }
      ]
    },
    {
      "cell_type": "code",
      "metadata": {
        "colab": {
          "base_uri": "https://localhost:8080/",
          "height": 282
        },
        "id": "UFxeFIZulgXk",
        "outputId": "994c8403-c28e-4ea8-e424-5b330bbee4af"
      },
      "source": [
        "import matplotlib.pyplot as plt\n",
        "plt.plot(df1)"
      ],
      "execution_count": 137,
      "outputs": [
        {
          "output_type": "execute_result",
          "data": {
            "text/plain": [
              "[<matplotlib.lines.Line2D at 0x7fcccbc73dd0>]"
            ]
          },
          "metadata": {},
          "execution_count": 137
        },
        {
          "output_type": "display_data",
          "data": {
            "image/png": "[encoded data removed]",
            "text/plain": [
              "<Figure size 432x288 with 1 Axes>"
            ]
          },
          "metadata": {
            "needs_background": "light"
          }
        }
      ]
    },
    {
      "cell_type": "code",
      "metadata": {
        "id": "wAI5eviMljOb"
      },
      "source": [
        "import numpy as np\n",
        "from sklearn.preprocessing import MinMaxScaler\n",
        "scaler=MinMaxScaler(feature_range=(0,1))\n",
        "df1=scaler.fit_transform(np.array(df1).reshape(-1,1))"
      ],
      "execution_count": 138,
      "outputs": []
    },
    {
      "cell_type": "code",
      "metadata": {
        "colab": {
          "base_uri": "https://localhost:8080/"
        },
        "id": "tfYsg8c6loIm",
        "outputId": "8a78cb85-79ab-48c1-e7f5-191c94056131"
      },
      "source": [
        "print(df1)"
      ],
      "execution_count": 139,
      "outputs": [
        {
          "output_type": "stream",
          "name": "stdout",
          "text": [
            "[[0.01184721]\n",
            " [0.0115717 ]\n",
            " [0.00921728]\n",
            " ...\n",
            " [0.13570445]\n",
            " [0.13668128]\n",
            " [0.13800877]]\n"
          ]
        }
      ]
    },
    {
      "cell_type": "code",
      "metadata": {
        "id": "BKKRGwbglsra"
      },
      "source": [
        "##splitting dataset into train and test split\n",
        "training_size=int(len(df1)*0.65)\n",
        "test_size=len(df1)-training_size\n",
        "train_data,test_data=df1[0:training_size,:],df1[training_size:len(df1),:1]"
      ],
      "execution_count": 140,
      "outputs": []
    },
    {
      "cell_type": "code",
      "metadata": {
        "id": "RXo5MDBcluu5"
      },
      "source": [
        "# convert an array of values into a dataset matrix\n",
        "def create_dataset(dataset, time_step=1):\n",
        "\tdataX, dataY = [], []\n",
        "\tfor i in range(len(dataset)-time_step-1):\n",
        "\t\ta = dataset[i:(i+time_step), 0]   ###i=0, 0,1,2,3-----99   100 \n",
        "\t\tdataX.append(a)\n",
        "\t\tdataY.append(dataset[i + time_step, 0])\n",
        "\treturn np.array(dataX), np.array(dataY)"
      ],
      "execution_count": 141,
      "outputs": []
    },
    {
      "cell_type": "code",
      "metadata": {
        "id": "4WZX3sSKl3rK"
      },
      "source": [
        "# reshape into X=t,t+1,t+2,t+3 and Y=t+4\n",
        "time_step = 100\n",
        "X_train, y_train = create_dataset(train_data, time_step)\n",
        "X_test, ytest = create_dataset(test_data, time_step)"
      ],
      "execution_count": 142,
      "outputs": []
    },
    {
      "cell_type": "code",
      "metadata": {
        "colab": {
          "base_uri": "https://localhost:8080/"
        },
        "id": "n5BWerfnl5ts",
        "outputId": "b2a923f9-3ea6-4416-c408-27a9491ae791"
      },
      "source": [
        "print(X_train.shape), print(y_train.shape)"
      ],
      "execution_count": 143,
      "outputs": [
        {
          "output_type": "stream",
          "name": "stdout",
          "text": [
            "(716, 100)\n",
            "(716,)\n"
          ]
        },
        {
          "output_type": "execute_result",
          "data": {
            "text/plain": [
              "(None, None)"
            ]
          },
          "metadata": {},
          "execution_count": 143
        }
      ]
    },
    {
      "cell_type": "code",
      "metadata": {
        "id": "Y6PhZJqGl7fy"
      },
      "source": [
        "# reshape input to be [samples, time steps, features] which is required for LSTM\n",
        "X_train =X_train.reshape(X_train.shape[0],X_train.shape[1] , 1)\n",
        "X_test = X_test.reshape(X_test.shape[0],X_test.shape[1] , 1)"
      ],
      "execution_count": 144,
      "outputs": []
    },
    {
      "cell_type": "code",
      "metadata": {
        "id": "8CPQo1F5l-J8"
      },
      "source": [
        "### Create the Stacked LSTM model\n",
        "from tensorflow.keras.models import Sequential\n",
        "from tensorflow.keras.layers import Dense\n",
        "from tensorflow.keras.layers import LSTM\n",
        "import tensorflow as tf"
      ],
      "execution_count": 145,
      "outputs": []
    },
    {
      "cell_type": "code",
      "metadata": {
        "id": "xE9FF-cSl_3G"
      },
      "source": [
        "model=Sequential()\n",
        "model.add(LSTM(50,return_sequences=True,input_shape=(100,1)))\n",
        "model.add(LSTM(50,return_sequences=True))\n",
        "model.add(LSTM(50))\n",
        "model.add(Dense(1))\n",
        "model.compile(loss='mean_squared_error',optimizer='adam')\n"
      ],
      "execution_count": 146,
      "outputs": []
    },
    {
      "cell_type": "code",
      "metadata": {
        "colab": {
          "base_uri": "https://localhost:8080/"
        },
        "id": "kq-Qd9BLmB-h",
        "outputId": "f38c338c-e5a2-4aa2-e536-e9b1187acf5a"
      },
      "source": [
        "model.summary()"
      ],
      "execution_count": 147,
      "outputs": [
        {
          "output_type": "stream",
          "name": "stdout",
          "text": [
            "Model: \"sequential_3\"\n",
            "_________________________________________________________________\n",
            " Layer (type)                Output Shape              Param #   \n",
            "=================================================================\n",
            " lstm_9 (LSTM)               (None, 100, 50)           10400     \n",
            "                                                                 \n",
            " lstm_10 (LSTM)              (None, 100, 50)           20200     \n",
            "                                                                 \n",
            " lstm_11 (LSTM)              (None, 50)                20200     \n",
            "                                                                 \n",
            " dense_3 (Dense)             (None, 1)                 51        \n",
            "                                                                 \n",
            "=================================================================\n",
            "Total params: 50,851\n",
            "Trainable params: 50,851\n",
            "Non-trainable params: 0\n",
            "_________________________________________________________________\n"
          ]
        }
      ]
    },
    {
      "cell_type": "code",
      "metadata": {
        "id": "jbF8cLaomEUT"
      },
      "source": [
        ""
      ],
      "execution_count": 147,
      "outputs": []
    },
    {
      "cell_type": "code",
      "metadata": {
        "id": "8xzE7_P_mGW2"
      },
      "source": [
        "#model.fit(X_train,y_train,validation_data=(X_test,ytest),epochs=100,batch_size=64,verbose=1)"
      ],
      "execution_count": 148,
      "outputs": []
    },
    {
      "cell_type": "code",
      "metadata": {
        "id": "iAfdMrM4mJY5"
      },
      "source": [
        "#model.save_weights(\"stockweights.h5\")"
      ],
      "execution_count": 149,
      "outputs": []
    },
    {
      "cell_type": "code",
      "metadata": {
        "id": "CL0a1NwtncyD"
      },
      "source": [
        "model.load_weights(\"stockweights.h5\")"
      ],
      "execution_count": 150,
      "outputs": []
    },
    {
      "cell_type": "code",
      "metadata": {
        "id": "3L2CA2rknefp"
      },
      "source": [
        "import tensorflow as tf"
      ],
      "execution_count": 151,
      "outputs": []
    },
    {
      "cell_type": "code",
      "metadata": {
        "id": "pFHh4PpHngdT"
      },
      "source": [
        "### Lets Do the prediction and check performance metrics\n",
        "train_predict=model.predict(X_train)\n",
        "test_predict=model.predict(X_test)"
      ],
      "execution_count": 152,
      "outputs": []
    },
    {
      "cell_type": "code",
      "metadata": {
        "id": "686oGRtJnjN8"
      },
      "source": [
        "##Transformback to original form\n",
        "train_predict=scaler.inverse_transform(train_predict)\n",
        "test_predict=scaler.inverse_transform(test_predict)"
      ],
      "execution_count": 153,
      "outputs": []
    },
    {
      "cell_type": "code",
      "metadata": {
        "colab": {
          "base_uri": "https://localhost:8080/"
        },
        "id": "75KwD2D1nlZN",
        "outputId": "096ccb37-9712-41f5-af89-22194a23182a"
      },
      "source": [
        "### Calculate RMSE performance metrics\n",
        "import math\n",
        "from sklearn.metrics import mean_squared_error\n",
        "math.sqrt(mean_squared_error(y_train,train_predict))"
      ],
      "execution_count": 154,
      "outputs": [
        {
          "output_type": "execute_result",
          "data": {
            "text/plain": [
              "204.617832301394"
            ]
          },
          "metadata": {},
          "execution_count": 154
        }
      ]
    },
    {
      "cell_type": "code",
      "metadata": {
        "colab": {
          "base_uri": "https://localhost:8080/"
        },
        "id": "mmnUR8s8nnLC",
        "outputId": "a03d2110-f9fd-49a0-e0fc-aa003277ebf7"
      },
      "source": [
        "### Test Data RMSE\n",
        "math.sqrt(mean_squared_error(ytest,test_predict))"
      ],
      "execution_count": 155,
      "outputs": [
        {
          "output_type": "execute_result",
          "data": {
            "text/plain": [
              "193.51875770821513"
            ]
          },
          "metadata": {},
          "execution_count": 155
        }
      ]
    },
    {
      "cell_type": "code",
      "metadata": {
        "colab": {
          "base_uri": "https://localhost:8080/",
          "height": 265
        },
        "id": "xDrGV2UinplB",
        "outputId": "dd4ebe66-1463-4c88-a666-cc87a096134c"
      },
      "source": [
        "### Plotting \n",
        "# shift train predictions for plotting\n",
        "look_back=100\n",
        "trainPredictPlot = np.empty_like(df1)\n",
        "trainPredictPlot[:, :] = np.nan\n",
        "trainPredictPlot[look_back:len(train_predict)+look_back, :] = train_predict\n",
        "# shift test predictions for plotting\n",
        "testPredictPlot = np.empty_like(df1)\n",
        "testPredictPlot[:, :] = np.nan\n",
        "testPredictPlot[len(train_predict)+(look_back*2)+1:len(df1)-1, :] = test_predict\n",
        "# plot baseline and predictions\n",
        "plt.plot(scaler.inverse_transform(df1))\n",
        "plt.plot(trainPredictPlot)\n",
        "plt.plot(testPredictPlot)\n",
        "plt.show()"
      ],
      "execution_count": 156,
      "outputs": [
        {
          "output_type": "display_data",
          "data": {
            "image/png": "[encoded data removed]",
            "text/plain": [
              "<Figure size 432x288 with 1 Axes>"
            ]
          },
          "metadata": {
            "needs_background": "light"
          }
        }
      ]
    },
    {
      "cell_type": "code",
      "metadata": {
        "colab": {
          "base_uri": "https://localhost:8080/"
        },
        "id": "hmkclUhYnrsU",
        "outputId": "3f4e2cf4-84fe-4319-cbab-58eb5d953c9f"
      },
      "source": [
        "len(test_data)"
      ],
      "execution_count": 157,
      "outputs": [
        {
          "output_type": "execute_result",
          "data": {
            "text/plain": [
              "441"
            ]
          },
          "metadata": {},
          "execution_count": 157
        }
      ]
    },
    {
      "cell_type": "code",
      "metadata": {
        "colab": {
          "base_uri": "https://localhost:8080/"
        },
        "id": "L8fKiIAqn1FR",
        "outputId": "ce41715e-3803-4ea7-9b4f-ab7b18b899d7"
      },
      "source": [
        "x_input=test_data[340:].reshape(1,-1)\n",
        "x_input.shape\n"
      ],
      "execution_count": 158,
      "outputs": [
        {
          "output_type": "execute_result",
          "data": {
            "text/plain": [
              "(1, 101)"
            ]
          },
          "metadata": {},
          "execution_count": 158
        }
      ]
    },
    {
      "cell_type": "code",
      "metadata": {
        "id": "Ltg0LwQIn29s"
      },
      "source": [
        "temp_input=list(x_input)\n",
        "temp_input=temp_input[0].tolist()"
      ],
      "execution_count": 159,
      "outputs": []
    },
    {
      "cell_type": "code",
      "metadata": {
        "colab": {
          "base_uri": "https://localhost:8080/"
        },
        "id": "XN6gx8x3n4zK",
        "outputId": "594f7a21-9811-456a-bade-e2997300f9ca"
      },
      "source": [
        "# demonstrate prediction for next 10 days\n",
        "from numpy import array\n",
        "\n",
        "lst_output=[]\n",
        "n_steps=100\n",
        "i=0\n",
        "while(i<30):\n",
        "    \n",
        "    if(len(temp_input)>100):\n",
        "        #print(temp_input)\n",
        "        x_input=np.array(temp_input[1:])\n",
        "        print(\"{} day input {}\".format(i,x_input))\n",
        "        x_input=x_input.reshape(1,-1)\n",
        "        x_input = x_input.reshape((1, n_steps, 1))\n",
        "        #print(x_input)\n",
        "        yhat = model.predict(x_input, verbose=0)\n",
        "        print(\"{} day output {}\".format(i,yhat))\n",
        "        temp_input.extend(yhat[0].tolist())\n",
        "        temp_input=temp_input[1:]\n",
        "        #print(temp_input)\n",
        "        lst_output.extend(yhat.tolist())\n",
        "        i=i+1\n",
        "    else:\n",
        "        x_input = x_input.reshape((1, n_steps,1))\n",
        "        yhat = model.predict(x_input, verbose=0)\n",
        "        print(yhat[0])\n",
        "        temp_input.extend(yhat[0].tolist())\n",
        "        print(len(temp_input))\n",
        "        lst_output.extend(yhat.tolist())\n",
        "        i=i+1\n",
        "    \n",
        "\n",
        "print(lst_output)"
      ],
      "execution_count": 160,
      "outputs": [
        {
          "output_type": "stream",
          "name": "stdout",
          "text": [
            "0 day input [0.09450219 0.09117095 0.09585473 0.09432686 0.09718222 0.1059737\n",
            " 0.10429555 0.09906074 0.08919224 0.09845961 0.09658109 0.10008766\n",
            " 0.10449593 0.10557295 0.10001252 0.09552912 0.09718222 0.09773325\n",
            " 0.09688165 0.10149029 0.10046337 0.10073889 0.09843456 0.09830933\n",
            " 0.09708203 0.09773325 0.10532248 0.10584847 0.11090795 0.10857858\n",
            " 0.0989856  0.09983719 0.10356919 0.10737633 0.10715091 0.10399499\n",
            " 0.10194114 0.10459612 0.11591735 0.11268629 0.11438948 0.11724483\n",
            " 0.11887289 0.12485911 0.12090169 0.11829681 0.10552286 0.10697558\n",
            " 0.10339386 0.10567314 0.10507201 0.09823419 0.09041954 0.09164684\n",
            " 0.0977082  0.10016281 0.10038823 0.09650595 0.0878397  0.09014402\n",
            " 0.08681277 0.08969317 0.08090169 0.08583594 0.08806512 0.09129618\n",
            " 0.09031935 0.09009393 0.08683782 0.085335   0.09247339 0.09517846\n",
            " 0.09946149 0.10499687 0.10624922 0.10680025 0.10482154 0.10469631\n",
            " 0.1063995  0.10522229 0.11453976 0.10760175 0.10549781 0.10815279\n",
            " 0.11183469 0.1105072  0.1113087  0.10920476 0.1101315  0.10289292\n",
            " 0.10276769 0.10807765 0.10810269 0.11060739 0.11684408 0.12781465\n",
            " 0.13452724 0.13570445 0.13668128 0.13800877]\n",
            "0 day output [[0.12800671]]\n",
            "1 day input [0.09117095 0.09585473 0.09432686 0.09718222 0.1059737  0.10429555\n",
            " 0.09906074 0.08919224 0.09845961 0.09658109 0.10008766 0.10449593\n",
            " 0.10557295 0.10001252 0.09552912 0.09718222 0.09773325 0.09688165\n",
            " 0.10149029 0.10046337 0.10073889 0.09843456 0.09830933 0.09708203\n",
            " 0.09773325 0.10532248 0.10584847 0.11090795 0.10857858 0.0989856\n",
            " 0.09983719 0.10356919 0.10737633 0.10715091 0.10399499 0.10194114\n",
            " 0.10459612 0.11591735 0.11268629 0.11438948 0.11724483 0.11887289\n",
            " 0.12485911 0.12090169 0.11829681 0.10552286 0.10697558 0.10339386\n",
            " 0.10567314 0.10507201 0.09823419 0.09041954 0.09164684 0.0977082\n",
            " 0.10016281 0.10038823 0.09650595 0.0878397  0.09014402 0.08681277\n",
            " 0.08969317 0.08090169 0.08583594 0.08806512 0.09129618 0.09031935\n",
            " 0.09009393 0.08683782 0.085335   0.09247339 0.09517846 0.09946149\n",
            " 0.10499687 0.10624922 0.10680025 0.10482154 0.10469631 0.1063995\n",
            " 0.10522229 0.11453976 0.10760175 0.10549781 0.10815279 0.11183469\n",
            " 0.1105072  0.1113087  0.10920476 0.1101315  0.10289292 0.10276769\n",
            " 0.10807765 0.10810269 0.11060739 0.11684408 0.12781465 0.13452724\n",
            " 0.13570445 0.13668128 0.13800877 0.12800671]\n",
            "1 day output [[0.13092479]]\n",
            "2 day input [0.09585473 0.09432686 0.09718222 0.1059737  0.10429555 0.09906074\n",
            " 0.08919224 0.09845961 0.09658109 0.10008766 0.10449593 0.10557295\n",
            " 0.10001252 0.09552912 0.09718222 0.09773325 0.09688165 0.10149029\n",
            " 0.10046337 0.10073889 0.09843456 0.09830933 0.09708203 0.09773325\n",
            " 0.10532248 0.10584847 0.11090795 0.10857858 0.0989856  0.09983719\n",
            " 0.10356919 0.10737633 0.10715091 0.10399499 0.10194114 0.10459612\n",
            " 0.11591735 0.11268629 0.11438948 0.11724483 0.11887289 0.12485911\n",
            " 0.12090169 0.11829681 0.10552286 0.10697558 0.10339386 0.10567314\n",
            " 0.10507201 0.09823419 0.09041954 0.09164684 0.0977082  0.10016281\n",
            " 0.10038823 0.09650595 0.0878397  0.09014402 0.08681277 0.08969317\n",
            " 0.08090169 0.08583594 0.08806512 0.09129618 0.09031935 0.09009393\n",
            " 0.08683782 0.085335   0.09247339 0.09517846 0.09946149 0.10499687\n",
            " 0.10624922 0.10680025 0.10482154 0.10469631 0.1063995  0.10522229\n",
            " 0.11453976 0.10760175 0.10549781 0.10815279 0.11183469 0.1105072\n",
            " 0.1113087  0.10920476 0.1101315  0.10289292 0.10276769 0.10807765\n",
            " 0.10810269 0.11060739 0.11684408 0.12781465 0.13452724 0.13570445\n",
            " 0.13668128 0.13800877 0.12800671 0.13092479]\n",
            "2 day output [[0.13345529]]\n",
            "3 day input [0.09432686 0.09718222 0.1059737  0.10429555 0.09906074 0.08919224\n",
            " 0.09845961 0.09658109 0.10008766 0.10449593 0.10557295 0.10001252\n",
            " 0.09552912 0.09718222 0.09773325 0.09688165 0.10149029 0.10046337\n",
            " 0.10073889 0.09843456 0.09830933 0.09708203 0.09773325 0.10532248\n",
            " 0.10584847 0.11090795 0.10857858 0.0989856  0.09983719 0.10356919\n",
            " 0.10737633 0.10715091 0.10399499 0.10194114 0.10459612 0.11591735\n",
            " 0.11268629 0.11438948 0.11724483 0.11887289 0.12485911 0.12090169\n",
            " 0.11829681 0.10552286 0.10697558 0.10339386 0.10567314 0.10507201\n",
            " 0.09823419 0.09041954 0.09164684 0.0977082  0.10016281 0.10038823\n",
            " 0.09650595 0.0878397  0.09014402 0.08681277 0.08969317 0.08090169\n",
            " 0.08583594 0.08806512 0.09129618 0.09031935 0.09009393 0.08683782\n",
            " 0.085335   0.09247339 0.09517846 0.09946149 0.10499687 0.10624922\n",
            " 0.10680025 0.10482154 0.10469631 0.1063995  0.10522229 0.11453976\n",
            " 0.10760175 0.10549781 0.10815279 0.11183469 0.1105072  0.1113087\n",
            " 0.10920476 0.1101315  0.10289292 0.10276769 0.10807765 0.10810269\n",
            " 0.11060739 0.11684408 0.12781465 0.13452724 0.13570445 0.13668128\n",
            " 0.13800877 0.12800671 0.13092479 0.13345529]\n",
            "3 day output [[0.13561444]]\n",
            "4 day input [0.09718222 0.1059737  0.10429555 0.09906074 0.08919224 0.09845961\n",
            " 0.09658109 0.10008766 0.10449593 0.10557295 0.10001252 0.09552912\n",
            " 0.09718222 0.09773325 0.09688165 0.10149029 0.10046337 0.10073889\n",
            " 0.09843456 0.09830933 0.09708203 0.09773325 0.10532248 0.10584847\n",
            " 0.11090795 0.10857858 0.0989856  0.09983719 0.10356919 0.10737633\n",
            " 0.10715091 0.10399499 0.10194114 0.10459612 0.11591735 0.11268629\n",
            " 0.11438948 0.11724483 0.11887289 0.12485911 0.12090169 0.11829681\n",
            " 0.10552286 0.10697558 0.10339386 0.10567314 0.10507201 0.09823419\n",
            " 0.09041954 0.09164684 0.0977082  0.10016281 0.10038823 0.09650595\n",
            " 0.0878397  0.09014402 0.08681277 0.08969317 0.08090169 0.08583594\n",
            " 0.08806512 0.09129618 0.09031935 0.09009393 0.08683782 0.085335\n",
            " 0.09247339 0.09517846 0.09946149 0.10499687 0.10624922 0.10680025\n",
            " 0.10482154 0.10469631 0.1063995  0.10522229 0.11453976 0.10760175\n",
            " 0.10549781 0.10815279 0.11183469 0.1105072  0.1113087  0.10920476\n",
            " 0.1101315  0.10289292 0.10276769 0.10807765 0.10810269 0.11060739\n",
            " 0.11684408 0.12781465 0.13452724 0.13570445 0.13668128 0.13800877\n",
            " 0.12800671 0.13092479 0.13345529 0.13561444]\n",
            "4 day output [[0.13748258]]\n",
            "5 day input [0.1059737  0.10429555 0.09906074 0.08919224 0.09845961 0.09658109\n",
            " 0.10008766 0.10449593 0.10557295 0.10001252 0.09552912 0.09718222\n",
            " 0.09773325 0.09688165 0.10149029 0.10046337 0.10073889 0.09843456\n",
            " 0.09830933 0.09708203 0.09773325 0.10532248 0.10584847 0.11090795\n",
            " 0.10857858 0.0989856  0.09983719 0.10356919 0.10737633 0.10715091\n",
            " 0.10399499 0.10194114 0.10459612 0.11591735 0.11268629 0.11438948\n",
            " 0.11724483 0.11887289 0.12485911 0.12090169 0.11829681 0.10552286\n",
            " 0.10697558 0.10339386 0.10567314 0.10507201 0.09823419 0.09041954\n",
            " 0.09164684 0.0977082  0.10016281 0.10038823 0.09650595 0.0878397\n",
            " 0.09014402 0.08681277 0.08969317 0.08090169 0.08583594 0.08806512\n",
            " 0.09129618 0.09031935 0.09009393 0.08683782 0.085335   0.09247339\n",
            " 0.09517846 0.09946149 0.10499687 0.10624922 0.10680025 0.10482154\n",
            " 0.10469631 0.1063995  0.10522229 0.11453976 0.10760175 0.10549781\n",
            " 0.10815279 0.11183469 0.1105072  0.1113087  0.10920476 0.1101315\n",
            " 0.10289292 0.10276769 0.10807765 0.10810269 0.11060739 0.11684408\n",
            " 0.12781465 0.13452724 0.13570445 0.13668128 0.13800877 0.12800671\n",
            " 0.13092479 0.13345529 0.13561444 0.13748258]\n",
            "5 day output [[0.13915034]]\n",
            "6 day input [0.10429555 0.09906074 0.08919224 0.09845961 0.09658109 0.10008766\n",
            " 0.10449593 0.10557295 0.10001252 0.09552912 0.09718222 0.09773325\n",
            " 0.09688165 0.10149029 0.10046337 0.10073889 0.09843456 0.09830933\n",
            " 0.09708203 0.09773325 0.10532248 0.10584847 0.11090795 0.10857858\n",
            " 0.0989856  0.09983719 0.10356919 0.10737633 0.10715091 0.10399499\n",
            " 0.10194114 0.10459612 0.11591735 0.11268629 0.11438948 0.11724483\n",
            " 0.11887289 0.12485911 0.12090169 0.11829681 0.10552286 0.10697558\n",
            " 0.10339386 0.10567314 0.10507201 0.09823419 0.09041954 0.09164684\n",
            " 0.0977082  0.10016281 0.10038823 0.09650595 0.0878397  0.09014402\n",
            " 0.08681277 0.08969317 0.08090169 0.08583594 0.08806512 0.09129618\n",
            " 0.09031935 0.09009393 0.08683782 0.085335   0.09247339 0.09517846\n",
            " 0.09946149 0.10499687 0.10624922 0.10680025 0.10482154 0.10469631\n",
            " 0.1063995  0.10522229 0.11453976 0.10760175 0.10549781 0.10815279\n",
            " 0.11183469 0.1105072  0.1113087  0.10920476 0.1101315  0.10289292\n",
            " 0.10276769 0.10807765 0.10810269 0.11060739 0.11684408 0.12781465\n",
            " 0.13452724 0.13570445 0.13668128 0.13800877 0.12800671 0.13092479\n",
            " 0.13345529 0.13561444 0.13748258 0.13915034]\n",
            "6 day output [[0.14069487]]\n",
            "7 day input [0.09906074 0.08919224 0.09845961 0.09658109 0.10008766 0.10449593\n",
            " 0.10557295 0.10001252 0.09552912 0.09718222 0.09773325 0.09688165\n",
            " 0.10149029 0.10046337 0.10073889 0.09843456 0.09830933 0.09708203\n",
            " 0.09773325 0.10532248 0.10584847 0.11090795 0.10857858 0.0989856\n",
            " 0.09983719 0.10356919 0.10737633 0.10715091 0.10399499 0.10194114\n",
            " 0.10459612 0.11591735 0.11268629 0.11438948 0.11724483 0.11887289\n",
            " 0.12485911 0.12090169 0.11829681 0.10552286 0.10697558 0.10339386\n",
            " 0.10567314 0.10507201 0.09823419 0.09041954 0.09164684 0.0977082\n",
            " 0.10016281 0.10038823 0.09650595 0.0878397  0.09014402 0.08681277\n",
            " 0.08969317 0.08090169 0.08583594 0.08806512 0.09129618 0.09031935\n",
            " 0.09009393 0.08683782 0.085335   0.09247339 0.09517846 0.09946149\n",
            " 0.10499687 0.10624922 0.10680025 0.10482154 0.10469631 0.1063995\n",
            " 0.10522229 0.11453976 0.10760175 0.10549781 0.10815279 0.11183469\n",
            " 0.1105072  0.1113087  0.10920476 0.1101315  0.10289292 0.10276769\n",
            " 0.10807765 0.10810269 0.11060739 0.11684408 0.12781465 0.13452724\n",
            " 0.13570445 0.13668128 0.13800877 0.12800671 0.13092479 0.13345529\n",
            " 0.13561444 0.13748258 0.13915034 0.14069487]\n",
            "7 day output [[0.14217329]]\n",
            "8 day input [0.08919224 0.09845961 0.09658109 0.10008766 0.10449593 0.10557295\n",
            " 0.10001252 0.09552912 0.09718222 0.09773325 0.09688165 0.10149029\n",
            " 0.10046337 0.10073889 0.09843456 0.09830933 0.09708203 0.09773325\n",
            " 0.10532248 0.10584847 0.11090795 0.10857858 0.0989856  0.09983719\n",
            " 0.10356919 0.10737633 0.10715091 0.10399499 0.10194114 0.10459612\n",
            " 0.11591735 0.11268629 0.11438948 0.11724483 0.11887289 0.12485911\n",
            " 0.12090169 0.11829681 0.10552286 0.10697558 0.10339386 0.10567314\n",
            " 0.10507201 0.09823419 0.09041954 0.09164684 0.0977082  0.10016281\n",
            " 0.10038823 0.09650595 0.0878397  0.09014402 0.08681277 0.08969317\n",
            " 0.08090169 0.08583594 0.08806512 0.09129618 0.09031935 0.09009393\n",
            " 0.08683782 0.085335   0.09247339 0.09517846 0.09946149 0.10499687\n",
            " 0.10624922 0.10680025 0.10482154 0.10469631 0.1063995  0.10522229\n",
            " 0.11453976 0.10760175 0.10549781 0.10815279 0.11183469 0.1105072\n",
            " 0.1113087  0.10920476 0.1101315  0.10289292 0.10276769 0.10807765\n",
            " 0.10810269 0.11060739 0.11684408 0.12781465 0.13452724 0.13570445\n",
            " 0.13668128 0.13800877 0.12800671 0.13092479 0.13345529 0.13561444\n",
            " 0.13748258 0.13915034 0.14069487 0.14217329]\n",
            "8 day output [[0.14362343]]\n",
            "9 day input [0.09845961 0.09658109 0.10008766 0.10449593 0.10557295 0.10001252\n",
            " 0.09552912 0.09718222 0.09773325 0.09688165 0.10149029 0.10046337\n",
            " 0.10073889 0.09843456 0.09830933 0.09708203 0.09773325 0.10532248\n",
            " 0.10584847 0.11090795 0.10857858 0.0989856  0.09983719 0.10356919\n",
            " 0.10737633 0.10715091 0.10399499 0.10194114 0.10459612 0.11591735\n",
            " 0.11268629 0.11438948 0.11724483 0.11887289 0.12485911 0.12090169\n",
            " 0.11829681 0.10552286 0.10697558 0.10339386 0.10567314 0.10507201\n",
            " 0.09823419 0.09041954 0.09164684 0.0977082  0.10016281 0.10038823\n",
            " 0.09650595 0.0878397  0.09014402 0.08681277 0.08969317 0.08090169\n",
            " 0.08583594 0.08806512 0.09129618 0.09031935 0.09009393 0.08683782\n",
            " 0.085335   0.09247339 0.09517846 0.09946149 0.10499687 0.10624922\n",
            " 0.10680025 0.10482154 0.10469631 0.1063995  0.10522229 0.11453976\n",
            " 0.10760175 0.10549781 0.10815279 0.11183469 0.1105072  0.1113087\n",
            " 0.10920476 0.1101315  0.10289292 0.10276769 0.10807765 0.10810269\n",
            " 0.11060739 0.11684408 0.12781465 0.13452724 0.13570445 0.13668128\n",
            " 0.13800877 0.12800671 0.13092479 0.13345529 0.13561444 0.13748258\n",
            " 0.13915034 0.14069487 0.14217329 0.14362343]\n",
            "9 day output [[0.14506827]]\n",
            "10 day input [0.09658109 0.10008766 0.10449593 0.10557295 0.10001252 0.09552912\n",
            " 0.09718222 0.09773325 0.09688165 0.10149029 0.10046337 0.10073889\n",
            " 0.09843456 0.09830933 0.09708203 0.09773325 0.10532248 0.10584847\n",
            " 0.11090795 0.10857858 0.0989856  0.09983719 0.10356919 0.10737633\n",
            " 0.10715091 0.10399499 0.10194114 0.10459612 0.11591735 0.11268629\n",
            " 0.11438948 0.11724483 0.11887289 0.12485911 0.12090169 0.11829681\n",
            " 0.10552286 0.10697558 0.10339386 0.10567314 0.10507201 0.09823419\n",
            " 0.09041954 0.09164684 0.0977082  0.10016281 0.10038823 0.09650595\n",
            " 0.0878397  0.09014402 0.08681277 0.08969317 0.08090169 0.08583594\n",
            " 0.08806512 0.09129618 0.09031935 0.09009393 0.08683782 0.085335\n",
            " 0.09247339 0.09517846 0.09946149 0.10499687 0.10624922 0.10680025\n",
            " 0.10482154 0.10469631 0.1063995  0.10522229 0.11453976 0.10760175\n",
            " 0.10549781 0.10815279 0.11183469 0.1105072  0.1113087  0.10920476\n",
            " 0.1101315  0.10289292 0.10276769 0.10807765 0.10810269 0.11060739\n",
            " 0.11684408 0.12781465 0.13452724 0.13570445 0.13668128 0.13800877\n",
            " 0.12800671 0.13092479 0.13345529 0.13561444 0.13748258 0.13915034\n",
            " 0.14069487 0.14217329 0.14362343 0.14506827]\n",
            "10 day output [[0.14652063]]\n",
            "11 day input [0.10008766 0.10449593 0.10557295 0.10001252 0.09552912 0.09718222\n",
            " 0.09773325 0.09688165 0.10149029 0.10046337 0.10073889 0.09843456\n",
            " 0.09830933 0.09708203 0.09773325 0.10532248 0.10584847 0.11090795\n",
            " 0.10857858 0.0989856  0.09983719 0.10356919 0.10737633 0.10715091\n",
            " 0.10399499 0.10194114 0.10459612 0.11591735 0.11268629 0.11438948\n",
            " 0.11724483 0.11887289 0.12485911 0.12090169 0.11829681 0.10552286\n",
            " 0.10697558 0.10339386 0.10567314 0.10507201 0.09823419 0.09041954\n",
            " 0.09164684 0.0977082  0.10016281 0.10038823 0.09650595 0.0878397\n",
            " 0.09014402 0.08681277 0.08969317 0.08090169 0.08583594 0.08806512\n",
            " 0.09129618 0.09031935 0.09009393 0.08683782 0.085335   0.09247339\n",
            " 0.09517846 0.09946149 0.10499687 0.10624922 0.10680025 0.10482154\n",
            " 0.10469631 0.1063995  0.10522229 0.11453976 0.10760175 0.10549781\n",
            " 0.10815279 0.11183469 0.1105072  0.1113087  0.10920476 0.1101315\n",
            " 0.10289292 0.10276769 0.10807765 0.10810269 0.11060739 0.11684408\n",
            " 0.12781465 0.13452724 0.13570445 0.13668128 0.13800877 0.12800671\n",
            " 0.13092479 0.13345529 0.13561444 0.13748258 0.13915034 0.14069487\n",
            " 0.14217329 0.14362343 0.14506827 0.14652063]\n",
            "11 day output [[0.14798677]]\n",
            "12 day input [0.10449593 0.10557295 0.10001252 0.09552912 0.09718222 0.09773325\n",
            " 0.09688165 0.10149029 0.10046337 0.10073889 0.09843456 0.09830933\n",
            " 0.09708203 0.09773325 0.10532248 0.10584847 0.11090795 0.10857858\n",
            " 0.0989856  0.09983719 0.10356919 0.10737633 0.10715091 0.10399499\n",
            " 0.10194114 0.10459612 0.11591735 0.11268629 0.11438948 0.11724483\n",
            " 0.11887289 0.12485911 0.12090169 0.11829681 0.10552286 0.10697558\n",
            " 0.10339386 0.10567314 0.10507201 0.09823419 0.09041954 0.09164684\n",
            " 0.0977082  0.10016281 0.10038823 0.09650595 0.0878397  0.09014402\n",
            " 0.08681277 0.08969317 0.08090169 0.08583594 0.08806512 0.09129618\n",
            " 0.09031935 0.09009393 0.08683782 0.085335   0.09247339 0.09517846\n",
            " 0.09946149 0.10499687 0.10624922 0.10680025 0.10482154 0.10469631\n",
            " 0.1063995  0.10522229 0.11453976 0.10760175 0.10549781 0.10815279\n",
            " 0.11183469 0.1105072  0.1113087  0.10920476 0.1101315  0.10289292\n",
            " 0.10276769 0.10807765 0.10810269 0.11060739 0.11684408 0.12781465\n",
            " 0.13452724 0.13570445 0.13668128 0.13800877 0.12800671 0.13092479\n",
            " 0.13345529 0.13561444 0.13748258 0.13915034 0.14069487 0.14217329\n",
            " 0.14362343 0.14506827 0.14652063 0.14798677]\n",
            "12 day output [[0.14946917]]\n",
            "13 day input [0.10557295 0.10001252 0.09552912 0.09718222 0.09773325 0.09688165\n",
            " 0.10149029 0.10046337 0.10073889 0.09843456 0.09830933 0.09708203\n",
            " 0.09773325 0.10532248 0.10584847 0.11090795 0.10857858 0.0989856\n",
            " 0.09983719 0.10356919 0.10737633 0.10715091 0.10399499 0.10194114\n",
            " 0.10459612 0.11591735 0.11268629 0.11438948 0.11724483 0.11887289\n",
            " 0.12485911 0.12090169 0.11829681 0.10552286 0.10697558 0.10339386\n",
            " 0.10567314 0.10507201 0.09823419 0.09041954 0.09164684 0.0977082\n",
            " 0.10016281 0.10038823 0.09650595 0.0878397  0.09014402 0.08681277\n",
            " 0.08969317 0.08090169 0.08583594 0.08806512 0.09129618 0.09031935\n",
            " 0.09009393 0.08683782 0.085335   0.09247339 0.09517846 0.09946149\n",
            " 0.10499687 0.10624922 0.10680025 0.10482154 0.10469631 0.1063995\n",
            " 0.10522229 0.11453976 0.10760175 0.10549781 0.10815279 0.11183469\n",
            " 0.1105072  0.1113087  0.10920476 0.1101315  0.10289292 0.10276769\n",
            " 0.10807765 0.10810269 0.11060739 0.11684408 0.12781465 0.13452724\n",
            " 0.13570445 0.13668128 0.13800877 0.12800671 0.13092479 0.13345529\n",
            " 0.13561444 0.13748258 0.13915034 0.14069487 0.14217329 0.14362343\n",
            " 0.14506827 0.14652063 0.14798677 0.14946917]\n",
            "13 day output [[0.1509686]]\n",
            "14 day input [0.10001252 0.09552912 0.09718222 0.09773325 0.09688165 0.10149029\n",
            " 0.10046337 0.10073889 0.09843456 0.09830933 0.09708203 0.09773325\n",
            " 0.10532248 0.10584847 0.11090795 0.10857858 0.0989856  0.09983719\n",
            " 0.10356919 0.10737633 0.10715091 0.10399499 0.10194114 0.10459612\n",
            " 0.11591735 0.11268629 0.11438948 0.11724483 0.11887289 0.12485911\n",
            " 0.12090169 0.11829681 0.10552286 0.10697558 0.10339386 0.10567314\n",
            " 0.10507201 0.09823419 0.09041954 0.09164684 0.0977082  0.10016281\n",
            " 0.10038823 0.09650595 0.0878397  0.09014402 0.08681277 0.08969317\n",
            " 0.08090169 0.08583594 0.08806512 0.09129618 0.09031935 0.09009393\n",
            " 0.08683782 0.085335   0.09247339 0.09517846 0.09946149 0.10499687\n",
            " 0.10624922 0.10680025 0.10482154 0.10469631 0.1063995  0.10522229\n",
            " 0.11453976 0.10760175 0.10549781 0.10815279 0.11183469 0.1105072\n",
            " 0.1113087  0.10920476 0.1101315  0.10289292 0.10276769 0.10807765\n",
            " 0.10810269 0.11060739 0.11684408 0.12781465 0.13452724 0.13570445\n",
            " 0.13668128 0.13800877 0.12800671 0.13092479 0.13345529 0.13561444\n",
            " 0.13748258 0.13915034 0.14069487 0.14217329 0.14362343 0.14506827\n",
            " 0.14652063 0.14798677 0.14946917 0.1509686 ]\n",
            "14 day output [[0.15248485]]\n",
            "15 day input [0.09552912 0.09718222 0.09773325 0.09688165 0.10149029 0.10046337\n",
            " 0.10073889 0.09843456 0.09830933 0.09708203 0.09773325 0.10532248\n",
            " 0.10584847 0.11090795 0.10857858 0.0989856  0.09983719 0.10356919\n",
            " 0.10737633 0.10715091 0.10399499 0.10194114 0.10459612 0.11591735\n",
            " 0.11268629 0.11438948 0.11724483 0.11887289 0.12485911 0.12090169\n",
            " 0.11829681 0.10552286 0.10697558 0.10339386 0.10567314 0.10507201\n",
            " 0.09823419 0.09041954 0.09164684 0.0977082  0.10016281 0.10038823\n",
            " 0.09650595 0.0878397  0.09014402 0.08681277 0.08969317 0.08090169\n",
            " 0.08583594 0.08806512 0.09129618 0.09031935 0.09009393 0.08683782\n",
            " 0.085335   0.09247339 0.09517846 0.09946149 0.10499687 0.10624922\n",
            " 0.10680025 0.10482154 0.10469631 0.1063995  0.10522229 0.11453976\n",
            " 0.10760175 0.10549781 0.10815279 0.11183469 0.1105072  0.1113087\n",
            " 0.10920476 0.1101315  0.10289292 0.10276769 0.10807765 0.10810269\n",
            " 0.11060739 0.11684408 0.12781465 0.13452724 0.13570445 0.13668128\n",
            " 0.13800877 0.12800671 0.13092479 0.13345529 0.13561444 0.13748258\n",
            " 0.13915034 0.14069487 0.14217329 0.14362343 0.14506827 0.14652063\n",
            " 0.14798677 0.14946917 0.1509686  0.15248485]\n",
            "15 day output [[0.15401755]]\n",
            "16 day input [0.09718222 0.09773325 0.09688165 0.10149029 0.10046337 0.10073889\n",
            " 0.09843456 0.09830933 0.09708203 0.09773325 0.10532248 0.10584847\n",
            " 0.11090795 0.10857858 0.0989856  0.09983719 0.10356919 0.10737633\n",
            " 0.10715091 0.10399499 0.10194114 0.10459612 0.11591735 0.11268629\n",
            " 0.11438948 0.11724483 0.11887289 0.12485911 0.12090169 0.11829681\n",
            " 0.10552286 0.10697558 0.10339386 0.10567314 0.10507201 0.09823419\n",
            " 0.09041954 0.09164684 0.0977082  0.10016281 0.10038823 0.09650595\n",
            " 0.0878397  0.09014402 0.08681277 0.08969317 0.08090169 0.08583594\n",
            " 0.08806512 0.09129618 0.09031935 0.09009393 0.08683782 0.085335\n",
            " 0.09247339 0.09517846 0.09946149 0.10499687 0.10624922 0.10680025\n",
            " 0.10482154 0.10469631 0.1063995  0.10522229 0.11453976 0.10760175\n",
            " 0.10549781 0.10815279 0.11183469 0.1105072  0.1113087  0.10920476\n",
            " 0.1101315  0.10289292 0.10276769 0.10807765 0.10810269 0.11060739\n",
            " 0.11684408 0.12781465 0.13452724 0.13570445 0.13668128 0.13800877\n",
            " 0.12800671 0.13092479 0.13345529 0.13561444 0.13748258 0.13915034\n",
            " 0.14069487 0.14217329 0.14362343 0.14506827 0.14652063 0.14798677\n",
            " 0.14946917 0.1509686  0.15248485 0.15401755]\n",
            "16 day output [[0.15556636]]\n",
            "17 day input [0.09773325 0.09688165 0.10149029 0.10046337 0.10073889 0.09843456\n",
            " 0.09830933 0.09708203 0.09773325 0.10532248 0.10584847 0.11090795\n",
            " 0.10857858 0.0989856  0.09983719 0.10356919 0.10737633 0.10715091\n",
            " 0.10399499 0.10194114 0.10459612 0.11591735 0.11268629 0.11438948\n",
            " 0.11724483 0.11887289 0.12485911 0.12090169 0.11829681 0.10552286\n",
            " 0.10697558 0.10339386 0.10567314 0.10507201 0.09823419 0.09041954\n",
            " 0.09164684 0.0977082  0.10016281 0.10038823 0.09650595 0.0878397\n",
            " 0.09014402 0.08681277 0.08969317 0.08090169 0.08583594 0.08806512\n",
            " 0.09129618 0.09031935 0.09009393 0.08683782 0.085335   0.09247339\n",
            " 0.09517846 0.09946149 0.10499687 0.10624922 0.10680025 0.10482154\n",
            " 0.10469631 0.1063995  0.10522229 0.11453976 0.10760175 0.10549781\n",
            " 0.10815279 0.11183469 0.1105072  0.1113087  0.10920476 0.1101315\n",
            " 0.10289292 0.10276769 0.10807765 0.10810269 0.11060739 0.11684408\n",
            " 0.12781465 0.13452724 0.13570445 0.13668128 0.13800877 0.12800671\n",
            " 0.13092479 0.13345529 0.13561444 0.13748258 0.13915034 0.14069487\n",
            " 0.14217329 0.14362343 0.14506827 0.14652063 0.14798677 0.14946917\n",
            " 0.1509686  0.15248485 0.15401755 0.15556636]\n",
            "17 day output [[0.15713103]]\n",
            "18 day input [0.09688165 0.10149029 0.10046337 0.10073889 0.09843456 0.09830933\n",
            " 0.09708203 0.09773325 0.10532248 0.10584847 0.11090795 0.10857858\n",
            " 0.0989856  0.09983719 0.10356919 0.10737633 0.10715091 0.10399499\n",
            " 0.10194114 0.10459612 0.11591735 0.11268629 0.11438948 0.11724483\n",
            " 0.11887289 0.12485911 0.12090169 0.11829681 0.10552286 0.10697558\n",
            " 0.10339386 0.10567314 0.10507201 0.09823419 0.09041954 0.09164684\n",
            " 0.0977082  0.10016281 0.10038823 0.09650595 0.0878397  0.09014402\n",
            " 0.08681277 0.08969317 0.08090169 0.08583594 0.08806512 0.09129618\n",
            " 0.09031935 0.09009393 0.08683782 0.085335   0.09247339 0.09517846\n",
            " 0.09946149 0.10499687 0.10624922 0.10680025 0.10482154 0.10469631\n",
            " 0.1063995  0.10522229 0.11453976 0.10760175 0.10549781 0.10815279\n",
            " 0.11183469 0.1105072  0.1113087  0.10920476 0.1101315  0.10289292\n",
            " 0.10276769 0.10807765 0.10810269 0.11060739 0.11684408 0.12781465\n",
            " 0.13452724 0.13570445 0.13668128 0.13800877 0.12800671 0.13092479\n",
            " 0.13345529 0.13561444 0.13748258 0.13915034 0.14069487 0.14217329\n",
            " 0.14362343 0.14506827 0.14652063 0.14798677 0.14946917 0.1509686\n",
            " 0.15248485 0.15401755 0.15556636 0.15713103]\n",
            "18 day output [[0.15871136]]\n",
            "19 day input [0.10149029 0.10046337 0.10073889 0.09843456 0.09830933 0.09708203\n",
            " 0.09773325 0.10532248 0.10584847 0.11090795 0.10857858 0.0989856\n",
            " 0.09983719 0.10356919 0.10737633 0.10715091 0.10399499 0.10194114\n",
            " 0.10459612 0.11591735 0.11268629 0.11438948 0.11724483 0.11887289\n",
            " 0.12485911 0.12090169 0.11829681 0.10552286 0.10697558 0.10339386\n",
            " 0.10567314 0.10507201 0.09823419 0.09041954 0.09164684 0.0977082\n",
            " 0.10016281 0.10038823 0.09650595 0.0878397  0.09014402 0.08681277\n",
            " 0.08969317 0.08090169 0.08583594 0.08806512 0.09129618 0.09031935\n",
            " 0.09009393 0.08683782 0.085335   0.09247339 0.09517846 0.09946149\n",
            " 0.10499687 0.10624922 0.10680025 0.10482154 0.10469631 0.1063995\n",
            " 0.10522229 0.11453976 0.10760175 0.10549781 0.10815279 0.11183469\n",
            " 0.1105072  0.1113087  0.10920476 0.1101315  0.10289292 0.10276769\n",
            " 0.10807765 0.10810269 0.11060739 0.11684408 0.12781465 0.13452724\n",
            " 0.13570445 0.13668128 0.13800877 0.12800671 0.13092479 0.13345529\n",
            " 0.13561444 0.13748258 0.13915034 0.14069487 0.14217329 0.14362343\n",
            " 0.14506827 0.14652063 0.14798677 0.14946917 0.1509686  0.15248485\n",
            " 0.15401755 0.15556636 0.15713103 0.15871136]\n",
            "19 day output [[0.16030738]]\n",
            "20 day input [0.10046337 0.10073889 0.09843456 0.09830933 0.09708203 0.09773325\n",
            " 0.10532248 0.10584847 0.11090795 0.10857858 0.0989856  0.09983719\n",
            " 0.10356919 0.10737633 0.10715091 0.10399499 0.10194114 0.10459612\n",
            " 0.11591735 0.11268629 0.11438948 0.11724483 0.11887289 0.12485911\n",
            " 0.12090169 0.11829681 0.10552286 0.10697558 0.10339386 0.10567314\n",
            " 0.10507201 0.09823419 0.09041954 0.09164684 0.0977082  0.10016281\n",
            " 0.10038823 0.09650595 0.0878397  0.09014402 0.08681277 0.08969317\n",
            " 0.08090169 0.08583594 0.08806512 0.09129618 0.09031935 0.09009393\n",
            " 0.08683782 0.085335   0.09247339 0.09517846 0.09946149 0.10499687\n",
            " 0.10624922 0.10680025 0.10482154 0.10469631 0.1063995  0.10522229\n",
            " 0.11453976 0.10760175 0.10549781 0.10815279 0.11183469 0.1105072\n",
            " 0.1113087  0.10920476 0.1101315  0.10289292 0.10276769 0.10807765\n",
            " 0.10810269 0.11060739 0.11684408 0.12781465 0.13452724 0.13570445\n",
            " 0.13668128 0.13800877 0.12800671 0.13092479 0.13345529 0.13561444\n",
            " 0.13748258 0.13915034 0.14069487 0.14217329 0.14362343 0.14506827\n",
            " 0.14652063 0.14798677 0.14946917 0.1509686  0.15248485 0.15401755\n",
            " 0.15556636 0.15713103 0.15871136 0.16030738]\n",
            "20 day output [[0.16191909]]\n",
            "21 day input [0.10073889 0.09843456 0.09830933 0.09708203 0.09773325 0.10532248\n",
            " 0.10584847 0.11090795 0.10857858 0.0989856  0.09983719 0.10356919\n",
            " 0.10737633 0.10715091 0.10399499 0.10194114 0.10459612 0.11591735\n",
            " 0.11268629 0.11438948 0.11724483 0.11887289 0.12485911 0.12090169\n",
            " 0.11829681 0.10552286 0.10697558 0.10339386 0.10567314 0.10507201\n",
            " 0.09823419 0.09041954 0.09164684 0.0977082  0.10016281 0.10038823\n",
            " 0.09650595 0.0878397  0.09014402 0.08681277 0.08969317 0.08090169\n",
            " 0.08583594 0.08806512 0.09129618 0.09031935 0.09009393 0.08683782\n",
            " 0.085335   0.09247339 0.09517846 0.09946149 0.10499687 0.10624922\n",
            " 0.10680025 0.10482154 0.10469631 0.1063995  0.10522229 0.11453976\n",
            " 0.10760175 0.10549781 0.10815279 0.11183469 0.1105072  0.1113087\n",
            " 0.10920476 0.1101315  0.10289292 0.10276769 0.10807765 0.10810269\n",
            " 0.11060739 0.11684408 0.12781465 0.13452724 0.13570445 0.13668128\n",
            " 0.13800877 0.12800671 0.13092479 0.13345529 0.13561444 0.13748258\n",
            " 0.13915034 0.14069487 0.14217329 0.14362343 0.14506827 0.14652063\n",
            " 0.14798677 0.14946917 0.1509686  0.15248485 0.15401755 0.15556636\n",
            " 0.15713103 0.15871136 0.16030738 0.16191909]\n",
            "21 day output [[0.1635466]]\n",
            "22 day input [0.09843456 0.09830933 0.09708203 0.09773325 0.10532248 0.10584847\n",
            " 0.11090795 0.10857858 0.0989856  0.09983719 0.10356919 0.10737633\n",
            " 0.10715091 0.10399499 0.10194114 0.10459612 0.11591735 0.11268629\n",
            " 0.11438948 0.11724483 0.11887289 0.12485911 0.12090169 0.11829681\n",
            " 0.10552286 0.10697558 0.10339386 0.10567314 0.10507201 0.09823419\n",
            " 0.09041954 0.09164684 0.0977082  0.10016281 0.10038823 0.09650595\n",
            " 0.0878397  0.09014402 0.08681277 0.08969317 0.08090169 0.08583594\n",
            " 0.08806512 0.09129618 0.09031935 0.09009393 0.08683782 0.085335\n",
            " 0.09247339 0.09517846 0.09946149 0.10499687 0.10624922 0.10680025\n",
            " 0.10482154 0.10469631 0.1063995  0.10522229 0.11453976 0.10760175\n",
            " 0.10549781 0.10815279 0.11183469 0.1105072  0.1113087  0.10920476\n",
            " 0.1101315  0.10289292 0.10276769 0.10807765 0.10810269 0.11060739\n",
            " 0.11684408 0.12781465 0.13452724 0.13570445 0.13668128 0.13800877\n",
            " 0.12800671 0.13092479 0.13345529 0.13561444 0.13748258 0.13915034\n",
            " 0.14069487 0.14217329 0.14362343 0.14506827 0.14652063 0.14798677\n",
            " 0.14946917 0.1509686  0.15248485 0.15401755 0.15556636 0.15713103\n",
            " 0.15871136 0.16030738 0.16191909 0.16354661]\n",
            "22 day output [[0.16519009]]\n",
            "23 day input [0.09830933 0.09708203 0.09773325 0.10532248 0.10584847 0.11090795\n",
            " 0.10857858 0.0989856  0.09983719 0.10356919 0.10737633 0.10715091\n",
            " 0.10399499 0.10194114 0.10459612 0.11591735 0.11268629 0.11438948\n",
            " 0.11724483 0.11887289 0.12485911 0.12090169 0.11829681 0.10552286\n",
            " 0.10697558 0.10339386 0.10567314 0.10507201 0.09823419 0.09041954\n",
            " 0.09164684 0.0977082  0.10016281 0.10038823 0.09650595 0.0878397\n",
            " 0.09014402 0.08681277 0.08969317 0.08090169 0.08583594 0.08806512\n",
            " 0.09129618 0.09031935 0.09009393 0.08683782 0.085335   0.09247339\n",
            " 0.09517846 0.09946149 0.10499687 0.10624922 0.10680025 0.10482154\n",
            " 0.10469631 0.1063995  0.10522229 0.11453976 0.10760175 0.10549781\n",
            " 0.10815279 0.11183469 0.1105072  0.1113087  0.10920476 0.1101315\n",
            " 0.10289292 0.10276769 0.10807765 0.10810269 0.11060739 0.11684408\n",
            " 0.12781465 0.13452724 0.13570445 0.13668128 0.13800877 0.12800671\n",
            " 0.13092479 0.13345529 0.13561444 0.13748258 0.13915034 0.14069487\n",
            " 0.14217329 0.14362343 0.14506827 0.14652063 0.14798677 0.14946917\n",
            " 0.1509686  0.15248485 0.15401755 0.15556636 0.15713103 0.15871136\n",
            " 0.16030738 0.16191909 0.16354661 0.16519009]\n",
            "23 day output [[0.1668496]]\n",
            "24 day input [0.09708203 0.09773325 0.10532248 0.10584847 0.11090795 0.10857858\n",
            " 0.0989856  0.09983719 0.10356919 0.10737633 0.10715091 0.10399499\n",
            " 0.10194114 0.10459612 0.11591735 0.11268629 0.11438948 0.11724483\n",
            " 0.11887289 0.12485911 0.12090169 0.11829681 0.10552286 0.10697558\n",
            " 0.10339386 0.10567314 0.10507201 0.09823419 0.09041954 0.09164684\n",
            " 0.0977082  0.10016281 0.10038823 0.09650595 0.0878397  0.09014402\n",
            " 0.08681277 0.08969317 0.08090169 0.08583594 0.08806512 0.09129618\n",
            " 0.09031935 0.09009393 0.08683782 0.085335   0.09247339 0.09517846\n",
            " 0.09946149 0.10499687 0.10624922 0.10680025 0.10482154 0.10469631\n",
            " 0.1063995  0.10522229 0.11453976 0.10760175 0.10549781 0.10815279\n",
            " 0.11183469 0.1105072  0.1113087  0.10920476 0.1101315  0.10289292\n",
            " 0.10276769 0.10807765 0.10810269 0.11060739 0.11684408 0.12781465\n",
            " 0.13452724 0.13570445 0.13668128 0.13800877 0.12800671 0.13092479\n",
            " 0.13345529 0.13561444 0.13748258 0.13915034 0.14069487 0.14217329\n",
            " 0.14362343 0.14506827 0.14652063 0.14798677 0.14946917 0.1509686\n",
            " 0.15248485 0.15401755 0.15556636 0.15713103 0.15871136 0.16030738\n",
            " 0.16191909 0.16354661 0.16519009 0.1668496 ]\n",
            "24 day output [[0.16852541]]\n",
            "25 day input [0.09773325 0.10532248 0.10584847 0.11090795 0.10857858 0.0989856\n",
            " 0.09983719 0.10356919 0.10737633 0.10715091 0.10399499 0.10194114\n",
            " 0.10459612 0.11591735 0.11268629 0.11438948 0.11724483 0.11887289\n",
            " 0.12485911 0.12090169 0.11829681 0.10552286 0.10697558 0.10339386\n",
            " 0.10567314 0.10507201 0.09823419 0.09041954 0.09164684 0.0977082\n",
            " 0.10016281 0.10038823 0.09650595 0.0878397  0.09014402 0.08681277\n",
            " 0.08969317 0.08090169 0.08583594 0.08806512 0.09129618 0.09031935\n",
            " 0.09009393 0.08683782 0.085335   0.09247339 0.09517846 0.09946149\n",
            " 0.10499687 0.10624922 0.10680025 0.10482154 0.10469631 0.1063995\n",
            " 0.10522229 0.11453976 0.10760175 0.10549781 0.10815279 0.11183469\n",
            " 0.1105072  0.1113087  0.10920476 0.1101315  0.10289292 0.10276769\n",
            " 0.10807765 0.10810269 0.11060739 0.11684408 0.12781465 0.13452724\n",
            " 0.13570445 0.13668128 0.13800877 0.12800671 0.13092479 0.13345529\n",
            " 0.13561444 0.13748258 0.13915034 0.14069487 0.14217329 0.14362343\n",
            " 0.14506827 0.14652063 0.14798677 0.14946917 0.1509686  0.15248485\n",
            " 0.15401755 0.15556636 0.15713103 0.15871136 0.16030738 0.16191909\n",
            " 0.16354661 0.16519009 0.1668496  0.16852541]\n",
            "25 day output [[0.17021751]]\n",
            "26 day input [0.10532248 0.10584847 0.11090795 0.10857858 0.0989856  0.09983719\n",
            " 0.10356919 0.10737633 0.10715091 0.10399499 0.10194114 0.10459612\n",
            " 0.11591735 0.11268629 0.11438948 0.11724483 0.11887289 0.12485911\n",
            " 0.12090169 0.11829681 0.10552286 0.10697558 0.10339386 0.10567314\n",
            " 0.10507201 0.09823419 0.09041954 0.09164684 0.0977082  0.10016281\n",
            " 0.10038823 0.09650595 0.0878397  0.09014402 0.08681277 0.08969317\n",
            " 0.08090169 0.08583594 0.08806512 0.09129618 0.09031935 0.09009393\n",
            " 0.08683782 0.085335   0.09247339 0.09517846 0.09946149 0.10499687\n",
            " 0.10624922 0.10680025 0.10482154 0.10469631 0.1063995  0.10522229\n",
            " 0.11453976 0.10760175 0.10549781 0.10815279 0.11183469 0.1105072\n",
            " 0.1113087  0.10920476 0.1101315  0.10289292 0.10276769 0.10807765\n",
            " 0.10810269 0.11060739 0.11684408 0.12781465 0.13452724 0.13570445\n",
            " 0.13668128 0.13800877 0.12800671 0.13092479 0.13345529 0.13561444\n",
            " 0.13748258 0.13915034 0.14069487 0.14217329 0.14362343 0.14506827\n",
            " 0.14652063 0.14798677 0.14946917 0.1509686  0.15248485 0.15401755\n",
            " 0.15556636 0.15713103 0.15871136 0.16030738 0.16191909 0.16354661\n",
            " 0.16519009 0.1668496  0.16852541 0.17021751]\n",
            "26 day output [[0.17192622]]\n",
            "27 day input [0.10584847 0.11090795 0.10857858 0.0989856  0.09983719 0.10356919\n",
            " 0.10737633 0.10715091 0.10399499 0.10194114 0.10459612 0.11591735\n",
            " 0.11268629 0.11438948 0.11724483 0.11887289 0.12485911 0.12090169\n",
            " 0.11829681 0.10552286 0.10697558 0.10339386 0.10567314 0.10507201\n",
            " 0.09823419 0.09041954 0.09164684 0.0977082  0.10016281 0.10038823\n",
            " 0.09650595 0.0878397  0.09014402 0.08681277 0.08969317 0.08090169\n",
            " 0.08583594 0.08806512 0.09129618 0.09031935 0.09009393 0.08683782\n",
            " 0.085335   0.09247339 0.09517846 0.09946149 0.10499687 0.10624922\n",
            " 0.10680025 0.10482154 0.10469631 0.1063995  0.10522229 0.11453976\n",
            " 0.10760175 0.10549781 0.10815279 0.11183469 0.1105072  0.1113087\n",
            " 0.10920476 0.1101315  0.10289292 0.10276769 0.10807765 0.10810269\n",
            " 0.11060739 0.11684408 0.12781465 0.13452724 0.13570445 0.13668128\n",
            " 0.13800877 0.12800671 0.13092479 0.13345529 0.13561444 0.13748258\n",
            " 0.13915034 0.14069487 0.14217329 0.14362343 0.14506827 0.14652063\n",
            " 0.14798677 0.14946917 0.1509686  0.15248485 0.15401755 0.15556636\n",
            " 0.15713103 0.15871136 0.16030738 0.16191909 0.16354661 0.16519009\n",
            " 0.1668496  0.16852541 0.17021751 0.17192622]\n",
            "27 day output [[0.17365164]]\n",
            "28 day input [0.11090795 0.10857858 0.0989856  0.09983719 0.10356919 0.10737633\n",
            " 0.10715091 0.10399499 0.10194114 0.10459612 0.11591735 0.11268629\n",
            " 0.11438948 0.11724483 0.11887289 0.12485911 0.12090169 0.11829681\n",
            " 0.10552286 0.10697558 0.10339386 0.10567314 0.10507201 0.09823419\n",
            " 0.09041954 0.09164684 0.0977082  0.10016281 0.10038823 0.09650595\n",
            " 0.0878397  0.09014402 0.08681277 0.08969317 0.08090169 0.08583594\n",
            " 0.08806512 0.09129618 0.09031935 0.09009393 0.08683782 0.085335\n",
            " 0.09247339 0.09517846 0.09946149 0.10499687 0.10624922 0.10680025\n",
            " 0.10482154 0.10469631 0.1063995  0.10522229 0.11453976 0.10760175\n",
            " 0.10549781 0.10815279 0.11183469 0.1105072  0.1113087  0.10920476\n",
            " 0.1101315  0.10289292 0.10276769 0.10807765 0.10810269 0.11060739\n",
            " 0.11684408 0.12781465 0.13452724 0.13570445 0.13668128 0.13800877\n",
            " 0.12800671 0.13092479 0.13345529 0.13561444 0.13748258 0.13915034\n",
            " 0.14069487 0.14217329 0.14362343 0.14506827 0.14652063 0.14798677\n",
            " 0.14946917 0.1509686  0.15248485 0.15401755 0.15556636 0.15713103\n",
            " 0.15871136 0.16030738 0.16191909 0.16354661 0.16519009 0.1668496\n",
            " 0.16852541 0.17021751 0.17192622 0.17365164]\n",
            "28 day output [[0.17539406]]\n",
            "29 day input [0.10857858 0.0989856  0.09983719 0.10356919 0.10737633 0.10715091\n",
            " 0.10399499 0.10194114 0.10459612 0.11591735 0.11268629 0.11438948\n",
            " 0.11724483 0.11887289 0.12485911 0.12090169 0.11829681 0.10552286\n",
            " 0.10697558 0.10339386 0.10567314 0.10507201 0.09823419 0.09041954\n",
            " 0.09164684 0.0977082  0.10016281 0.10038823 0.09650595 0.0878397\n",
            " 0.09014402 0.08681277 0.08969317 0.08090169 0.08583594 0.08806512\n",
            " 0.09129618 0.09031935 0.09009393 0.08683782 0.085335   0.09247339\n",
            " 0.09517846 0.09946149 0.10499687 0.10624922 0.10680025 0.10482154\n",
            " 0.10469631 0.1063995  0.10522229 0.11453976 0.10760175 0.10549781\n",
            " 0.10815279 0.11183469 0.1105072  0.1113087  0.10920476 0.1101315\n",
            " 0.10289292 0.10276769 0.10807765 0.10810269 0.11060739 0.11684408\n",
            " 0.12781465 0.13452724 0.13570445 0.13668128 0.13800877 0.12800671\n",
            " 0.13092479 0.13345529 0.13561444 0.13748258 0.13915034 0.14069487\n",
            " 0.14217329 0.14362343 0.14506827 0.14652063 0.14798677 0.14946917\n",
            " 0.1509686  0.15248485 0.15401755 0.15556636 0.15713103 0.15871136\n",
            " 0.16030738 0.16191909 0.16354661 0.16519009 0.1668496  0.16852541\n",
            " 0.17021751 0.17192622 0.17365164 0.17539406]\n",
            "29 day output [[0.17715356]]\n",
            "[[0.128006711602211], [0.130924791097641], [0.133455291390419], [0.13561443984508514], [0.13748258352279663], [0.13915033638477325], [0.14069487154483795], [0.14217329025268555], [0.14362342655658722], [0.14506827294826508], [0.14652062952518463], [0.1479867696762085], [0.14946916699409485], [0.15096859633922577], [0.15248484909534454], [0.15401755273342133], [0.15556636452674866], [0.15713103115558624], [0.15871135890483856], [0.160307377576828], [0.16191908717155457], [0.1635466068983078], [0.16519008576869965], [0.16684959828853607], [0.16852541267871857], [0.17021751403808594], [0.17192621529102325], [0.17365163564682007], [0.17539405822753906], [0.1771535575389862]]\n"
          ]
        }
      ]
    },
    {
      "cell_type": "code",
      "metadata": {
        "id": "3Rd0Mt7sn7-F"
      },
      "source": [
        "day_new=np.arange(1,100)\n",
        "day_pred=np.arange(101,131)"
      ],
      "execution_count": 161,
      "outputs": []
    },
    {
      "cell_type": "code",
      "metadata": {
        "colab": {
          "base_uri": "https://localhost:8080/"
        },
        "id": "QIcuW5RAoCBT",
        "outputId": "9e90b187-f978-45e9-c624-dd40a28a2a28"
      },
      "source": [
        "import matplotlib.pyplot as plt\n",
        "len(df1)"
      ],
      "execution_count": 162,
      "outputs": [
        {
          "output_type": "execute_result",
          "data": {
            "text/plain": [
              "1258"
            ]
          },
          "metadata": {},
          "execution_count": 162
        }
      ]
    },
    {
      "cell_type": "code",
      "metadata": {
        "colab": {
          "base_uri": "https://localhost:8080/",
          "height": 282
        },
        "id": "lnESsCaWoEIu",
        "outputId": "fd6d50df-ceda-4239-90ae-96a079f4ec96"
      },
      "source": [
        "plt.plot(day_new,scaler.inverse_transform(df1[1159:]))\n",
        "plt.plot(day_pred,scaler.inverse_transform(lst_output))"
      ],
      "execution_count": 163,
      "outputs": [
        {
          "output_type": "execute_result",
          "data": {
            "text/plain": [
              "[<matplotlib.lines.Line2D at 0x7fccc9781510>]"
            ]
          },
          "metadata": {},
          "execution_count": 163
        },
        {
          "output_type": "display_data",
          "data": {
            "image/png": "[encoded data removed]",
            "text/plain": [
              "<Figure size 432x288 with 1 Axes>"
            ]
          },
          "metadata": {
            "needs_background": "light"
          }
        }
      ]
    },
    {
      "cell_type": "code",
      "metadata": {
        "colab": {
          "base_uri": "https://localhost:8080/",
          "height": 282
        },
        "id": "-j_PMXENoMZP",
        "outputId": "e7f02901-7df6-4159-fe81-ea2de1ce1499"
      },
      "source": [
        "df3=df1.tolist()\n",
        "df3.extend(lst_output)\n",
        "plt.plot(df3[1200:])"
      ],
      "execution_count": 164,
      "outputs": [
        {
          "output_type": "execute_result",
          "data": {
            "text/plain": [
              "[<matplotlib.lines.Line2D at 0x7fccc978c910>]"
            ]
          },
          "metadata": {},
          "execution_count": 164
        },
        {
          "output_type": "display_data",
          "data": {
            "image/png": "[encoded data removed]",
            "text/plain": [
              "<Figure size 432x288 with 1 Axes>"
            ]
          },
          "metadata": {
            "needs_background": "light"
          }
        }
      ]
    },
    {
      "cell_type": "code",
      "metadata": {
        "id": "0p3wvNGcoR7n"
      },
      "source": [
        "df3=scaler.inverse_transform(df3).tolist()"
      ],
      "execution_count": 165,
      "outputs": []
    },
    {
      "cell_type": "code",
      "metadata": {
        "colab": {
          "base_uri": "https://localhost:8080/"
        },
        "id": "h62Z3eQlK7o0",
        "outputId": "15af6c3f-0249-479a-849f-5a0abf15f7d2"
      },
      "source": [
        "len(df3)"
      ],
      "execution_count": 166,
      "outputs": [
        {
          "output_type": "execute_result",
          "data": {
            "text/plain": [
              "1288"
            ]
          },
          "metadata": {},
          "execution_count": 166
        }
      ]
    },
    {
      "cell_type": "code",
      "metadata": {
        "colab": {
          "base_uri": "https://localhost:8080/",
          "height": 320
        },
        "id": "MrfktW9ooUH-",
        "outputId": "b84df4b2-4e11-4332-857a-a0ca4fde87aa"
      },
      "source": [
        "print(df3)\n",
        "plt.plot(df3)"
      ],
      "execution_count": 167,
      "outputs": [
        {
          "output_type": "stream",
          "name": "stdout",
          "text": [
            "[[111.57], [111.46], [110.52], [109.49], [109.9], [109.11], [109.95000000000002], [111.02999999999999], [112.12000000000002], [113.95], [113.3], [115.19000000000001], [115.19000000000001], [115.82], [115.97], [116.63999999999999], [116.95], [117.06], [116.29], [116.52], [117.26], [116.76], [116.73], [115.82], [116.15000000000002], [116.02], [116.61], [117.91000000000001], [118.99], [119.11], [119.74999999999999], [119.25], [119.04], [120.0], [119.99000000000001], [119.78], [120.0], [120.07999999999998], [119.96999999999998], [121.87999999999998], [121.94000000000001], [121.95], [121.63], [121.35000000000001], [128.75], [128.53], [129.08], [130.29], [131.53], [132.04], [132.42], [132.12], [133.29], [135.02], [135.51], [135.345], [135.72], [136.7], [137.11], [136.53], [136.66], [136.93], [136.99], [139.79], [138.96], [139.78], [139.34], [139.52], [139.0], [138.68], [139.14], [139.2], [138.99], [140.46], [140.69], [139.99], [141.46], [139.84], [141.42], [140.92], [140.64], [140.88], [143.8], [144.12], [143.93], [143.66], [143.7], [144.77], [144.02], [143.66], [143.34], [143.17], [141.63], [141.8], [141.05], [141.83], [141.2], [140.68], [142.44], [142.27], [143.64], [144.53], [143.68], [143.79], [143.65], [146.58], [147.51], [147.06], [146.53], [148.96], [153.01], [153.99], [153.26], [153.95], [156.1], [155.7], [155.47], [150.25], [152.54], [153.06], [153.99], [153.8], [153.34], [153.87], [153.61], [153.67], [152.76], [153.18], [155.45], [153.93], [154.45], [155.37], [154.99], [148.98], [145.42], [146.59], [145.16], [144.29], [142.27], [146.34], [145.01], [145.87], [145.63], [146.28], [145.82], [143.73], [145.83], [143.68], [144.02], [143.5], [144.09], [142.73], [144.18], [145.06], [145.53], [145.74], [147.77], [149.04], [149.56], [150.08], [151.02], [150.34], [150.27], [152.09], [152.74], [153.46], [150.56], [149.5], [148.73], [150.05], [157.14], [155.57], [156.39], [158.81], [160.08], [161.059998], [155.32], [157.48], [159.85], [161.6], [160.95], [157.86], [157.5], [157.21], [159.78], [159.98], [159.27], [159.86], [161.47], [162.91], [163.35], [164.0], [164.05], [162.08], [161.91], [161.26], [158.63], [161.5], [160.86], [159.65], [158.28], [159.88], [158.67], [158.73], [156.07], [153.39], [151.89], [150.55], [153.14], [154.23], [153.28], [154.12], [153.81], [154.48], [153.48], [155.39], [155.3], [155.84], [155.9], [156.55], [156.0], [156.99], [159.88], [160.47], [159.76], [155.98], [156.25], [156.17], [157.1], [156.41], [157.41], [163.05], [166.72], [169.04], [166.89], [168.11], [172.5], [174.25], [174.81], [176.24], [175.88], [174.67], [173.97], [171.34], [169.08], [171.1], [170.15], [169.98], [173.14], [174.96], [174.97], [174.09], [173.07], [169.48], [171.85], [171.05], [169.8], [169.64], [169.01], [169.32], [169.37], [172.67], [171.7], [172.27], [172.22], [173.97], [176.42], [174.54], [174.35], [175.01], [175.01], [170.57], [170.6], [171.08], [169.23], [172.26], [172.23], [173.03], [175.0], [174.35], [174.33], [174.29], [175.28], [177.09], [176.19], [179.1], [179.26], [178.46], [177.0], [177.04], [174.22], [171.11], [171.51], [167.96], [166.97], [167.43], [167.78], [160.5], [156.49], [163.03], [159.54], [155.15], [156.41], [162.71], [164.34], [167.37], [172.99], [172.43], [171.85], [171.07], [172.5], [175.5], [178.97], [178.39], [178.12], [175.0], [176.21], [176.82], [176.67], [175.03], [176.94], [179.98], [181.72], [179.97], [178.44], [178.65], [178.02], [175.3], [175.24], [171.27], [168.85], [164.94], [172.77], [168.34], [166.48], [167.78], [166.68], [168.39], [171.61], [172.8], [168.38], [170.05], [173.25], [172.44], [174.14], [174.73], [175.82], [178.24], [177.84], [172.8], [165.72], [165.24], [162.94], [163.65], [164.22], [162.32], [165.26], [169.1], [176.57], [176.89], [183.83], [185.16], [186.05], [187.36], [190.04], [188.59], [188.15], [186.44], [188.18], [186.99], [186.31], [187.63], [187.16], [188.36], [188.15], [188.58], [187.9], [187.5], [186.87], [190.24], [191.83], [193.31], [193.98], [193.46], [191.7], [191.23], [192.28], [190.7], [190.8], [188.84], [188.74], [185.69], [186.5], [185.46], [184.92], [182.17], [184.43], [184.16], [185.5], [185.11], [187.18], [183.92], [185.4], [187.97], [190.58], [190.35], [187.88], [191.03], [191.33], [190.91], [191.45], [190.4], [191.88], [191.44], [191.61], [193.0], [194.82], [194.21], [190.98], [189.91], [190.29], [201.49999999999997], [207.39], [207.99], [209.07], [207.10999999999999], [207.25], [208.88], [207.53], [208.87], [209.75], [210.24], [213.32], [217.57999999999998], [215.46], [215.04000000000002], [215.05], [215.49], [216.16], [217.93999999999997], [219.69999999999996], [222.98000000000002], [225.03000000000003], [227.62999999999997], [228.35999999999999], [226.87000000000003], [223.1], [221.30000000000004], [218.32999999999998], [223.85000000000002], [221.07], [226.41], [223.84], [217.88], [218.23999999999998], [218.37000000000003], [220.03], [217.66], [220.78999999999996], [222.18999999999997], [220.42], [224.95000000000002], [225.74], [227.26], [229.28000000000003], [232.07], [227.99], [224.29000000000002], [223.77], [226.87000000000003], [216.36], [214.45], [222.11], [217.35999999999999], [222.15], [221.19], [216.02], [219.31], [220.64999999999998], [222.73], [215.08999999999997], [219.8], [216.30000000000004], [212.23999999999998], [213.3], [218.86], [222.22], [207.48], [201.58999999999997], [203.77000000000004], [209.95], [208.49], [204.47], [194.17], [192.23], [186.8], [191.41], [193.53], [185.86], [176.98], [176.78], [172.29], [174.62], [174.24], [180.94], [179.55], [178.58], [184.82], [176.69], [174.72], [168.49], [169.6], [168.63], [169.1], [170.95], [165.48], [163.94], [166.07], [160.89], [156.83], [150.73], [146.83], [157.17], [156.15], [156.23], [157.74], [157.92], [142.19], [148.26], [147.93], [150.75], [153.31], [153.8], [152.29], [150.0], [153.07], [154.94], [155.86], [156.82], [153.3], [153.92], [152.7], [157.76], [156.3], [154.68], [165.25], [166.44], [166.52], [171.25], [174.18], [174.24], [170.94], [170.41], [169.43], [170.89], [170.18], [170.8], [170.42], [170.93], [172.03], [171.06], [172.97], [174.23], [174.33], [174.87], [173.15], [174.97], [175.85], [175.53], [174.52], [172.5], [172.91], [178.9], [180.91], [181.71], [183.73], [186.12], [188.02], [186.53], [188.16], [195.09], [191.05], [188.74], [186.79], [188.47], [188.72], [189.95], [191.24], [194.02], [195.35], [195.69], [197.0], [200.10000000000002], [199.5], [200.62000000000003], [198.95], [198.87], [199.23], [199.25], [203.12999999999997], [203.85999999999999], [204.52999999999997], [207.48], [207.15999999999997], [205.28], [204.29999999999998], [204.60999999999999], [200.67000000000002], [210.52000000000004], [209.15], [211.75000000000003], [208.47999999999996], [202.86], [202.89999999999998], [200.72], [197.18], [185.72], [188.66], [190.92], [190.08], [189.0], [183.09], [186.6], [182.78], [179.66], [178.97], [178.23], [177.38], [178.3], [175.07], [173.3], [179.64], [182.54], [185.22], [190.15], [192.58], [194.81], [194.19], [194.15], [192.74], [193.89], [198.45], [197.87], [199.46], [198.78], [198.58], [195.57], [199.8], [199.74000000000004], [197.92], [201.55], [202.73000000000002], [204.41], [204.22999999999996], [200.02], [201.24], [203.23], [201.75], [203.3], [205.21], [204.5], [203.34999999999997], [205.66000000000003], [202.59000000000003], [207.22], [208.84], [208.67], [207.01999999999998], [207.74], [209.68], [208.77999999999997], [213.04], [208.43], [204.02], [193.34], [197.0], [199.04], [203.42999999999998], [200.99], [200.48], [208.97], [202.75], [201.74], [206.49999999999997], [210.35000000000002], [210.36], [212.63999999999996], [212.45999999999998], [202.64000000000001], [206.49000000000004], [204.16], [205.53000000000003], [209.01], [208.74], [205.7], [209.19], [213.28], [213.26], [214.17000000000002], [216.7], [223.58999999999997], [223.09], [218.75], [219.90000000000003], [220.70000000000002], [222.77], [220.95999999999998], [217.73], [218.72000000000003], [217.68], [221.03], [219.89], [218.81999999999996], [223.97], [224.59000000000003], [218.96], [220.82], [227.01000000000002], [227.06], [224.4], [227.03], [230.09], [236.20999999999998], [235.87], [235.32], [234.36999999999998], [235.28], [236.41], [240.51000000000002], [239.96], [243.17999999999998], [243.58], [246.58], [249.04999999999998], [243.29], [243.26], [248.76], [255.82], [257.5], [257.13], [257.24], [259.43], [260.14], [262.2], [261.96], [264.47], [262.64], [265.76], [267.1], [266.29], [263.19], [262.01], [261.78], [266.37], [264.29], [267.84], [267.25], [264.16], [259.45], [261.74], [265.58], [270.71], [266.92], [268.48], [270.77], [271.46], [275.15], [279.86], [280.41], [279.74], [280.02], [279.44], [284.0], [284.27], [289.91], [289.8], [291.52], [293.65], [300.35], [297.43], [299.8], [298.39], [303.19], [309.63], [310.33000000000004], [316.96], [312.68], [311.34000000000003], [315.24000000000007], [318.73], [316.57], [317.7], [319.2300000000001], [318.31], [308.95], [317.69], [324.34], [323.87], [309.51000000000005], [308.6600000000001], [318.85], [321.45000000000005], [325.21000000000004], [320.03], [321.55], [319.61], [327.20000000000005], [324.87000000000006], [324.95000000000005], [319.0], [323.62], [320.3], [313.05], [298.18], [288.08], [292.65], [273.52], [273.36], [298.81], [289.32], [302.74], [292.92], [289.03], [266.17], [285.34], [275.43], [248.22999999999996], [277.97], [242.21000000000004], [252.85999999999999], [246.67], [244.78], [229.23999999999998], [224.37000000000003], [246.88], [245.52], [258.44], [247.73999999999998], [254.81], [254.29], [240.90999999999997], [244.92999999999998], [241.41], [262.47], [259.43], [266.07], [267.99], [273.25], [287.05], [284.43], [286.69], [282.8], [276.93], [268.37], [276.1], [275.03], [282.97], [283.17], [278.58], [287.73], [293.8], [289.07], [293.16], [297.56], [300.63], [303.74], [310.13000000000005], [315.01], [311.41], [307.65], [309.5400000000001], [307.71], [314.96], [313.14], [319.2300000000001], [316.8500000000001], [318.89000000000004], [316.73], [318.11000000000007], [318.25], [317.94], [321.8500000000001], [323.34000000000003], [325.12], [322.32], [331.5], [333.46], [343.99], [352.84], [335.9], [338.8], [342.99000000000007], [352.08000000000004], [351.59000000000003], [351.73], [349.72], [358.87000000000006], [366.53], [360.06000000000006], [364.84], [353.63], [361.78], [364.8], [364.11000000000007], [364.11000000000007], [373.8500000000001], [372.69], [381.37], [383.01], [383.68], [381.9100000000001], [388.2300000000001], [390.90000000000003], [386.09], [385.31], [393.43], [388.00000000000006], [389.09], [371.38000000000005], [370.46], [379.24000000000007], [373.01], [380.16], [384.76000000000005], [425.04], [435.74999999999994], [438.6600000000001], [440.25], [455.61], [444.45], [450.91], [437.5], [452.04], [460.0400000000001], [459.63], [458.43000000000006], [462.25], [462.83000000000004], [473.1000000000001], [497.4800000000001], [503.43], [499.3], [506.09], [500.04], [499.23], [129.04], [134.18], [131.4], [120.88], [120.95999999999998], [112.82], [117.32000000000001], [113.49], [112.0], [115.355], [115.53999999999999], [112.13], [110.34], [106.84000000000002], [110.08], [111.81], [107.12], [108.22000000000001], [112.28], [114.96], [114.09000000000002], [115.81], [116.78999999999999], [113.02], [116.5], [113.16], [115.08000000000001], [114.97000000000001], [116.96999999999998], [124.4], [121.1], [121.19], [120.71], [119.02], [115.97999999999999], [117.51000000000002], [116.87], [115.75], [115.04], [115.05], [116.59999999999998], [111.20000000000002], [115.32], [108.85999999999999], [108.77000000000001], [110.43999999999998], [114.94999999999999], [119.03], [118.69], [116.32], [115.97], [119.48999999999998], [119.21], [119.26], [120.29999999999998], [119.39], [118.03], [118.64], [117.33999999999999], [113.85], [115.16999999999999], [116.03], [116.59000000000002], [119.04999999999998], [122.72], [123.08000000000001], [122.94], [122.24999999999999], [123.75], [124.38], [121.78], [123.23999999999998], [122.41], [121.78], [127.88000000000001], [127.81000000000002], [128.7], [126.65499999999999], [128.23], [131.88], [130.96], [131.97], [136.69], [134.87], [133.72], [132.69], [129.41], [131.01], [126.6], [130.92], [132.05], [128.98], [128.8], [130.89], [128.91], [127.14], [127.83], [132.03], [136.87], [139.07], [142.92], [143.16], [142.06], [137.09], [131.96], [134.14], [134.99], [133.94], [137.39], [136.76], [136.91], [136.01], [135.39], [135.13], [135.37], [133.19], [130.84], [129.71], [129.87], [126.0], [125.86000000000001], [125.35], [120.99], [121.25999999999999], [127.78999999999999], [125.12], [122.06], [120.13], [121.42], [116.36], [121.085], [119.98], [121.96], [121.03], [123.99], [125.57], [124.76], [120.53], [119.99000000000001], [123.38999999999999], [122.54], [120.09], [120.59], [121.21], [121.39000000000001], [119.89999999999999], [122.15], [123.0], [125.9], [126.21], [127.89999999999999], [130.36], [132.995], [131.24], [134.43], [132.03], [134.5], [134.16], [134.84], [133.11], [133.5], [131.94], [134.32], [134.72], [134.39], [133.58], [133.48], [131.46], [132.54], [127.85], [128.1], [129.74], [130.21], [126.85000000000001], [125.90999999999998], [122.77], [124.97], [127.45], [126.27], [124.85], [124.69], [127.30999999999999], [125.43], [127.1], [126.9], [126.85000000000001], [125.28], [124.61], [124.28], [125.06], [123.53999999999999], [125.89], [125.9], [126.74000000000001], [127.13], [126.11], [127.35], [130.48], [129.64], [130.15], [131.79], [130.46], [132.3], [133.98], [133.7], [133.41], [133.11], [134.78], [136.33], [136.96], [137.27], [139.96], [142.02], [144.57], [143.24], [145.11], [144.5], [145.64], [149.15], [148.48], [146.39], [142.45], [146.15], [145.4], [146.8], [148.56], [148.99], [146.77], [144.98], [145.64], [145.86], [145.52], [147.36], [146.95], [147.06], [146.14], [146.09], [145.6], [145.86], [148.89], [149.1], [151.12], [150.19], [146.36], [146.7], [148.19], [149.71], [149.62], [148.36], [147.54], [148.6], [153.12], [151.83], [152.51], [153.65], [154.3], [156.69], [155.11], [154.07], [148.97], [149.55], [148.12], [149.03], [148.79], [146.06], [142.94], [143.43], [145.85], [146.83], [146.92], [145.37], [141.91], [142.83], [141.5], [142.65], [139.14], [141.11], [142.0], [143.29], [142.9], [142.81], [141.51], [140.91], [143.76], [144.84], [146.55], [148.76], [149.26], [149.48], [148.69], [148.64], [149.32], [148.85], [152.57], [149.8], [148.96], [150.02], [151.49], [150.96], [151.28], [150.44], [150.81], [147.92], [147.87], [149.99], [150.0], [151.0], [153.49], [157.87], [160.55], [161.02], [161.41], [161.94], [157.94667960718274], [159.11172284573317], [160.1220250876248], [160.98406510815025], [161.72992147147656], [162.39577180162073], [163.01242746427656], [163.6026861333847], [164.18165305271745], [164.75850797459483], [165.33836133792997], [165.92371779322625], [166.51556492239237], [167.1142120884359], [167.7195760013163], [168.33150792881847], [168.9498710373044], [169.5745641888678], [170.2055100427568], [170.84272049754858], [171.4861955532432], [172.13598280414942], [172.79214174315337], [173.45470211669806], [174.12377101197842], [174.79934247970584], [175.48154145494107], [176.17041553199294], [176.866077747345], [177.56855784744027]]\n"
          ]
        },
        {
          "output_type": "execute_result",
          "data": {
            "text/plain": [
              "[<matplotlib.lines.Line2D at 0x7fccca3a43d0>]"
            ]
          },
          "metadata": {},
          "execution_count": 167
        },
        {
          "output_type": "display_data",
          "data": {
            "image/png": "[encoded data removed]",
            "text/plain": [
              "<Figure size 432x288 with 1 Axes>"
            ]
          },
          "metadata": {
            "needs_background": "light"
          }
        }
      ]
    },
    {
      "cell_type": "code",
      "metadata": {
        "colab": {
          "base_uri": "https://localhost:8080/"
        },
        "id": "WxVc4rO6AL3y",
        "outputId": "6aa785be-55cd-4026-c9b1-d8855ff22aa6"
      },
      "source": [
        "df4=pd.DataFrame(df3, columns=['predict'])\n",
        "\n",
        "df=pd.read_csv(\"Stock.csv\")\n",
        "\n",
        "df=pd.concat([df,df4], axis=1)\n",
        "print(df)\n",
        "df.to_csv(\"predict.csv\")"
      ],
      "execution_count": 168,
      "outputs": [
        {
          "output_type": "stream",
          "name": "stdout",
          "text": [
            "     symbol                       date  ...  splitFactor     predict\n",
            "0      AAPL  2016-11-28 00:00:00+00:00  ...          1.0  111.570000\n",
            "1      AAPL  2016-11-29 00:00:00+00:00  ...          1.0  111.460000\n",
            "2      AAPL  2016-11-30 00:00:00+00:00  ...          1.0  110.520000\n",
            "3      AAPL  2016-12-01 00:00:00+00:00  ...          1.0  109.490000\n",
            "4      AAPL  2016-12-02 00:00:00+00:00  ...          1.0  109.900000\n",
            "...     ...                        ...  ...          ...         ...\n",
            "1283    NaN                        NaN  ...          NaN  174.799342\n",
            "1284    NaN                        NaN  ...          NaN  175.481541\n",
            "1285    NaN                        NaN  ...          NaN  176.170416\n",
            "1286    NaN                        NaN  ...          NaN  176.866078\n",
            "1287    NaN                        NaN  ...          NaN  177.568558\n",
            "\n",
            "[1288 rows x 15 columns]\n"
          ]
        }
      ]
    },
    {
      "cell_type": "code",
      "metadata": {
        "colab": {
          "base_uri": "https://localhost:8080/"
        },
        "id": "tL0iUZ9qzzqW",
        "outputId": "4d40698e-1db4-45ff-b955-76909f09390f"
      },
      "source": [
        "import datetime\n",
        "b=datetime.datetime.today()\n",
        "a = b- datetime.timedelta(days=1259)\n",
        "print(b,a)\n",
        "numdays = 1300\n",
        "dateList = []\n",
        "for x in range (0, numdays):\n",
        "    dateList.append(a + datetime.timedelta(days=x))\n",
        "print(dateList)"
      ],
      "execution_count": 169,
      "outputs": [
        {
          "output_type": "stream",
          "name": "stdout",
          "text": [
            "2021-11-26 14:39:03.056043 2018-06-16 14:39:03.056043\n",
            "[datetime.datetime(2018, 6, 16, 14, 39, 3, 56043), datetime.datetime(2018, 6, 17, 14, 39, 3, 56043), datetime.datetime(2018, 6, 18, 14, 39, 3, 56043), datetime.datetime(2018, 6, 19, 14, 39, 3, 56043), datetime.datetime(2018, 6, 20, 14, 39, 3, 56043), datetime.datetime(2018, 6, 21, 14, 39, 3, 56043), datetime.datetime(2018, 6, 22, 14, 39, 3, 56043), datetime.datetime(2018, 6, 23, 14, 39, 3, 56043), datetime.datetime(2018, 6, 24, 14, 39, 3, 56043), datetime.datetime(2018, 6, 25, 14, 39, 3, 56043), datetime.datetime(2018, 6, 26, 14, 39, 3, 56043), datetime.datetime(2018, 6, 27, 14, 39, 3, 56043), datetime.datetime(2018, 6, 28, 14, 39, 3, 56043), datetime.datetime(2018, 6, 29, 14, 39, 3, 56043), datetime.datetime(2018, 6, 30, 14, 39, 3, 56043), datetime.datetime(2018, 7, 1, 14, 39, 3, 56043), datetime.datetime(2018, 7, 2, 14, 39, 3, 56043), datetime.datetime(2018, 7, 3, 14, 39, 3, 56043), datetime.datetime(2018, 7, 4, 14, 39, 3, 56043), datetime.datetime(2018, 7, 5, 14, 39, 3, 56043), datetime.datetime(2018, 7, 6, 14, 39, 3, 56043), datetime.datetime(2018, 7, 7, 14, 39, 3, 56043), datetime.datetime(2018, 7, 8, 14, 39, 3, 56043), datetime.datetime(2018, 7, 9, 14, 39, 3, 56043), datetime.datetime(2018, 7, 10, 14, 39, 3, 56043), datetime.datetime(2018, 7, 11, 14, 39, 3, 56043), datetime.datetime(2018, 7, 12, 14, 39, 3, 56043), datetime.datetime(2018, 7, 13, 14, 39, 3, 56043), datetime.datetime(2018, 7, 14, 14, 39, 3, 56043), datetime.datetime(2018, 7, 15, 14, 39, 3, 56043), datetime.datetime(2018, 7, 16, 14, 39, 3, 56043), datetime.datetime(2018, 7, 17, 14, 39, 3, 56043), datetime.datetime(2018, 7, 18, 14, 39, 3, 56043), datetime.datetime(2018, 7, 19, 14, 39, 3, 56043), datetime.datetime(2018, 7, 20, 14, 39, 3, 56043), datetime.datetime(2018, 7, 21, 14, 39, 3, 56043), datetime.datetime(2018, 7, 22, 14, 39, 3, 56043), datetime.datetime(2018, 7, 23, 14, 39, 3, 56043), datetime.datetime(2018, 7, 24, 14, 39, 3, 56043), datetime.datetime(2018, 7, 25, 14, 39, 3, 56043), datetime.datetime(2018, 7, 26, 14, 39, 3, 56043), datetime.datetime(2018, 7, 27, 14, 39, 3, 56043), datetime.datetime(2018, 7, 28, 14, 39, 3, 56043), datetime.datetime(2018, 7, 29, 14, 39, 3, 56043), datetime.datetime(2018, 7, 30, 14, 39, 3, 56043), datetime.datetime(2018, 7, 31, 14, 39, 3, 56043), datetime.datetime(2018, 8, 1, 14, 39, 3, 56043), datetime.datetime(2018, 8, 2, 14, 39, 3, 56043), datetime.datetime(2018, 8, 3, 14, 39, 3, 56043), datetime.datetime(2018, 8, 4, 14, 39, 3, 56043), datetime.datetime(2018, 8, 5, 14, 39, 3, 56043), datetime.datetime(2018, 8, 6, 14, 39, 3, 56043), datetime.datetime(2018, 8, 7, 14, 39, 3, 56043), datetime.datetime(2018, 8, 8, 14, 39, 3, 56043), datetime.datetime(2018, 8, 9, 14, 39, 3, 56043), datetime.datetime(2018, 8, 10, 14, 39, 3, 56043), datetime.datetime(2018, 8, 11, 14, 39, 3, 56043), datetime.datetime(2018, 8, 12, 14, 39, 3, 56043), datetime.datetime(2018, 8, 13, 14, 39, 3, 56043), datetime.datetime(2018, 8, 14, 14, 39, 3, 56043), datetime.datetime(2018, 8, 15, 14, 39, 3, 56043), datetime.datetime(2018, 8, 16, 14, 39, 3, 56043), datetime.datetime(2018, 8, 17, 14, 39, 3, 56043), datetime.datetime(2018, 8, 18, 14, 39, 3, 56043), datetime.datetime(2018, 8, 19, 14, 39, 3, 56043), datetime.datetime(2018, 8, 20, 14, 39, 3, 56043), datetime.datetime(2018, 8, 21, 14, 39, 3, 56043), datetime.datetime(2018, 8, 22, 14, 39, 3, 56043), datetime.datetime(2018, 8, 23, 14, 39, 3, 56043), datetime.datetime(2018, 8, 24, 14, 39, 3, 56043), datetime.datetime(2018, 8, 25, 14, 39, 3, 56043), datetime.datetime(2018, 8, 26, 14, 39, 3, 56043), datetime.datetime(2018, 8, 27, 14, 39, 3, 56043), datetime.datetime(2018, 8, 28, 14, 39, 3, 56043), datetime.datetime(2018, 8, 29, 14, 39, 3, 56043), datetime.datetime(2018, 8, 30, 14, 39, 3, 56043), datetime.datetime(2018, 8, 31, 14, 39, 3, 56043), datetime.datetime(2018, 9, 1, 14, 39, 3, 56043), datetime.datetime(2018, 9, 2, 14, 39, 3, 56043), datetime.datetime(2018, 9, 3, 14, 39, 3, 56043), datetime.datetime(2018, 9, 4, 14, 39, 3, 56043), datetime.datetime(2018, 9, 5, 14, 39, 3, 56043), datetime.datetime(2018, 9, 6, 14, 39, 3, 56043), datetime.datetime(2018, 9, 7, 14, 39, 3, 56043), datetime.datetime(2018, 9, 8, 14, 39, 3, 56043), datetime.datetime(2018, 9, 9, 14, 39, 3, 56043), datetime.datetime(2018, 9, 10, 14, 39, 3, 56043), datetime.datetime(2018, 9, 11, 14, 39, 3, 56043), datetime.datetime(2018, 9, 12, 14, 39, 3, 56043), datetime.datetime(2018, 9, 13, 14, 39, 3, 56043), datetime.datetime(2018, 9, 14, 14, 39, 3, 56043), datetime.datetime(2018, 9, 15, 14, 39, 3, 56043), datetime.datetime(2018, 9, 16, 14, 39, 3, 56043), datetime.datetime(2018, 9, 17, 14, 39, 3, 56043), datetime.datetime(2018, 9, 18, 14, 39, 3, 56043), datetime.datetime(2018, 9, 19, 14, 39, 3, 56043), datetime.datetime(2018, 9, 20, 14, 39, 3, 56043), datetime.datetime(2018, 9, 21, 14, 39, 3, 56043), datetime.datetime(2018, 9, 22, 14, 39, 3, 56043), datetime.datetime(2018, 9, 23, 14, 39, 3, 56043), datetime.datetime(2018, 9, 24, 14, 39, 3, 56043), datetime.datetime(2018, 9, 25, 14, 39, 3, 56043), datetime.datetime(2018, 9, 26, 14, 39, 3, 56043), datetime.datetime(2018, 9, 27, 14, 39, 3, 56043), datetime.datetime(2018, 9, 28, 14, 39, 3, 56043), datetime.datetime(2018, 9, 29, 14, 39, 3, 56043), datetime.datetime(2018, 9, 30, 14, 39, 3, 56043), datetime.datetime(2018, 10, 1, 14, 39, 3, 56043), datetime.datetime(2018, 10, 2, 14, 39, 3, 56043), datetime.datetime(2018, 10, 3, 14, 39, 3, 56043), datetime.datetime(2018, 10, 4, 14, 39, 3, 56043), datetime.datetime(2018, 10, 5, 14, 39, 3, 56043), datetime.datetime(2018, 10, 6, 14, 39, 3, 56043), datetime.datetime(2018, 10, 7, 14, 39, 3, 56043), datetime.datetime(2018, 10, 8, 14, 39, 3, 56043), datetime.datetime(2018, 10, 9, 14, 39, 3, 56043), datetime.datetime(2018, 10, 10, 14, 39, 3, 56043), datetime.datetime(2018, 10, 11, 14, 39, 3, 56043), datetime.datetime(2018, 10, 12, 14, 39, 3, 56043), datetime.datetime(2018, 10, 13, 14, 39, 3, 56043), datetime.datetime(2018, 10, 14, 14, 39, 3, 56043), datetime.datetime(2018, 10, 15, 14, 39, 3, 56043), datetime.datetime(2018, 10, 16, 14, 39, 3, 56043), datetime.datetime(2018, 10, 17, 14, 39, 3, 56043), datetime.datetime(2018, 10, 18, 14, 39, 3, 56043), datetime.datetime(2018, 10, 19, 14, 39, 3, 56043), datetime.datetime(2018, 10, 20, 14, 39, 3, 56043), datetime.datetime(2018, 10, 21, 14, 39, 3, 56043), datetime.datetime(2018, 10, 22, 14, 39, 3, 56043), datetime.datetime(2018, 10, 23, 14, 39, 3, 56043), datetime.datetime(2018, 10, 24, 14, 39, 3, 56043), datetime.datetime(2018, 10, 25, 14, 39, 3, 56043), datetime.datetime(2018, 10, 26, 14, 39, 3, 56043), datetime.datetime(2018, 10, 27, 14, 39, 3, 56043), datetime.datetime(2018, 10, 28, 14, 39, 3, 56043), datetime.datetime(2018, 10, 29, 14, 39, 3, 56043), datetime.datetime(2018, 10, 30, 14, 39, 3, 56043), datetime.datetime(2018, 10, 31, 14, 39, 3, 56043), datetime.datetime(2018, 11, 1, 14, 39, 3, 56043), datetime.datetime(2018, 11, 2, 14, 39, 3, 56043), datetime.datetime(2018, 11, 3, 14, 39, 3, 56043), datetime.datetime(2018, 11, 4, 14, 39, 3, 56043), datetime.datetime(2018, 11, 5, 14, 39, 3, 56043), datetime.datetime(2018, 11, 6, 14, 39, 3, 56043), datetime.datetime(2018, 11, 7, 14, 39, 3, 56043), datetime.datetime(2018, 11, 8, 14, 39, 3, 56043), datetime.datetime(2018, 11, 9, 14, 39, 3, 56043), datetime.datetime(2018, 11, 10, 14, 39, 3, 56043), datetime.datetime(2018, 11, 11, 14, 39, 3, 56043), datetime.datetime(2018, 11, 12, 14, 39, 3, 56043), datetime.datetime(2018, 11, 13, 14, 39, 3, 56043), datetime.datetime(2018, 11, 14, 14, 39, 3, 56043), datetime.datetime(2018, 11, 15, 14, 39, 3, 56043), datetime.datetime(2018, 11, 16, 14, 39, 3, 56043), datetime.datetime(2018, 11, 17, 14, 39, 3, 56043), datetime.datetime(2018, 11, 18, 14, 39, 3, 56043), datetime.datetime(2018, 11, 19, 14, 39, 3, 56043), datetime.datetime(2018, 11, 20, 14, 39, 3, 56043), datetime.datetime(2018, 11, 21, 14, 39, 3, 56043), datetime.datetime(2018, 11, 22, 14, 39, 3, 56043), datetime.datetime(2018, 11, 23, 14, 39, 3, 56043), datetime.datetime(2018, 11, 24, 14, 39, 3, 56043), datetime.datetime(2018, 11, 25, 14, 39, 3, 56043), datetime.datetime(2018, 11, 26, 14, 39, 3, 56043), datetime.datetime(2018, 11, 27, 14, 39, 3, 56043), datetime.datetime(2018, 11, 28, 14, 39, 3, 56043), datetime.datetime(2018, 11, 29, 14, 39, 3, 56043), datetime.datetime(2018, 11, 30, 14, 39, 3, 56043), datetime.datetime(2018, 12, 1, 14, 39, 3, 56043), datetime.datetime(2018, 12, 2, 14, 39, 3, 56043), datetime.datetime(2018, 12, 3, 14, 39, 3, 56043), datetime.datetime(2018, 12, 4, 14, 39, 3, 56043), datetime.datetime(2018, 12, 5, 14, 39, 3, 56043), datetime.datetime(2018, 12, 6, 14, 39, 3, 56043), datetime.datetime(2018, 12, 7, 14, 39, 3, 56043), datetime.datetime(2018, 12, 8, 14, 39, 3, 56043), datetime.datetime(2018, 12, 9, 14, 39, 3, 56043), datetime.datetime(2018, 12, 10, 14, 39, 3, 56043), datetime.datetime(2018, 12, 11, 14, 39, 3, 56043), datetime.datetime(2018, 12, 12, 14, 39, 3, 56043), datetime.datetime(2018, 12, 13, 14, 39, 3, 56043), datetime.datetime(2018, 12, 14, 14, 39, 3, 56043), datetime.datetime(2018, 12, 15, 14, 39, 3, 56043), datetime.datetime(2018, 12, 16, 14, 39, 3, 56043), datetime.datetime(2018, 12, 17, 14, 39, 3, 56043), datetime.datetime(2018, 12, 18, 14, 39, 3, 56043), datetime.datetime(2018, 12, 19, 14, 39, 3, 56043), datetime.datetime(2018, 12, 20, 14, 39, 3, 56043), datetime.datetime(2018, 12, 21, 14, 39, 3, 56043), datetime.datetime(2018, 12, 22, 14, 39, 3, 56043), datetime.datetime(2018, 12, 23, 14, 39, 3, 56043), datetime.datetime(2018, 12, 24, 14, 39, 3, 56043), datetime.datetime(2018, 12, 25, 14, 39, 3, 56043), datetime.datetime(2018, 12, 26, 14, 39, 3, 56043), datetime.datetime(2018, 12, 27, 14, 39, 3, 56043), datetime.datetime(2018, 12, 28, 14, 39, 3, 56043), datetime.datetime(2018, 12, 29, 14, 39, 3, 56043), datetime.datetime(2018, 12, 30, 14, 39, 3, 56043), datetime.datetime(2018, 12, 31, 14, 39, 3, 56043), datetime.datetime(2019, 1, 1, 14, 39, 3, 56043), datetime.datetime(2019, 1, 2, 14, 39, 3, 56043), datetime.datetime(2019, 1, 3, 14, 39, 3, 56043), datetime.datetime(2019, 1, 4, 14, 39, 3, 56043), datetime.datetime(2019, 1, 5, 14, 39, 3, 56043), datetime.datetime(2019, 1, 6, 14, 39, 3, 56043), datetime.datetime(2019, 1, 7, 14, 39, 3, 56043), datetime.datetime(2019, 1, 8, 14, 39, 3, 56043), datetime.datetime(2019, 1, 9, 14, 39, 3, 56043), datetime.datetime(2019, 1, 10, 14, 39, 3, 56043), datetime.datetime(2019, 1, 11, 14, 39, 3, 56043), datetime.datetime(2019, 1, 12, 14, 39, 3, 56043), datetime.datetime(2019, 1, 13, 14, 39, 3, 56043), datetime.datetime(2019, 1, 14, 14, 39, 3, 56043), datetime.datetime(2019, 1, 15, 14, 39, 3, 56043), datetime.datetime(2019, 1, 16, 14, 39, 3, 56043), datetime.datetime(2019, 1, 17, 14, 39, 3, 56043), datetime.datetime(2019, 1, 18, 14, 39, 3, 56043), datetime.datetime(2019, 1, 19, 14, 39, 3, 56043), datetime.datetime(2019, 1, 20, 14, 39, 3, 56043), datetime.datetime(2019, 1, 21, 14, 39, 3, 56043), datetime.datetime(2019, 1, 22, 14, 39, 3, 56043), datetime.datetime(2019, 1, 23, 14, 39, 3, 56043), datetime.datetime(2019, 1, 24, 14, 39, 3, 56043), datetime.datetime(2019, 1, 25, 14, 39, 3, 56043), datetime.datetime(2019, 1, 26, 14, 39, 3, 56043), datetime.datetime(2019, 1, 27, 14, 39, 3, 56043), datetime.datetime(2019, 1, 28, 14, 39, 3, 56043), datetime.datetime(2019, 1, 29, 14, 39, 3, 56043), datetime.datetime(2019, 1, 30, 14, 39, 3, 56043), datetime.datetime(2019, 1, 31, 14, 39, 3, 56043), datetime.datetime(2019, 2, 1, 14, 39, 3, 56043), datetime.datetime(2019, 2, 2, 14, 39, 3, 56043), datetime.datetime(2019, 2, 3, 14, 39, 3, 56043), datetime.datetime(2019, 2, 4, 14, 39, 3, 56043), datetime.datetime(2019, 2, 5, 14, 39, 3, 56043), datetime.datetime(2019, 2, 6, 14, 39, 3, 56043), datetime.datetime(2019, 2, 7, 14, 39, 3, 56043), datetime.datetime(2019, 2, 8, 14, 39, 3, 56043), datetime.datetime(2019, 2, 9, 14, 39, 3, 56043), datetime.datetime(2019, 2, 10, 14, 39, 3, 56043), datetime.datetime(2019, 2, 11, 14, 39, 3, 56043), datetime.datetime(2019, 2, 12, 14, 39, 3, 56043), datetime.datetime(2019, 2, 13, 14, 39, 3, 56043), datetime.datetime(2019, 2, 14, 14, 39, 3, 56043), datetime.datetime(2019, 2, 15, 14, 39, 3, 56043), datetime.datetime(2019, 2, 16, 14, 39, 3, 56043), datetime.datetime(2019, 2, 17, 14, 39, 3, 56043), datetime.datetime(2019, 2, 18, 14, 39, 3, 56043), datetime.datetime(2019, 2, 19, 14, 39, 3, 56043), datetime.datetime(2019, 2, 20, 14, 39, 3, 56043), datetime.datetime(2019, 2, 21, 14, 39, 3, 56043), datetime.datetime(2019, 2, 22, 14, 39, 3, 56043), datetime.datetime(2019, 2, 23, 14, 39, 3, 56043), datetime.datetime(2019, 2, 24, 14, 39, 3, 56043), datetime.datetime(2019, 2, 25, 14, 39, 3, 56043), datetime.datetime(2019, 2, 26, 14, 39, 3, 56043), datetime.datetime(2019, 2, 27, 14, 39, 3, 56043), datetime.datetime(2019, 2, 28, 14, 39, 3, 56043), datetime.datetime(2019, 3, 1, 14, 39, 3, 56043), datetime.datetime(2019, 3, 2, 14, 39, 3, 56043), datetime.datetime(2019, 3, 3, 14, 39, 3, 56043), datetime.datetime(2019, 3, 4, 14, 39, 3, 56043), datetime.datetime(2019, 3, 5, 14, 39, 3, 56043), datetime.datetime(2019, 3, 6, 14, 39, 3, 56043), datetime.datetime(2019, 3, 7, 14, 39, 3, 56043), datetime.datetime(2019, 3, 8, 14, 39, 3, 56043), datetime.datetime(2019, 3, 9, 14, 39, 3, 56043), datetime.datetime(2019, 3, 10, 14, 39, 3, 56043), datetime.datetime(2019, 3, 11, 14, 39, 3, 56043), datetime.datetime(2019, 3, 12, 14, 39, 3, 56043), datetime.datetime(2019, 3, 13, 14, 39, 3, 56043), datetime.datetime(2019, 3, 14, 14, 39, 3, 56043), datetime.datetime(2019, 3, 15, 14, 39, 3, 56043), datetime.datetime(2019, 3, 16, 14, 39, 3, 56043), datetime.datetime(2019, 3, 17, 14, 39, 3, 56043), datetime.datetime(2019, 3, 18, 14, 39, 3, 56043), datetime.datetime(2019, 3, 19, 14, 39, 3, 56043), datetime.datetime(2019, 3, 20, 14, 39, 3, 56043), datetime.datetime(2019, 3, 21, 14, 39, 3, 56043), datetime.datetime(2019, 3, 22, 14, 39, 3, 56043), datetime.datetime(2019, 3, 23, 14, 39, 3, 56043), datetime.datetime(2019, 3, 24, 14, 39, 3, 56043), datetime.datetime(2019, 3, 25, 14, 39, 3, 56043), datetime.datetime(2019, 3, 26, 14, 39, 3, 56043), datetime.datetime(2019, 3, 27, 14, 39, 3, 56043), datetime.datetime(2019, 3, 28, 14, 39, 3, 56043), datetime.datetime(2019, 3, 29, 14, 39, 3, 56043), datetime.datetime(2019, 3, 30, 14, 39, 3, 56043), datetime.datetime(2019, 3, 31, 14, 39, 3, 56043), datetime.datetime(2019, 4, 1, 14, 39, 3, 56043), datetime.datetime(2019, 4, 2, 14, 39, 3, 56043), datetime.datetime(2019, 4, 3, 14, 39, 3, 56043), datetime.datetime(2019, 4, 4, 14, 39, 3, 56043), datetime.datetime(2019, 4, 5, 14, 39, 3, 56043), datetime.datetime(2019, 4, 6, 14, 39, 3, 56043), datetime.datetime(2019, 4, 7, 14, 39, 3, 56043), datetime.datetime(2019, 4, 8, 14, 39, 3, 56043), datetime.datetime(2019, 4, 9, 14, 39, 3, 56043), datetime.datetime(2019, 4, 10, 14, 39, 3, 56043), datetime.datetime(2019, 4, 11, 14, 39, 3, 56043), datetime.datetime(2019, 4, 12, 14, 39, 3, 56043), datetime.datetime(2019, 4, 13, 14, 39, 3, 56043), datetime.datetime(2019, 4, 14, 14, 39, 3, 56043), datetime.datetime(2019, 4, 15, 14, 39, 3, 56043), datetime.datetime(2019, 4, 16, 14, 39, 3, 56043), datetime.datetime(2019, 4, 17, 14, 39, 3, 56043), datetime.datetime(2019, 4, 18, 14, 39, 3, 56043), datetime.datetime(2019, 4, 19, 14, 39, 3, 56043), datetime.datetime(2019, 4, 20, 14, 39, 3, 56043), datetime.datetime(2019, 4, 21, 14, 39, 3, 56043), datetime.datetime(2019, 4, 22, 14, 39, 3, 56043), datetime.datetime(2019, 4, 23, 14, 39, 3, 56043), datetime.datetime(2019, 4, 24, 14, 39, 3, 56043), datetime.datetime(2019, 4, 25, 14, 39, 3, 56043), datetime.datetime(2019, 4, 26, 14, 39, 3, 56043), datetime.datetime(2019, 4, 27, 14, 39, 3, 56043), datetime.datetime(2019, 4, 28, 14, 39, 3, 56043), datetime.datetime(2019, 4, 29, 14, 39, 3, 56043), datetime.datetime(2019, 4, 30, 14, 39, 3, 56043), datetime.datetime(2019, 5, 1, 14, 39, 3, 56043), datetime.datetime(2019, 5, 2, 14, 39, 3, 56043), datetime.datetime(2019, 5, 3, 14, 39, 3, 56043), datetime.datetime(2019, 5, 4, 14, 39, 3, 56043), datetime.datetime(2019, 5, 5, 14, 39, 3, 56043), datetime.datetime(2019, 5, 6, 14, 39, 3, 56043), datetime.datetime(2019, 5, 7, 14, 39, 3, 56043), datetime.datetime(2019, 5, 8, 14, 39, 3, 56043), datetime.datetime(2019, 5, 9, 14, 39, 3, 56043), datetime.datetime(2019, 5, 10, 14, 39, 3, 56043), datetime.datetime(2019, 5, 11, 14, 39, 3, 56043), datetime.datetime(2019, 5, 12, 14, 39, 3, 56043), datetime.datetime(2019, 5, 13, 14, 39, 3, 56043), datetime.datetime(2019, 5, 14, 14, 39, 3, 56043), datetime.datetime(2019, 5, 15, 14, 39, 3, 56043), datetime.datetime(2019, 5, 16, 14, 39, 3, 56043), datetime.datetime(2019, 5, 17, 14, 39, 3, 56043), datetime.datetime(2019, 5, 18, 14, 39, 3, 56043), datetime.datetime(2019, 5, 19, 14, 39, 3, 56043), datetime.datetime(2019, 5, 20, 14, 39, 3, 56043), datetime.datetime(2019, 5, 21, 14, 39, 3, 56043), datetime.datetime(2019, 5, 22, 14, 39, 3, 56043), datetime.datetime(2019, 5, 23, 14, 39, 3, 56043), datetime.datetime(2019, 5, 24, 14, 39, 3, 56043), datetime.datetime(2019, 5, 25, 14, 39, 3, 56043), datetime.datetime(2019, 5, 26, 14, 39, 3, 56043), datetime.datetime(2019, 5, 27, 14, 39, 3, 56043), datetime.datetime(2019, 5, 28, 14, 39, 3, 56043), datetime.datetime(2019, 5, 29, 14, 39, 3, 56043), datetime.datetime(2019, 5, 30, 14, 39, 3, 56043), datetime.datetime(2019, 5, 31, 14, 39, 3, 56043), datetime.datetime(2019, 6, 1, 14, 39, 3, 56043), datetime.datetime(2019, 6, 2, 14, 39, 3, 56043), datetime.datetime(2019, 6, 3, 14, 39, 3, 56043), datetime.datetime(2019, 6, 4, 14, 39, 3, 56043), datetime.datetime(2019, 6, 5, 14, 39, 3, 56043), datetime.datetime(2019, 6, 6, 14, 39, 3, 56043), datetime.datetime(2019, 6, 7, 14, 39, 3, 56043), datetime.datetime(2019, 6, 8, 14, 39, 3, 56043), datetime.datetime(2019, 6, 9, 14, 39, 3, 56043), datetime.datetime(2019, 6, 10, 14, 39, 3, 56043), datetime.datetime(2019, 6, 11, 14, 39, 3, 56043), datetime.datetime(2019, 6, 12, 14, 39, 3, 56043), datetime.datetime(2019, 6, 13, 14, 39, 3, 56043), datetime.datetime(2019, 6, 14, 14, 39, 3, 56043), datetime.datetime(2019, 6, 15, 14, 39, 3, 56043), datetime.datetime(2019, 6, 16, 14, 39, 3, 56043), datetime.datetime(2019, 6, 17, 14, 39, 3, 56043), datetime.datetime(2019, 6, 18, 14, 39, 3, 56043), datetime.datetime(2019, 6, 19, 14, 39, 3, 56043), datetime.datetime(2019, 6, 20, 14, 39, 3, 56043), datetime.datetime(2019, 6, 21, 14, 39, 3, 56043), datetime.datetime(2019, 6, 22, 14, 39, 3, 56043), datetime.datetime(2019, 6, 23, 14, 39, 3, 56043), datetime.datetime(2019, 6, 24, 14, 39, 3, 56043), datetime.datetime(2019, 6, 25, 14, 39, 3, 56043), datetime.datetime(2019, 6, 26, 14, 39, 3, 56043), datetime.datetime(2019, 6, 27, 14, 39, 3, 56043), datetime.datetime(2019, 6, 28, 14, 39, 3, 56043), datetime.datetime(2019, 6, 29, 14, 39, 3, 56043), datetime.datetime(2019, 6, 30, 14, 39, 3, 56043), datetime.datetime(2019, 7, 1, 14, 39, 3, 56043), datetime.datetime(2019, 7, 2, 14, 39, 3, 56043), datetime.datetime(2019, 7, 3, 14, 39, 3, 56043), datetime.datetime(2019, 7, 4, 14, 39, 3, 56043), datetime.datetime(2019, 7, 5, 14, 39, 3, 56043), datetime.datetime(2019, 7, 6, 14, 39, 3, 56043), datetime.datetime(2019, 7, 7, 14, 39, 3, 56043), datetime.datetime(2019, 7, 8, 14, 39, 3, 56043), datetime.datetime(2019, 7, 9, 14, 39, 3, 56043), datetime.datetime(2019, 7, 10, 14, 39, 3, 56043), datetime.datetime(2019, 7, 11, 14, 39, 3, 56043), datetime.datetime(2019, 7, 12, 14, 39, 3, 56043), datetime.datetime(2019, 7, 13, 14, 39, 3, 56043), datetime.datetime(2019, 7, 14, 14, 39, 3, 56043), datetime.datetime(2019, 7, 15, 14, 39, 3, 56043), datetime.datetime(2019, 7, 16, 14, 39, 3, 56043), datetime.datetime(2019, 7, 17, 14, 39, 3, 56043), datetime.datetime(2019, 7, 18, 14, 39, 3, 56043), datetime.datetime(2019, 7, 19, 14, 39, 3, 56043), datetime.datetime(2019, 7, 20, 14, 39, 3, 56043), datetime.datetime(2019, 7, 21, 14, 39, 3, 56043), datetime.datetime(2019, 7, 22, 14, 39, 3, 56043), datetime.datetime(2019, 7, 23, 14, 39, 3, 56043), datetime.datetime(2019, 7, 24, 14, 39, 3, 56043), datetime.datetime(2019, 7, 25, 14, 39, 3, 56043), datetime.datetime(2019, 7, 26, 14, 39, 3, 56043), datetime.datetime(2019, 7, 27, 14, 39, 3, 56043), datetime.datetime(2019, 7, 28, 14, 39, 3, 56043), datetime.datetime(2019, 7, 29, 14, 39, 3, 56043), datetime.datetime(2019, 7, 30, 14, 39, 3, 56043), datetime.datetime(2019, 7, 31, 14, 39, 3, 56043), datetime.datetime(2019, 8, 1, 14, 39, 3, 56043), datetime.datetime(2019, 8, 2, 14, 39, 3, 56043), datetime.datetime(2019, 8, 3, 14, 39, 3, 56043), datetime.datetime(2019, 8, 4, 14, 39, 3, 56043), datetime.datetime(2019, 8, 5, 14, 39, 3, 56043), datetime.datetime(2019, 8, 6, 14, 39, 3, 56043), datetime.datetime(2019, 8, 7, 14, 39, 3, 56043), datetime.datetime(2019, 8, 8, 14, 39, 3, 56043), datetime.datetime(2019, 8, 9, 14, 39, 3, 56043), datetime.datetime(2019, 8, 10, 14, 39, 3, 56043), datetime.datetime(2019, 8, 11, 14, 39, 3, 56043), datetime.datetime(2019, 8, 12, 14, 39, 3, 56043), datetime.datetime(2019, 8, 13, 14, 39, 3, 56043), datetime.datetime(2019, 8, 14, 14, 39, 3, 56043), datetime.datetime(2019, 8, 15, 14, 39, 3, 56043), datetime.datetime(2019, 8, 16, 14, 39, 3, 56043), datetime.datetime(2019, 8, 17, 14, 39, 3, 56043), datetime.datetime(2019, 8, 18, 14, 39, 3, 56043), datetime.datetime(2019, 8, 19, 14, 39, 3, 56043), datetime.datetime(2019, 8, 20, 14, 39, 3, 56043), datetime.datetime(2019, 8, 21, 14, 39, 3, 56043), datetime.datetime(2019, 8, 22, 14, 39, 3, 56043), datetime.datetime(2019, 8, 23, 14, 39, 3, 56043), datetime.datetime(2019, 8, 24, 14, 39, 3, 56043), datetime.datetime(2019, 8, 25, 14, 39, 3, 56043), datetime.datetime(2019, 8, 26, 14, 39, 3, 56043), datetime.datetime(2019, 8, 27, 14, 39, 3, 56043), datetime.datetime(2019, 8, 28, 14, 39, 3, 56043), datetime.datetime(2019, 8, 29, 14, 39, 3, 56043), datetime.datetime(2019, 8, 30, 14, 39, 3, 56043), datetime.datetime(2019, 8, 31, 14, 39, 3, 56043), datetime.datetime(2019, 9, 1, 14, 39, 3, 56043), datetime.datetime(2019, 9, 2, 14, 39, 3, 56043), datetime.datetime(2019, 9, 3, 14, 39, 3, 56043), datetime.datetime(2019, 9, 4, 14, 39, 3, 56043), datetime.datetime(2019, 9, 5, 14, 39, 3, 56043), datetime.datetime(2019, 9, 6, 14, 39, 3, 56043), datetime.datetime(2019, 9, 7, 14, 39, 3, 56043), datetime.datetime(2019, 9, 8, 14, 39, 3, 56043), datetime.datetime(2019, 9, 9, 14, 39, 3, 56043), datetime.datetime(2019, 9, 10, 14, 39, 3, 56043), datetime.datetime(2019, 9, 11, 14, 39, 3, 56043), datetime.datetime(2019, 9, 12, 14, 39, 3, 56043), datetime.datetime(2019, 9, 13, 14, 39, 3, 56043), datetime.datetime(2019, 9, 14, 14, 39, 3, 56043), datetime.datetime(2019, 9, 15, 14, 39, 3, 56043), datetime.datetime(2019, 9, 16, 14, 39, 3, 56043), datetime.datetime(2019, 9, 17, 14, 39, 3, 56043), datetime.datetime(2019, 9, 18, 14, 39, 3, 56043), datetime.datetime(2019, 9, 19, 14, 39, 3, 56043), datetime.datetime(2019, 9, 20, 14, 39, 3, 56043), datetime.datetime(2019, 9, 21, 14, 39, 3, 56043), datetime.datetime(2019, 9, 22, 14, 39, 3, 56043), datetime.datetime(2019, 9, 23, 14, 39, 3, 56043), datetime.datetime(2019, 9, 24, 14, 39, 3, 56043), datetime.datetime(2019, 9, 25, 14, 39, 3, 56043), datetime.datetime(2019, 9, 26, 14, 39, 3, 56043), datetime.datetime(2019, 9, 27, 14, 39, 3, 56043), datetime.datetime(2019, 9, 28, 14, 39, 3, 56043), datetime.datetime(2019, 9, 29, 14, 39, 3, 56043), datetime.datetime(2019, 9, 30, 14, 39, 3, 56043), datetime.datetime(2019, 10, 1, 14, 39, 3, 56043), datetime.datetime(2019, 10, 2, 14, 39, 3, 56043), datetime.datetime(2019, 10, 3, 14, 39, 3, 56043), datetime.datetime(2019, 10, 4, 14, 39, 3, 56043), datetime.datetime(2019, 10, 5, 14, 39, 3, 56043), datetime.datetime(2019, 10, 6, 14, 39, 3, 56043), datetime.datetime(2019, 10, 7, 14, 39, 3, 56043), datetime.datetime(2019, 10, 8, 14, 39, 3, 56043), datetime.datetime(2019, 10, 9, 14, 39, 3, 56043), datetime.datetime(2019, 10, 10, 14, 39, 3, 56043), datetime.datetime(2019, 10, 11, 14, 39, 3, 56043), datetime.datetime(2019, 10, 12, 14, 39, 3, 56043), datetime.datetime(2019, 10, 13, 14, 39, 3, 56043), datetime.datetime(2019, 10, 14, 14, 39, 3, 56043), datetime.datetime(2019, 10, 15, 14, 39, 3, 56043), datetime.datetime(2019, 10, 16, 14, 39, 3, 56043), datetime.datetime(2019, 10, 17, 14, 39, 3, 56043), datetime.datetime(2019, 10, 18, 14, 39, 3, 56043), datetime.datetime(2019, 10, 19, 14, 39, 3, 56043), datetime.datetime(2019, 10, 20, 14, 39, 3, 56043), datetime.datetime(2019, 10, 21, 14, 39, 3, 56043), datetime.datetime(2019, 10, 22, 14, 39, 3, 56043), datetime.datetime(2019, 10, 23, 14, 39, 3, 56043), datetime.datetime(2019, 10, 24, 14, 39, 3, 56043), datetime.datetime(2019, 10, 25, 14, 39, 3, 56043), datetime.datetime(2019, 10, 26, 14, 39, 3, 56043), datetime.datetime(2019, 10, 27, 14, 39, 3, 56043), datetime.datetime(2019, 10, 28, 14, 39, 3, 56043), datetime.datetime(2019, 10, 29, 14, 39, 3, 56043), datetime.datetime(2019, 10, 30, 14, 39, 3, 56043), datetime.datetime(2019, 10, 31, 14, 39, 3, 56043), datetime.datetime(2019, 11, 1, 14, 39, 3, 56043), datetime.datetime(2019, 11, 2, 14, 39, 3, 56043), datetime.datetime(2019, 11, 3, 14, 39, 3, 56043), datetime.datetime(2019, 11, 4, 14, 39, 3, 56043), datetime.datetime(2019, 11, 5, 14, 39, 3, 56043), datetime.datetime(2019, 11, 6, 14, 39, 3, 56043), datetime.datetime(2019, 11, 7, 14, 39, 3, 56043), datetime.datetime(2019, 11, 8, 14, 39, 3, 56043), datetime.datetime(2019, 11, 9, 14, 39, 3, 56043), datetime.datetime(2019, 11, 10, 14, 39, 3, 56043), datetime.datetime(2019, 11, 11, 14, 39, 3, 56043), datetime.datetime(2019, 11, 12, 14, 39, 3, 56043), datetime.datetime(2019, 11, 13, 14, 39, 3, 56043), datetime.datetime(2019, 11, 14, 14, 39, 3, 56043), datetime.datetime(2019, 11, 15, 14, 39, 3, 56043), datetime.datetime(2019, 11, 16, 14, 39, 3, 56043), datetime.datetime(2019, 11, 17, 14, 39, 3, 56043), datetime.datetime(2019, 11, 18, 14, 39, 3, 56043), datetime.datetime(2019, 11, 19, 14, 39, 3, 56043), datetime.datetime(2019, 11, 20, 14, 39, 3, 56043), datetime.datetime(2019, 11, 21, 14, 39, 3, 56043), datetime.datetime(2019, 11, 22, 14, 39, 3, 56043), datetime.datetime(2019, 11, 23, 14, 39, 3, 56043), datetime.datetime(2019, 11, 24, 14, 39, 3, 56043), datetime.datetime(2019, 11, 25, 14, 39, 3, 56043), datetime.datetime(2019, 11, 26, 14, 39, 3, 56043), datetime.datetime(2019, 11, 27, 14, 39, 3, 56043), datetime.datetime(2019, 11, 28, 14, 39, 3, 56043), datetime.datetime(2019, 11, 29, 14, 39, 3, 56043), datetime.datetime(2019, 11, 30, 14, 39, 3, 56043), datetime.datetime(2019, 12, 1, 14, 39, 3, 56043), datetime.datetime(2019, 12, 2, 14, 39, 3, 56043), datetime.datetime(2019, 12, 3, 14, 39, 3, 56043), datetime.datetime(2019, 12, 4, 14, 39, 3, 56043), datetime.datetime(2019, 12, 5, 14, 39, 3, 56043), datetime.datetime(2019, 12, 6, 14, 39, 3, 56043), datetime.datetime(2019, 12, 7, 14, 39, 3, 56043), datetime.datetime(2019, 12, 8, 14, 39, 3, 56043), datetime.datetime(2019, 12, 9, 14, 39, 3, 56043), datetime.datetime(2019, 12, 10, 14, 39, 3, 56043), datetime.datetime(2019, 12, 11, 14, 39, 3, 56043), datetime.datetime(2019, 12, 12, 14, 39, 3, 56043), datetime.datetime(2019, 12, 13, 14, 39, 3, 56043), datetime.datetime(2019, 12, 14, 14, 39, 3, 56043), datetime.datetime(2019, 12, 15, 14, 39, 3, 56043), datetime.datetime(2019, 12, 16, 14, 39, 3, 56043), datetime.datetime(2019, 12, 17, 14, 39, 3, 56043), datetime.datetime(2019, 12, 18, 14, 39, 3, 56043), datetime.datetime(2019, 12, 19, 14, 39, 3, 56043), datetime.datetime(2019, 12, 20, 14, 39, 3, 56043), datetime.datetime(2019, 12, 21, 14, 39, 3, 56043), datetime.datetime(2019, 12, 22, 14, 39, 3, 56043), datetime.datetime(2019, 12, 23, 14, 39, 3, 56043), datetime.datetime(2019, 12, 24, 14, 39, 3, 56043), datetime.datetime(2019, 12, 25, 14, 39, 3, 56043), datetime.datetime(2019, 12, 26, 14, 39, 3, 56043), datetime.datetime(2019, 12, 27, 14, 39, 3, 56043), datetime.datetime(2019, 12, 28, 14, 39, 3, 56043), datetime.datetime(2019, 12, 29, 14, 39, 3, 56043), datetime.datetime(2019, 12, 30, 14, 39, 3, 56043), datetime.datetime(2019, 12, 31, 14, 39, 3, 56043), datetime.datetime(2020, 1, 1, 14, 39, 3, 56043), datetime.datetime(2020, 1, 2, 14, 39, 3, 56043), datetime.datetime(2020, 1, 3, 14, 39, 3, 56043), datetime.datetime(2020, 1, 4, 14, 39, 3, 56043), datetime.datetime(2020, 1, 5, 14, 39, 3, 56043), datetime.datetime(2020, 1, 6, 14, 39, 3, 56043), datetime.datetime(2020, 1, 7, 14, 39, 3, 56043), datetime.datetime(2020, 1, 8, 14, 39, 3, 56043), datetime.datetime(2020, 1, 9, 14, 39, 3, 56043), datetime.datetime(2020, 1, 10, 14, 39, 3, 56043), datetime.datetime(2020, 1, 11, 14, 39, 3, 56043), datetime.datetime(2020, 1, 12, 14, 39, 3, 56043), datetime.datetime(2020, 1, 13, 14, 39, 3, 56043), datetime.datetime(2020, 1, 14, 14, 39, 3, 56043), datetime.datetime(2020, 1, 15, 14, 39, 3, 56043), datetime.datetime(2020, 1, 16, 14, 39, 3, 56043), datetime.datetime(2020, 1, 17, 14, 39, 3, 56043), datetime.datetime(2020, 1, 18, 14, 39, 3, 56043), datetime.datetime(2020, 1, 19, 14, 39, 3, 56043), datetime.datetime(2020, 1, 20, 14, 39, 3, 56043), datetime.datetime(2020, 1, 21, 14, 39, 3, 56043), datetime.datetime(2020, 1, 22, 14, 39, 3, 56043), datetime.datetime(2020, 1, 23, 14, 39, 3, 56043), datetime.datetime(2020, 1, 24, 14, 39, 3, 56043), datetime.datetime(2020, 1, 25, 14, 39, 3, 56043), datetime.datetime(2020, 1, 26, 14, 39, 3, 56043), datetime.datetime(2020, 1, 27, 14, 39, 3, 56043), datetime.datetime(2020, 1, 28, 14, 39, 3, 56043), datetime.datetime(2020, 1, 29, 14, 39, 3, 56043), datetime.datetime(2020, 1, 30, 14, 39, 3, 56043), datetime.datetime(2020, 1, 31, 14, 39, 3, 56043), datetime.datetime(2020, 2, 1, 14, 39, 3, 56043), datetime.datetime(2020, 2, 2, 14, 39, 3, 56043), datetime.datetime(2020, 2, 3, 14, 39, 3, 56043), datetime.datetime(2020, 2, 4, 14, 39, 3, 56043), datetime.datetime(2020, 2, 5, 14, 39, 3, 56043), datetime.datetime(2020, 2, 6, 14, 39, 3, 56043), datetime.datetime(2020, 2, 7, 14, 39, 3, 56043), datetime.datetime(2020, 2, 8, 14, 39, 3, 56043), datetime.datetime(2020, 2, 9, 14, 39, 3, 56043), datetime.datetime(2020, 2, 10, 14, 39, 3, 56043), datetime.datetime(2020, 2, 11, 14, 39, 3, 56043), datetime.datetime(2020, 2, 12, 14, 39, 3, 56043), datetime.datetime(2020, 2, 13, 14, 39, 3, 56043), datetime.datetime(2020, 2, 14, 14, 39, 3, 56043), datetime.datetime(2020, 2, 15, 14, 39, 3, 56043), datetime.datetime(2020, 2, 16, 14, 39, 3, 56043), datetime.datetime(2020, 2, 17, 14, 39, 3, 56043), datetime.datetime(2020, 2, 18, 14, 39, 3, 56043), datetime.datetime(2020, 2, 19, 14, 39, 3, 56043), datetime.datetime(2020, 2, 20, 14, 39, 3, 56043), datetime.datetime(2020, 2, 21, 14, 39, 3, 56043), datetime.datetime(2020, 2, 22, 14, 39, 3, 56043), datetime.datetime(2020, 2, 23, 14, 39, 3, 56043), datetime.datetime(2020, 2, 24, 14, 39, 3, 56043), datetime.datetime(2020, 2, 25, 14, 39, 3, 56043), datetime.datetime(2020, 2, 26, 14, 39, 3, 56043), datetime.datetime(2020, 2, 27, 14, 39, 3, 56043), datetime.datetime(2020, 2, 28, 14, 39, 3, 56043), datetime.datetime(2020, 2, 29, 14, 39, 3, 56043), datetime.datetime(2020, 3, 1, 14, 39, 3, 56043), datetime.datetime(2020, 3, 2, 14, 39, 3, 56043), datetime.datetime(2020, 3, 3, 14, 39, 3, 56043), datetime.datetime(2020, 3, 4, 14, 39, 3, 56043), datetime.datetime(2020, 3, 5, 14, 39, 3, 56043), datetime.datetime(2020, 3, 6, 14, 39, 3, 56043), datetime.datetime(2020, 3, 7, 14, 39, 3, 56043), datetime.datetime(2020, 3, 8, 14, 39, 3, 56043), datetime.datetime(2020, 3, 9, 14, 39, 3, 56043), datetime.datetime(2020, 3, 10, 14, 39, 3, 56043), datetime.datetime(2020, 3, 11, 14, 39, 3, 56043), datetime.datetime(2020, 3, 12, 14, 39, 3, 56043), datetime.datetime(2020, 3, 13, 14, 39, 3, 56043), datetime.datetime(2020, 3, 14, 14, 39, 3, 56043), datetime.datetime(2020, 3, 15, 14, 39, 3, 56043), datetime.datetime(2020, 3, 16, 14, 39, 3, 56043), datetime.datetime(2020, 3, 17, 14, 39, 3, 56043), datetime.datetime(2020, 3, 18, 14, 39, 3, 56043), datetime.datetime(2020, 3, 19, 14, 39, 3, 56043), datetime.datetime(2020, 3, 20, 14, 39, 3, 56043), datetime.datetime(2020, 3, 21, 14, 39, 3, 56043), datetime.datetime(2020, 3, 22, 14, 39, 3, 56043), datetime.datetime(2020, 3, 23, 14, 39, 3, 56043), datetime.datetime(2020, 3, 24, 14, 39, 3, 56043), datetime.datetime(2020, 3, 25, 14, 39, 3, 56043), datetime.datetime(2020, 3, 26, 14, 39, 3, 56043), datetime.datetime(2020, 3, 27, 14, 39, 3, 56043), datetime.datetime(2020, 3, 28, 14, 39, 3, 56043), datetime.datetime(2020, 3, 29, 14, 39, 3, 56043), datetime.datetime(2020, 3, 30, 14, 39, 3, 56043), datetime.datetime(2020, 3, 31, 14, 39, 3, 56043), datetime.datetime(2020, 4, 1, 14, 39, 3, 56043), datetime.datetime(2020, 4, 2, 14, 39, 3, 56043), datetime.datetime(2020, 4, 3, 14, 39, 3, 56043), datetime.datetime(2020, 4, 4, 14, 39, 3, 56043), datetime.datetime(2020, 4, 5, 14, 39, 3, 56043), datetime.datetime(2020, 4, 6, 14, 39, 3, 56043), datetime.datetime(2020, 4, 7, 14, 39, 3, 56043), datetime.datetime(2020, 4, 8, 14, 39, 3, 56043), datetime.datetime(2020, 4, 9, 14, 39, 3, 56043), datetime.datetime(2020, 4, 10, 14, 39, 3, 56043), datetime.datetime(2020, 4, 11, 14, 39, 3, 56043), datetime.datetime(2020, 4, 12, 14, 39, 3, 56043), datetime.datetime(2020, 4, 13, 14, 39, 3, 56043), datetime.datetime(2020, 4, 14, 14, 39, 3, 56043), datetime.datetime(2020, 4, 15, 14, 39, 3, 56043), datetime.datetime(2020, 4, 16, 14, 39, 3, 56043), datetime.datetime(2020, 4, 17, 14, 39, 3, 56043), datetime.datetime(2020, 4, 18, 14, 39, 3, 56043), datetime.datetime(2020, 4, 19, 14, 39, 3, 56043), datetime.datetime(2020, 4, 20, 14, 39, 3, 56043), datetime.datetime(2020, 4, 21, 14, 39, 3, 56043), datetime.datetime(2020, 4, 22, 14, 39, 3, 56043), datetime.datetime(2020, 4, 23, 14, 39, 3, 56043), datetime.datetime(2020, 4, 24, 14, 39, 3, 56043), datetime.datetime(2020, 4, 25, 14, 39, 3, 56043), datetime.datetime(2020, 4, 26, 14, 39, 3, 56043), datetime.datetime(2020, 4, 27, 14, 39, 3, 56043), datetime.datetime(2020, 4, 28, 14, 39, 3, 56043), datetime.datetime(2020, 4, 29, 14, 39, 3, 56043), datetime.datetime(2020, 4, 30, 14, 39, 3, 56043), datetime.datetime(2020, 5, 1, 14, 39, 3, 56043), datetime.datetime(2020, 5, 2, 14, 39, 3, 56043), datetime.datetime(2020, 5, 3, 14, 39, 3, 56043), datetime.datetime(2020, 5, 4, 14, 39, 3, 56043), datetime.datetime(2020, 5, 5, 14, 39, 3, 56043), datetime.datetime(2020, 5, 6, 14, 39, 3, 56043), datetime.datetime(2020, 5, 7, 14, 39, 3, 56043), datetime.datetime(2020, 5, 8, 14, 39, 3, 56043), datetime.datetime(2020, 5, 9, 14, 39, 3, 56043), datetime.datetime(2020, 5, 10, 14, 39, 3, 56043), datetime.datetime(2020, 5, 11, 14, 39, 3, 56043), datetime.datetime(2020, 5, 12, 14, 39, 3, 56043), datetime.datetime(2020, 5, 13, 14, 39, 3, 56043), datetime.datetime(2020, 5, 14, 14, 39, 3, 56043), datetime.datetime(2020, 5, 15, 14, 39, 3, 56043), datetime.datetime(2020, 5, 16, 14, 39, 3, 56043), datetime.datetime(2020, 5, 17, 14, 39, 3, 56043), datetime.datetime(2020, 5, 18, 14, 39, 3, 56043), datetime.datetime(2020, 5, 19, 14, 39, 3, 56043), datetime.datetime(2020, 5, 20, 14, 39, 3, 56043), datetime.datetime(2020, 5, 21, 14, 39, 3, 56043), datetime.datetime(2020, 5, 22, 14, 39, 3, 56043), datetime.datetime(2020, 5, 23, 14, 39, 3, 56043), datetime.datetime(2020, 5, 24, 14, 39, 3, 56043), datetime.datetime(2020, 5, 25, 14, 39, 3, 56043), datetime.datetime(2020, 5, 26, 14, 39, 3, 56043), datetime.datetime(2020, 5, 27, 14, 39, 3, 56043), datetime.datetime(2020, 5, 28, 14, 39, 3, 56043), datetime.datetime(2020, 5, 29, 14, 39, 3, 56043), datetime.datetime(2020, 5, 30, 14, 39, 3, 56043), datetime.datetime(2020, 5, 31, 14, 39, 3, 56043), datetime.datetime(2020, 6, 1, 14, 39, 3, 56043), datetime.datetime(2020, 6, 2, 14, 39, 3, 56043), datetime.datetime(2020, 6, 3, 14, 39, 3, 56043), datetime.datetime(2020, 6, 4, 14, 39, 3, 56043), datetime.datetime(2020, 6, 5, 14, 39, 3, 56043), datetime.datetime(2020, 6, 6, 14, 39, 3, 56043), datetime.datetime(2020, 6, 7, 14, 39, 3, 56043), datetime.datetime(2020, 6, 8, 14, 39, 3, 56043), datetime.datetime(2020, 6, 9, 14, 39, 3, 56043), datetime.datetime(2020, 6, 10, 14, 39, 3, 56043), datetime.datetime(2020, 6, 11, 14, 39, 3, 56043), datetime.datetime(2020, 6, 12, 14, 39, 3, 56043), datetime.datetime(2020, 6, 13, 14, 39, 3, 56043), datetime.datetime(2020, 6, 14, 14, 39, 3, 56043), datetime.datetime(2020, 6, 15, 14, 39, 3, 56043), datetime.datetime(2020, 6, 16, 14, 39, 3, 56043), datetime.datetime(2020, 6, 17, 14, 39, 3, 56043), datetime.datetime(2020, 6, 18, 14, 39, 3, 56043), datetime.datetime(2020, 6, 19, 14, 39, 3, 56043), datetime.datetime(2020, 6, 20, 14, 39, 3, 56043), datetime.datetime(2020, 6, 21, 14, 39, 3, 56043), datetime.datetime(2020, 6, 22, 14, 39, 3, 56043), datetime.datetime(2020, 6, 23, 14, 39, 3, 56043), datetime.datetime(2020, 6, 24, 14, 39, 3, 56043), datetime.datetime(2020, 6, 25, 14, 39, 3, 56043), datetime.datetime(2020, 6, 26, 14, 39, 3, 56043), datetime.datetime(2020, 6, 27, 14, 39, 3, 56043), datetime.datetime(2020, 6, 28, 14, 39, 3, 56043), datetime.datetime(2020, 6, 29, 14, 39, 3, 56043), datetime.datetime(2020, 6, 30, 14, 39, 3, 56043), datetime.datetime(2020, 7, 1, 14, 39, 3, 56043), datetime.datetime(2020, 7, 2, 14, 39, 3, 56043), datetime.datetime(2020, 7, 3, 14, 39, 3, 56043), datetime.datetime(2020, 7, 4, 14, 39, 3, 56043), datetime.datetime(2020, 7, 5, 14, 39, 3, 56043), datetime.datetime(2020, 7, 6, 14, 39, 3, 56043), datetime.datetime(2020, 7, 7, 14, 39, 3, 56043), datetime.datetime(2020, 7, 8, 14, 39, 3, 56043), datetime.datetime(2020, 7, 9, 14, 39, 3, 56043), datetime.datetime(2020, 7, 10, 14, 39, 3, 56043), datetime.datetime(2020, 7, 11, 14, 39, 3, 56043), datetime.datetime(2020, 7, 12, 14, 39, 3, 56043), datetime.datetime(2020, 7, 13, 14, 39, 3, 56043), datetime.datetime(2020, 7, 14, 14, 39, 3, 56043), datetime.datetime(2020, 7, 15, 14, 39, 3, 56043), datetime.datetime(2020, 7, 16, 14, 39, 3, 56043), datetime.datetime(2020, 7, 17, 14, 39, 3, 56043), datetime.datetime(2020, 7, 18, 14, 39, 3, 56043), datetime.datetime(2020, 7, 19, 14, 39, 3, 56043), datetime.datetime(2020, 7, 20, 14, 39, 3, 56043), datetime.datetime(2020, 7, 21, 14, 39, 3, 56043), datetime.datetime(2020, 7, 22, 14, 39, 3, 56043), datetime.datetime(2020, 7, 23, 14, 39, 3, 56043), datetime.datetime(2020, 7, 24, 14, 39, 3, 56043), datetime.datetime(2020, 7, 25, 14, 39, 3, 56043), datetime.datetime(2020, 7, 26, 14, 39, 3, 56043), datetime.datetime(2020, 7, 27, 14, 39, 3, 56043), datetime.datetime(2020, 7, 28, 14, 39, 3, 56043), datetime.datetime(2020, 7, 29, 14, 39, 3, 56043), datetime.datetime(2020, 7, 30, 14, 39, 3, 56043), datetime.datetime(2020, 7, 31, 14, 39, 3, 56043), datetime.datetime(2020, 8, 1, 14, 39, 3, 56043), datetime.datetime(2020, 8, 2, 14, 39, 3, 56043), datetime.datetime(2020, 8, 3, 14, 39, 3, 56043), datetime.datetime(2020, 8, 4, 14, 39, 3, 56043), datetime.datetime(2020, 8, 5, 14, 39, 3, 56043), datetime.datetime(2020, 8, 6, 14, 39, 3, 56043), datetime.datetime(2020, 8, 7, 14, 39, 3, 56043), datetime.datetime(2020, 8, 8, 14, 39, 3, 56043), datetime.datetime(2020, 8, 9, 14, 39, 3, 56043), datetime.datetime(2020, 8, 10, 14, 39, 3, 56043), datetime.datetime(2020, 8, 11, 14, 39, 3, 56043), datetime.datetime(2020, 8, 12, 14, 39, 3, 56043), datetime.datetime(2020, 8, 13, 14, 39, 3, 56043), datetime.datetime(2020, 8, 14, 14, 39, 3, 56043), datetime.datetime(2020, 8, 15, 14, 39, 3, 56043), datetime.datetime(2020, 8, 16, 14, 39, 3, 56043), datetime.datetime(2020, 8, 17, 14, 39, 3, 56043), datetime.datetime(2020, 8, 18, 14, 39, 3, 56043), datetime.datetime(2020, 8, 19, 14, 39, 3, 56043), datetime.datetime(2020, 8, 20, 14, 39, 3, 56043), datetime.datetime(2020, 8, 21, 14, 39, 3, 56043), datetime.datetime(2020, 8, 22, 14, 39, 3, 56043), datetime.datetime(2020, 8, 23, 14, 39, 3, 56043), datetime.datetime(2020, 8, 24, 14, 39, 3, 56043), datetime.datetime(2020, 8, 25, 14, 39, 3, 56043), datetime.datetime(2020, 8, 26, 14, 39, 3, 56043), datetime.datetime(2020, 8, 27, 14, 39, 3, 56043), datetime.datetime(2020, 8, 28, 14, 39, 3, 56043), datetime.datetime(2020, 8, 29, 14, 39, 3, 56043), datetime.datetime(2020, 8, 30, 14, 39, 3, 56043), datetime.datetime(2020, 8, 31, 14, 39, 3, 56043), datetime.datetime(2020, 9, 1, 14, 39, 3, 56043), datetime.datetime(2020, 9, 2, 14, 39, 3, 56043), datetime.datetime(2020, 9, 3, 14, 39, 3, 56043), datetime.datetime(2020, 9, 4, 14, 39, 3, 56043), datetime.datetime(2020, 9, 5, 14, 39, 3, 56043), datetime.datetime(2020, 9, 6, 14, 39, 3, 56043), datetime.datetime(2020, 9, 7, 14, 39, 3, 56043), datetime.datetime(2020, 9, 8, 14, 39, 3, 56043), datetime.datetime(2020, 9, 9, 14, 39, 3, 56043), datetime.datetime(2020, 9, 10, 14, 39, 3, 56043), datetime.datetime(2020, 9, 11, 14, 39, 3, 56043), datetime.datetime(2020, 9, 12, 14, 39, 3, 56043), datetime.datetime(2020, 9, 13, 14, 39, 3, 56043), datetime.datetime(2020, 9, 14, 14, 39, 3, 56043), datetime.datetime(2020, 9, 15, 14, 39, 3, 56043), datetime.datetime(2020, 9, 16, 14, 39, 3, 56043), datetime.datetime(2020, 9, 17, 14, 39, 3, 56043), datetime.datetime(2020, 9, 18, 14, 39, 3, 56043), datetime.datetime(2020, 9, 19, 14, 39, 3, 56043), datetime.datetime(2020, 9, 20, 14, 39, 3, 56043), datetime.datetime(2020, 9, 21, 14, 39, 3, 56043), datetime.datetime(2020, 9, 22, 14, 39, 3, 56043), datetime.datetime(2020, 9, 23, 14, 39, 3, 56043), datetime.datetime(2020, 9, 24, 14, 39, 3, 56043), datetime.datetime(2020, 9, 25, 14, 39, 3, 56043), datetime.datetime(2020, 9, 26, 14, 39, 3, 56043), datetime.datetime(2020, 9, 27, 14, 39, 3, 56043), datetime.datetime(2020, 9, 28, 14, 39, 3, 56043), datetime.datetime(2020, 9, 29, 14, 39, 3, 56043), datetime.datetime(2020, 9, 30, 14, 39, 3, 56043), datetime.datetime(2020, 10, 1, 14, 39, 3, 56043), datetime.datetime(2020, 10, 2, 14, 39, 3, 56043), datetime.datetime(2020, 10, 3, 14, 39, 3, 56043), datetime.datetime(2020, 10, 4, 14, 39, 3, 56043), datetime.datetime(2020, 10, 5, 14, 39, 3, 56043), datetime.datetime(2020, 10, 6, 14, 39, 3, 56043), datetime.datetime(2020, 10, 7, 14, 39, 3, 56043), datetime.datetime(2020, 10, 8, 14, 39, 3, 56043), datetime.datetime(2020, 10, 9, 14, 39, 3, 56043), datetime.datetime(2020, 10, 10, 14, 39, 3, 56043), datetime.datetime(2020, 10, 11, 14, 39, 3, 56043), datetime.datetime(2020, 10, 12, 14, 39, 3, 56043), datetime.datetime(2020, 10, 13, 14, 39, 3, 56043), datetime.datetime(2020, 10, 14, 14, 39, 3, 56043), datetime.datetime(2020, 10, 15, 14, 39, 3, 56043), datetime.datetime(2020, 10, 16, 14, 39, 3, 56043), datetime.datetime(2020, 10, 17, 14, 39, 3, 56043), datetime.datetime(2020, 10, 18, 14, 39, 3, 56043), datetime.datetime(2020, 10, 19, 14, 39, 3, 56043), datetime.datetime(2020, 10, 20, 14, 39, 3, 56043), datetime.datetime(2020, 10, 21, 14, 39, 3, 56043), datetime.datetime(2020, 10, 22, 14, 39, 3, 56043), datetime.datetime(2020, 10, 23, 14, 39, 3, 56043), datetime.datetime(2020, 10, 24, 14, 39, 3, 56043), datetime.datetime(2020, 10, 25, 14, 39, 3, 56043), datetime.datetime(2020, 10, 26, 14, 39, 3, 56043), datetime.datetime(2020, 10, 27, 14, 39, 3, 56043), datetime.datetime(2020, 10, 28, 14, 39, 3, 56043), datetime.datetime(2020, 10, 29, 14, 39, 3, 56043), datetime.datetime(2020, 10, 30, 14, 39, 3, 56043), datetime.datetime(2020, 10, 31, 14, 39, 3, 56043), datetime.datetime(2020, 11, 1, 14, 39, 3, 56043), datetime.datetime(2020, 11, 2, 14, 39, 3, 56043), datetime.datetime(2020, 11, 3, 14, 39, 3, 56043), datetime.datetime(2020, 11, 4, 14, 39, 3, 56043), datetime.datetime(2020, 11, 5, 14, 39, 3, 56043), datetime.datetime(2020, 11, 6, 14, 39, 3, 56043), datetime.datetime(2020, 11, 7, 14, 39, 3, 56043), datetime.datetime(2020, 11, 8, 14, 39, 3, 56043), datetime.datetime(2020, 11, 9, 14, 39, 3, 56043), datetime.datetime(2020, 11, 10, 14, 39, 3, 56043), datetime.datetime(2020, 11, 11, 14, 39, 3, 56043), datetime.datetime(2020, 11, 12, 14, 39, 3, 56043), datetime.datetime(2020, 11, 13, 14, 39, 3, 56043), datetime.datetime(2020, 11, 14, 14, 39, 3, 56043), datetime.datetime(2020, 11, 15, 14, 39, 3, 56043), datetime.datetime(2020, 11, 16, 14, 39, 3, 56043), datetime.datetime(2020, 11, 17, 14, 39, 3, 56043), datetime.datetime(2020, 11, 18, 14, 39, 3, 56043), datetime.datetime(2020, 11, 19, 14, 39, 3, 56043), datetime.datetime(2020, 11, 20, 14, 39, 3, 56043), datetime.datetime(2020, 11, 21, 14, 39, 3, 56043), datetime.datetime(2020, 11, 22, 14, 39, 3, 56043), datetime.datetime(2020, 11, 23, 14, 39, 3, 56043), datetime.datetime(2020, 11, 24, 14, 39, 3, 56043), datetime.datetime(2020, 11, 25, 14, 39, 3, 56043), datetime.datetime(2020, 11, 26, 14, 39, 3, 56043), datetime.datetime(2020, 11, 27, 14, 39, 3, 56043), datetime.datetime(2020, 11, 28, 14, 39, 3, 56043), datetime.datetime(2020, 11, 29, 14, 39, 3, 56043), datetime.datetime(2020, 11, 30, 14, 39, 3, 56043), datetime.datetime(2020, 12, 1, 14, 39, 3, 56043), datetime.datetime(2020, 12, 2, 14, 39, 3, 56043), datetime.datetime(2020, 12, 3, 14, 39, 3, 56043), datetime.datetime(2020, 12, 4, 14, 39, 3, 56043), datetime.datetime(2020, 12, 5, 14, 39, 3, 56043), datetime.datetime(2020, 12, 6, 14, 39, 3, 56043), datetime.datetime(2020, 12, 7, 14, 39, 3, 56043), datetime.datetime(2020, 12, 8, 14, 39, 3, 56043), datetime.datetime(2020, 12, 9, 14, 39, 3, 56043), datetime.datetime(2020, 12, 10, 14, 39, 3, 56043), datetime.datetime(2020, 12, 11, 14, 39, 3, 56043), datetime.datetime(2020, 12, 12, 14, 39, 3, 56043), datetime.datetime(2020, 12, 13, 14, 39, 3, 56043), datetime.datetime(2020, 12, 14, 14, 39, 3, 56043), datetime.datetime(2020, 12, 15, 14, 39, 3, 56043), datetime.datetime(2020, 12, 16, 14, 39, 3, 56043), datetime.datetime(2020, 12, 17, 14, 39, 3, 56043), datetime.datetime(2020, 12, 18, 14, 39, 3, 56043), datetime.datetime(2020, 12, 19, 14, 39, 3, 56043), datetime.datetime(2020, 12, 20, 14, 39, 3, 56043), datetime.datetime(2020, 12, 21, 14, 39, 3, 56043), datetime.datetime(2020, 12, 22, 14, 39, 3, 56043), datetime.datetime(2020, 12, 23, 14, 39, 3, 56043), datetime.datetime(2020, 12, 24, 14, 39, 3, 56043), datetime.datetime(2020, 12, 25, 14, 39, 3, 56043), datetime.datetime(2020, 12, 26, 14, 39, 3, 56043), datetime.datetime(2020, 12, 27, 14, 39, 3, 56043), datetime.datetime(2020, 12, 28, 14, 39, 3, 56043), datetime.datetime(2020, 12, 29, 14, 39, 3, 56043), datetime.datetime(2020, 12, 30, 14, 39, 3, 56043), datetime.datetime(2020, 12, 31, 14, 39, 3, 56043), datetime.datetime(2021, 1, 1, 14, 39, 3, 56043), datetime.datetime(2021, 1, 2, 14, 39, 3, 56043), datetime.datetime(2021, 1, 3, 14, 39, 3, 56043), datetime.datetime(2021, 1, 4, 14, 39, 3, 56043), datetime.datetime(2021, 1, 5, 14, 39, 3, 56043), datetime.datetime(2021, 1, 6, 14, 39, 3, 56043), datetime.datetime(2021, 1, 7, 14, 39, 3, 56043), datetime.datetime(2021, 1, 8, 14, 39, 3, 56043), datetime.datetime(2021, 1, 9, 14, 39, 3, 56043), datetime.datetime(2021, 1, 10, 14, 39, 3, 56043), datetime.datetime(2021, 1, 11, 14, 39, 3, 56043), datetime.datetime(2021, 1, 12, 14, 39, 3, 56043), datetime.datetime(2021, 1, 13, 14, 39, 3, 56043), datetime.datetime(2021, 1, 14, 14, 39, 3, 56043), datetime.datetime(2021, 1, 15, 14, 39, 3, 56043), datetime.datetime(2021, 1, 16, 14, 39, 3, 56043), datetime.datetime(2021, 1, 17, 14, 39, 3, 56043), datetime.datetime(2021, 1, 18, 14, 39, 3, 56043), datetime.datetime(2021, 1, 19, 14, 39, 3, 56043), datetime.datetime(2021, 1, 20, 14, 39, 3, 56043), datetime.datetime(2021, 1, 21, 14, 39, 3, 56043), datetime.datetime(2021, 1, 22, 14, 39, 3, 56043), datetime.datetime(2021, 1, 23, 14, 39, 3, 56043), datetime.datetime(2021, 1, 24, 14, 39, 3, 56043), datetime.datetime(2021, 1, 25, 14, 39, 3, 56043), datetime.datetime(2021, 1, 26, 14, 39, 3, 56043), datetime.datetime(2021, 1, 27, 14, 39, 3, 56043), datetime.datetime(2021, 1, 28, 14, 39, 3, 56043), datetime.datetime(2021, 1, 29, 14, 39, 3, 56043), datetime.datetime(2021, 1, 30, 14, 39, 3, 56043), datetime.datetime(2021, 1, 31, 14, 39, 3, 56043), datetime.datetime(2021, 2, 1, 14, 39, 3, 56043), datetime.datetime(2021, 2, 2, 14, 39, 3, 56043), datetime.datetime(2021, 2, 3, 14, 39, 3, 56043), datetime.datetime(2021, 2, 4, 14, 39, 3, 56043), datetime.datetime(2021, 2, 5, 14, 39, 3, 56043), datetime.datetime(2021, 2, 6, 14, 39, 3, 56043), datetime.datetime(2021, 2, 7, 14, 39, 3, 56043), datetime.datetime(2021, 2, 8, 14, 39, 3, 56043), datetime.datetime(2021, 2, 9, 14, 39, 3, 56043), datetime.datetime(2021, 2, 10, 14, 39, 3, 56043), datetime.datetime(2021, 2, 11, 14, 39, 3, 56043), datetime.datetime(2021, 2, 12, 14, 39, 3, 56043), datetime.datetime(2021, 2, 13, 14, 39, 3, 56043), datetime.datetime(2021, 2, 14, 14, 39, 3, 56043), datetime.datetime(2021, 2, 15, 14, 39, 3, 56043), datetime.datetime(2021, 2, 16, 14, 39, 3, 56043), datetime.datetime(2021, 2, 17, 14, 39, 3, 56043), datetime.datetime(2021, 2, 18, 14, 39, 3, 56043), datetime.datetime(2021, 2, 19, 14, 39, 3, 56043), datetime.datetime(2021, 2, 20, 14, 39, 3, 56043), datetime.datetime(2021, 2, 21, 14, 39, 3, 56043), datetime.datetime(2021, 2, 22, 14, 39, 3, 56043), datetime.datetime(2021, 2, 23, 14, 39, 3, 56043), datetime.datetime(2021, 2, 24, 14, 39, 3, 56043), datetime.datetime(2021, 2, 25, 14, 39, 3, 56043), datetime.datetime(2021, 2, 26, 14, 39, 3, 56043), datetime.datetime(2021, 2, 27, 14, 39, 3, 56043), datetime.datetime(2021, 2, 28, 14, 39, 3, 56043), datetime.datetime(2021, 3, 1, 14, 39, 3, 56043), datetime.datetime(2021, 3, 2, 14, 39, 3, 56043), datetime.datetime(2021, 3, 3, 14, 39, 3, 56043), datetime.datetime(2021, 3, 4, 14, 39, 3, 56043), datetime.datetime(2021, 3, 5, 14, 39, 3, 56043), datetime.datetime(2021, 3, 6, 14, 39, 3, 56043), datetime.datetime(2021, 3, 7, 14, 39, 3, 56043), datetime.datetime(2021, 3, 8, 14, 39, 3, 56043), datetime.datetime(2021, 3, 9, 14, 39, 3, 56043), datetime.datetime(2021, 3, 10, 14, 39, 3, 56043), datetime.datetime(2021, 3, 11, 14, 39, 3, 56043), datetime.datetime(2021, 3, 12, 14, 39, 3, 56043), datetime.datetime(2021, 3, 13, 14, 39, 3, 56043), datetime.datetime(2021, 3, 14, 14, 39, 3, 56043), datetime.datetime(2021, 3, 15, 14, 39, 3, 56043), datetime.datetime(2021, 3, 16, 14, 39, 3, 56043), datetime.datetime(2021, 3, 17, 14, 39, 3, 56043), datetime.datetime(2021, 3, 18, 14, 39, 3, 56043), datetime.datetime(2021, 3, 19, 14, 39, 3, 56043), datetime.datetime(2021, 3, 20, 14, 39, 3, 56043), datetime.datetime(2021, 3, 21, 14, 39, 3, 56043), datetime.datetime(2021, 3, 22, 14, 39, 3, 56043), datetime.datetime(2021, 3, 23, 14, 39, 3, 56043), datetime.datetime(2021, 3, 24, 14, 39, 3, 56043), datetime.datetime(2021, 3, 25, 14, 39, 3, 56043), datetime.datetime(2021, 3, 26, 14, 39, 3, 56043), datetime.datetime(2021, 3, 27, 14, 39, 3, 56043), datetime.datetime(2021, 3, 28, 14, 39, 3, 56043), datetime.datetime(2021, 3, 29, 14, 39, 3, 56043), datetime.datetime(2021, 3, 30, 14, 39, 3, 56043), datetime.datetime(2021, 3, 31, 14, 39, 3, 56043), datetime.datetime(2021, 4, 1, 14, 39, 3, 56043), datetime.datetime(2021, 4, 2, 14, 39, 3, 56043), datetime.datetime(2021, 4, 3, 14, 39, 3, 56043), datetime.datetime(2021, 4, 4, 14, 39, 3, 56043), datetime.datetime(2021, 4, 5, 14, 39, 3, 56043), datetime.datetime(2021, 4, 6, 14, 39, 3, 56043), datetime.datetime(2021, 4, 7, 14, 39, 3, 56043), datetime.datetime(2021, 4, 8, 14, 39, 3, 56043), datetime.datetime(2021, 4, 9, 14, 39, 3, 56043), datetime.datetime(2021, 4, 10, 14, 39, 3, 56043), datetime.datetime(2021, 4, 11, 14, 39, 3, 56043), datetime.datetime(2021, 4, 12, 14, 39, 3, 56043), datetime.datetime(2021, 4, 13, 14, 39, 3, 56043), datetime.datetime(2021, 4, 14, 14, 39, 3, 56043), datetime.datetime(2021, 4, 15, 14, 39, 3, 56043), datetime.datetime(2021, 4, 16, 14, 39, 3, 56043), datetime.datetime(2021, 4, 17, 14, 39, 3, 56043), datetime.datetime(2021, 4, 18, 14, 39, 3, 56043), datetime.datetime(2021, 4, 19, 14, 39, 3, 56043), datetime.datetime(2021, 4, 20, 14, 39, 3, 56043), datetime.datetime(2021, 4, 21, 14, 39, 3, 56043), datetime.datetime(2021, 4, 22, 14, 39, 3, 56043), datetime.datetime(2021, 4, 23, 14, 39, 3, 56043), datetime.datetime(2021, 4, 24, 14, 39, 3, 56043), datetime.datetime(2021, 4, 25, 14, 39, 3, 56043), datetime.datetime(2021, 4, 26, 14, 39, 3, 56043), datetime.datetime(2021, 4, 27, 14, 39, 3, 56043), datetime.datetime(2021, 4, 28, 14, 39, 3, 56043), datetime.datetime(2021, 4, 29, 14, 39, 3, 56043), datetime.datetime(2021, 4, 30, 14, 39, 3, 56043), datetime.datetime(2021, 5, 1, 14, 39, 3, 56043), datetime.datetime(2021, 5, 2, 14, 39, 3, 56043), datetime.datetime(2021, 5, 3, 14, 39, 3, 56043), datetime.datetime(2021, 5, 4, 14, 39, 3, 56043), datetime.datetime(2021, 5, 5, 14, 39, 3, 56043), datetime.datetime(2021, 5, 6, 14, 39, 3, 56043), datetime.datetime(2021, 5, 7, 14, 39, 3, 56043), datetime.datetime(2021, 5, 8, 14, 39, 3, 56043), datetime.datetime(2021, 5, 9, 14, 39, 3, 56043), datetime.datetime(2021, 5, 10, 14, 39, 3, 56043), datetime.datetime(2021, 5, 11, 14, 39, 3, 56043), datetime.datetime(2021, 5, 12, 14, 39, 3, 56043), datetime.datetime(2021, 5, 13, 14, 39, 3, 56043), datetime.datetime(2021, 5, 14, 14, 39, 3, 56043), datetime.datetime(2021, 5, 15, 14, 39, 3, 56043), datetime.datetime(2021, 5, 16, 14, 39, 3, 56043), datetime.datetime(2021, 5, 17, 14, 39, 3, 56043), datetime.datetime(2021, 5, 18, 14, 39, 3, 56043), datetime.datetime(2021, 5, 19, 14, 39, 3, 56043), datetime.datetime(2021, 5, 20, 14, 39, 3, 56043), datetime.datetime(2021, 5, 21, 14, 39, 3, 56043), datetime.datetime(2021, 5, 22, 14, 39, 3, 56043), datetime.datetime(2021, 5, 23, 14, 39, 3, 56043), datetime.datetime(2021, 5, 24, 14, 39, 3, 56043), datetime.datetime(2021, 5, 25, 14, 39, 3, 56043), datetime.datetime(2021, 5, 26, 14, 39, 3, 56043), datetime.datetime(2021, 5, 27, 14, 39, 3, 56043), datetime.datetime(2021, 5, 28, 14, 39, 3, 56043), datetime.datetime(2021, 5, 29, 14, 39, 3, 56043), datetime.datetime(2021, 5, 30, 14, 39, 3, 56043), datetime.datetime(2021, 5, 31, 14, 39, 3, 56043), datetime.datetime(2021, 6, 1, 14, 39, 3, 56043), datetime.datetime(2021, 6, 2, 14, 39, 3, 56043), datetime.datetime(2021, 6, 3, 14, 39, 3, 56043), datetime.datetime(2021, 6, 4, 14, 39, 3, 56043), datetime.datetime(2021, 6, 5, 14, 39, 3, 56043), datetime.datetime(2021, 6, 6, 14, 39, 3, 56043), datetime.datetime(2021, 6, 7, 14, 39, 3, 56043), datetime.datetime(2021, 6, 8, 14, 39, 3, 56043), datetime.datetime(2021, 6, 9, 14, 39, 3, 56043), datetime.datetime(2021, 6, 10, 14, 39, 3, 56043), datetime.datetime(2021, 6, 11, 14, 39, 3, 56043), datetime.datetime(2021, 6, 12, 14, 39, 3, 56043), datetime.datetime(2021, 6, 13, 14, 39, 3, 56043), datetime.datetime(2021, 6, 14, 14, 39, 3, 56043), datetime.datetime(2021, 6, 15, 14, 39, 3, 56043), datetime.datetime(2021, 6, 16, 14, 39, 3, 56043), datetime.datetime(2021, 6, 17, 14, 39, 3, 56043), datetime.datetime(2021, 6, 18, 14, 39, 3, 56043), datetime.datetime(2021, 6, 19, 14, 39, 3, 56043), datetime.datetime(2021, 6, 20, 14, 39, 3, 56043), datetime.datetime(2021, 6, 21, 14, 39, 3, 56043), datetime.datetime(2021, 6, 22, 14, 39, 3, 56043), datetime.datetime(2021, 6, 23, 14, 39, 3, 56043), datetime.datetime(2021, 6, 24, 14, 39, 3, 56043), datetime.datetime(2021, 6, 25, 14, 39, 3, 56043), datetime.datetime(2021, 6, 26, 14, 39, 3, 56043), datetime.datetime(2021, 6, 27, 14, 39, 3, 56043), datetime.datetime(2021, 6, 28, 14, 39, 3, 56043), datetime.datetime(2021, 6, 29, 14, 39, 3, 56043), datetime.datetime(2021, 6, 30, 14, 39, 3, 56043), datetime.datetime(2021, 7, 1, 14, 39, 3, 56043), datetime.datetime(2021, 7, 2, 14, 39, 3, 56043), datetime.datetime(2021, 7, 3, 14, 39, 3, 56043), datetime.datetime(2021, 7, 4, 14, 39, 3, 56043), datetime.datetime(2021, 7, 5, 14, 39, 3, 56043), datetime.datetime(2021, 7, 6, 14, 39, 3, 56043), datetime.datetime(2021, 7, 7, 14, 39, 3, 56043), datetime.datetime(2021, 7, 8, 14, 39, 3, 56043), datetime.datetime(2021, 7, 9, 14, 39, 3, 56043), datetime.datetime(2021, 7, 10, 14, 39, 3, 56043), datetime.datetime(2021, 7, 11, 14, 39, 3, 56043), datetime.datetime(2021, 7, 12, 14, 39, 3, 56043), datetime.datetime(2021, 7, 13, 14, 39, 3, 56043), datetime.datetime(2021, 7, 14, 14, 39, 3, 56043), datetime.datetime(2021, 7, 15, 14, 39, 3, 56043), datetime.datetime(2021, 7, 16, 14, 39, 3, 56043), datetime.datetime(2021, 7, 17, 14, 39, 3, 56043), datetime.datetime(2021, 7, 18, 14, 39, 3, 56043), datetime.datetime(2021, 7, 19, 14, 39, 3, 56043), datetime.datetime(2021, 7, 20, 14, 39, 3, 56043), datetime.datetime(2021, 7, 21, 14, 39, 3, 56043), datetime.datetime(2021, 7, 22, 14, 39, 3, 56043), datetime.datetime(2021, 7, 23, 14, 39, 3, 56043), datetime.datetime(2021, 7, 24, 14, 39, 3, 56043), datetime.datetime(2021, 7, 25, 14, 39, 3, 56043), datetime.datetime(2021, 7, 26, 14, 39, 3, 56043), datetime.datetime(2021, 7, 27, 14, 39, 3, 56043), datetime.datetime(2021, 7, 28, 14, 39, 3, 56043), datetime.datetime(2021, 7, 29, 14, 39, 3, 56043), datetime.datetime(2021, 7, 30, 14, 39, 3, 56043), datetime.datetime(2021, 7, 31, 14, 39, 3, 56043), datetime.datetime(2021, 8, 1, 14, 39, 3, 56043), datetime.datetime(2021, 8, 2, 14, 39, 3, 56043), datetime.datetime(2021, 8, 3, 14, 39, 3, 56043), datetime.datetime(2021, 8, 4, 14, 39, 3, 56043), datetime.datetime(2021, 8, 5, 14, 39, 3, 56043), datetime.datetime(2021, 8, 6, 14, 39, 3, 56043), datetime.datetime(2021, 8, 7, 14, 39, 3, 56043), datetime.datetime(2021, 8, 8, 14, 39, 3, 56043), datetime.datetime(2021, 8, 9, 14, 39, 3, 56043), datetime.datetime(2021, 8, 10, 14, 39, 3, 56043), datetime.datetime(2021, 8, 11, 14, 39, 3, 56043), datetime.datetime(2021, 8, 12, 14, 39, 3, 56043), datetime.datetime(2021, 8, 13, 14, 39, 3, 56043), datetime.datetime(2021, 8, 14, 14, 39, 3, 56043), datetime.datetime(2021, 8, 15, 14, 39, 3, 56043), datetime.datetime(2021, 8, 16, 14, 39, 3, 56043), datetime.datetime(2021, 8, 17, 14, 39, 3, 56043), datetime.datetime(2021, 8, 18, 14, 39, 3, 56043), datetime.datetime(2021, 8, 19, 14, 39, 3, 56043), datetime.datetime(2021, 8, 20, 14, 39, 3, 56043), datetime.datetime(2021, 8, 21, 14, 39, 3, 56043), datetime.datetime(2021, 8, 22, 14, 39, 3, 56043), datetime.datetime(2021, 8, 23, 14, 39, 3, 56043), datetime.datetime(2021, 8, 24, 14, 39, 3, 56043), datetime.datetime(2021, 8, 25, 14, 39, 3, 56043), datetime.datetime(2021, 8, 26, 14, 39, 3, 56043), datetime.datetime(2021, 8, 27, 14, 39, 3, 56043), datetime.datetime(2021, 8, 28, 14, 39, 3, 56043), datetime.datetime(2021, 8, 29, 14, 39, 3, 56043), datetime.datetime(2021, 8, 30, 14, 39, 3, 56043), datetime.datetime(2021, 8, 31, 14, 39, 3, 56043), datetime.datetime(2021, 9, 1, 14, 39, 3, 56043), datetime.datetime(2021, 9, 2, 14, 39, 3, 56043), datetime.datetime(2021, 9, 3, 14, 39, 3, 56043), datetime.datetime(2021, 9, 4, 14, 39, 3, 56043), datetime.datetime(2021, 9, 5, 14, 39, 3, 56043), datetime.datetime(2021, 9, 6, 14, 39, 3, 56043), datetime.datetime(2021, 9, 7, 14, 39, 3, 56043), datetime.datetime(2021, 9, 8, 14, 39, 3, 56043), datetime.datetime(2021, 9, 9, 14, 39, 3, 56043), datetime.datetime(2021, 9, 10, 14, 39, 3, 56043), datetime.datetime(2021, 9, 11, 14, 39, 3, 56043), datetime.datetime(2021, 9, 12, 14, 39, 3, 56043), datetime.datetime(2021, 9, 13, 14, 39, 3, 56043), datetime.datetime(2021, 9, 14, 14, 39, 3, 56043), datetime.datetime(2021, 9, 15, 14, 39, 3, 56043), datetime.datetime(2021, 9, 16, 14, 39, 3, 56043), datetime.datetime(2021, 9, 17, 14, 39, 3, 56043), datetime.datetime(2021, 9, 18, 14, 39, 3, 56043), datetime.datetime(2021, 9, 19, 14, 39, 3, 56043), datetime.datetime(2021, 9, 20, 14, 39, 3, 56043), datetime.datetime(2021, 9, 21, 14, 39, 3, 56043), datetime.datetime(2021, 9, 22, 14, 39, 3, 56043), datetime.datetime(2021, 9, 23, 14, 39, 3, 56043), datetime.datetime(2021, 9, 24, 14, 39, 3, 56043), datetime.datetime(2021, 9, 25, 14, 39, 3, 56043), datetime.datetime(2021, 9, 26, 14, 39, 3, 56043), datetime.datetime(2021, 9, 27, 14, 39, 3, 56043), datetime.datetime(2021, 9, 28, 14, 39, 3, 56043), datetime.datetime(2021, 9, 29, 14, 39, 3, 56043), datetime.datetime(2021, 9, 30, 14, 39, 3, 56043), datetime.datetime(2021, 10, 1, 14, 39, 3, 56043), datetime.datetime(2021, 10, 2, 14, 39, 3, 56043), datetime.datetime(2021, 10, 3, 14, 39, 3, 56043), datetime.datetime(2021, 10, 4, 14, 39, 3, 56043), datetime.datetime(2021, 10, 5, 14, 39, 3, 56043), datetime.datetime(2021, 10, 6, 14, 39, 3, 56043), datetime.datetime(2021, 10, 7, 14, 39, 3, 56043), datetime.datetime(2021, 10, 8, 14, 39, 3, 56043), datetime.datetime(2021, 10, 9, 14, 39, 3, 56043), datetime.datetime(2021, 10, 10, 14, 39, 3, 56043), datetime.datetime(2021, 10, 11, 14, 39, 3, 56043), datetime.datetime(2021, 10, 12, 14, 39, 3, 56043), datetime.datetime(2021, 10, 13, 14, 39, 3, 56043), datetime.datetime(2021, 10, 14, 14, 39, 3, 56043), datetime.datetime(2021, 10, 15, 14, 39, 3, 56043), datetime.datetime(2021, 10, 16, 14, 39, 3, 56043), datetime.datetime(2021, 10, 17, 14, 39, 3, 56043), datetime.datetime(2021, 10, 18, 14, 39, 3, 56043), datetime.datetime(2021, 10, 19, 14, 39, 3, 56043), datetime.datetime(2021, 10, 20, 14, 39, 3, 56043), datetime.datetime(2021, 10, 21, 14, 39, 3, 56043), datetime.datetime(2021, 10, 22, 14, 39, 3, 56043), datetime.datetime(2021, 10, 23, 14, 39, 3, 56043), datetime.datetime(2021, 10, 24, 14, 39, 3, 56043), datetime.datetime(2021, 10, 25, 14, 39, 3, 56043), datetime.datetime(2021, 10, 26, 14, 39, 3, 56043), datetime.datetime(2021, 10, 27, 14, 39, 3, 56043), datetime.datetime(2021, 10, 28, 14, 39, 3, 56043), datetime.datetime(2021, 10, 29, 14, 39, 3, 56043), datetime.datetime(2021, 10, 30, 14, 39, 3, 56043), datetime.datetime(2021, 10, 31, 14, 39, 3, 56043), datetime.datetime(2021, 11, 1, 14, 39, 3, 56043), datetime.datetime(2021, 11, 2, 14, 39, 3, 56043), datetime.datetime(2021, 11, 3, 14, 39, 3, 56043), datetime.datetime(2021, 11, 4, 14, 39, 3, 56043), datetime.datetime(2021, 11, 5, 14, 39, 3, 56043), datetime.datetime(2021, 11, 6, 14, 39, 3, 56043), datetime.datetime(2021, 11, 7, 14, 39, 3, 56043), datetime.datetime(2021, 11, 8, 14, 39, 3, 56043), datetime.datetime(2021, 11, 9, 14, 39, 3, 56043), datetime.datetime(2021, 11, 10, 14, 39, 3, 56043), datetime.datetime(2021, 11, 11, 14, 39, 3, 56043), datetime.datetime(2021, 11, 12, 14, 39, 3, 56043), datetime.datetime(2021, 11, 13, 14, 39, 3, 56043), datetime.datetime(2021, 11, 14, 14, 39, 3, 56043), datetime.datetime(2021, 11, 15, 14, 39, 3, 56043), datetime.datetime(2021, 11, 16, 14, 39, 3, 56043), datetime.datetime(2021, 11, 17, 14, 39, 3, 56043), datetime.datetime(2021, 11, 18, 14, 39, 3, 56043), datetime.datetime(2021, 11, 19, 14, 39, 3, 56043), datetime.datetime(2021, 11, 20, 14, 39, 3, 56043), datetime.datetime(2021, 11, 21, 14, 39, 3, 56043), datetime.datetime(2021, 11, 22, 14, 39, 3, 56043), datetime.datetime(2021, 11, 23, 14, 39, 3, 56043), datetime.datetime(2021, 11, 24, 14, 39, 3, 56043), datetime.datetime(2021, 11, 25, 14, 39, 3, 56043), datetime.datetime(2021, 11, 26, 14, 39, 3, 56043), datetime.datetime(2021, 11, 27, 14, 39, 3, 56043), datetime.datetime(2021, 11, 28, 14, 39, 3, 56043), datetime.datetime(2021, 11, 29, 14, 39, 3, 56043), datetime.datetime(2021, 11, 30, 14, 39, 3, 56043), datetime.datetime(2021, 12, 1, 14, 39, 3, 56043), datetime.datetime(2021, 12, 2, 14, 39, 3, 56043), datetime.datetime(2021, 12, 3, 14, 39, 3, 56043), datetime.datetime(2021, 12, 4, 14, 39, 3, 56043), datetime.datetime(2021, 12, 5, 14, 39, 3, 56043), datetime.datetime(2021, 12, 6, 14, 39, 3, 56043), datetime.datetime(2021, 12, 7, 14, 39, 3, 56043), datetime.datetime(2021, 12, 8, 14, 39, 3, 56043), datetime.datetime(2021, 12, 9, 14, 39, 3, 56043), datetime.datetime(2021, 12, 10, 14, 39, 3, 56043), datetime.datetime(2021, 12, 11, 14, 39, 3, 56043), datetime.datetime(2021, 12, 12, 14, 39, 3, 56043), datetime.datetime(2021, 12, 13, 14, 39, 3, 56043), datetime.datetime(2021, 12, 14, 14, 39, 3, 56043), datetime.datetime(2021, 12, 15, 14, 39, 3, 56043), datetime.datetime(2021, 12, 16, 14, 39, 3, 56043), datetime.datetime(2021, 12, 17, 14, 39, 3, 56043), datetime.datetime(2021, 12, 18, 14, 39, 3, 56043), datetime.datetime(2021, 12, 19, 14, 39, 3, 56043), datetime.datetime(2021, 12, 20, 14, 39, 3, 56043), datetime.datetime(2021, 12, 21, 14, 39, 3, 56043), datetime.datetime(2021, 12, 22, 14, 39, 3, 56043), datetime.datetime(2021, 12, 23, 14, 39, 3, 56043), datetime.datetime(2021, 12, 24, 14, 39, 3, 56043), datetime.datetime(2021, 12, 25, 14, 39, 3, 56043), datetime.datetime(2021, 12, 26, 14, 39, 3, 56043), datetime.datetime(2021, 12, 27, 14, 39, 3, 56043), datetime.datetime(2021, 12, 28, 14, 39, 3, 56043), datetime.datetime(2021, 12, 29, 14, 39, 3, 56043), datetime.datetime(2021, 12, 30, 14, 39, 3, 56043), datetime.datetime(2021, 12, 31, 14, 39, 3, 56043), datetime.datetime(2022, 1, 1, 14, 39, 3, 56043), datetime.datetime(2022, 1, 2, 14, 39, 3, 56043), datetime.datetime(2022, 1, 3, 14, 39, 3, 56043), datetime.datetime(2022, 1, 4, 14, 39, 3, 56043), datetime.datetime(2022, 1, 5, 14, 39, 3, 56043)]\n"
          ]
        }
      ]
    },
    {
      "cell_type": "code",
      "metadata": {
        "colab": {
          "base_uri": "https://localhost:8080/",
          "height": 542
        },
        "id": "eOsqrV2Uv-7b",
        "outputId": "47aeaf5c-9f04-4f0b-cdc4-2b632677ddaf"
      },
      "source": [
        "import plotly.graph_objects as go\n",
        "fig = go.Figure([go.Scatter(x=dateList, y=df['predict'])])\n",
        "fig.show()"
      ],
      "execution_count": 170,
      "outputs": [
        {
          "output_type": "display_data",
          "data": {
            "text/html": [
              "<html>\n",
              "<head><meta charset=\"utf-8\" /></head>\n",
              "<body>\n",
              "    <div>\n",
              "            <script src=\"https://cdnjs.cloudflare.com/ajax/libs/mathjax/2.7.5/MathJax.js?config=TeX-AMS-MML_SVG\"></script><script type=\"text/javascript\">if (window.MathJax) {MathJax.Hub.Config({SVG: {font: \"STIX-Web\"}});}</script>\n",
              "                <script type=\"text/javascript\">window.PlotlyConfig = {MathJaxConfig: 'local'};</script>\n",
              "        <script src=\"https://cdn.plot.ly/plotly-latest.min.js\"></script>    \n",
              "            <div id=\"3a66aada-7ef8-41ef-be25-01c70826fe4e\" class=\"plotly-graph-div\" style=\"height:525px; width:100%;\"></div>\n",
              "            <script type=\"text/javascript\">\n",
              "                \n",
              "                    window.PLOTLYENV=window.PLOTLYENV || {};\n",
              "                    \n",
              "                if (document.getElementById(\"3a66aada-7ef8-41ef-be25-01c70826fe4e\")) {\n",
              "                    Plotly.newPlot(\n",
              "                        '3a66aada-7ef8-41ef-be25-01c70826fe4e',\n",
              "                        [{\"type\": \"scatter\", \"x\": [\"2018-06-16T14:39:03.056043\", \"2018-06-17T14:39:03.056043\", \"2018-06-18T14:39:03.056043\", \"2018-06-19T14:39:03.056043\", \"2018-06-20T14:39:03.056043\", \"2018-06-21T14:39:03.056043\", \"2018-06-22T14:39:03.056043\", \"2018-06-23T14:39:03.056043\", \"2018-06-24T14:39:03.056043\", \"2018-06-25T14:39:03.056043\", \"2018-06-26T14:39:03.056043\", \"2018-06-27T14:39:03.056043\", \"2018-06-28T14:39:03.056043\", \"2018-06-29T14:39:03.056043\", \"2018-06-30T14:39:03.056043\", \"2018-07-01T14:39:03.056043\", \"2018-07-02T14:39:03.056043\", \"2018-07-03T14:39:03.056043\", \"2018-07-04T14:39:03.056043\", \"2018-07-05T14:39:03.056043\", \"2018-07-06T14:39:03.056043\", \"2018-07-07T14:39:03.056043\", \"2018-07-08T14:39:03.056043\", \"2018-07-09T14:39:03.056043\", \"2018-07-10T14:39:03.056043\", \"2018-07-11T14:39:03.056043\", \"2018-07-12T14:39:03.056043\", \"2018-07-13T14:39:03.056043\", \"2018-07-14T14:39:03.056043\", \"2018-07-15T14:39:03.056043\", \"2018-07-16T14:39:03.056043\", \"2018-07-17T14:39:03.056043\", \"2018-07-18T14:39:03.056043\", \"2018-07-19T14:39:03.056043\", \"2018-07-20T14:39:03.056043\", \"2018-07-21T14:39:03.056043\", \"2018-07-22T14:39:03.056043\", \"2018-07-23T14:39:03.056043\", \"2018-07-24T14:39:03.056043\", \"2018-07-25T14:39:03.056043\", \"2018-07-26T14:39:03.056043\", \"2018-07-27T14:39:03.056043\", \"2018-07-28T14:39:03.056043\", \"2018-07-29T14:39:03.056043\", \"2018-07-30T14:39:03.056043\", \"2018-07-31T14:39:03.056043\", \"2018-08-01T14:39:03.056043\", \"2018-08-02T14:39:03.056043\", \"2018-08-03T14:39:03.056043\", \"2018-08-04T14:39:03.056043\", \"2018-08-05T14:39:03.056043\", \"2018-08-06T14:39:03.056043\", \"2018-08-07T14:39:03.056043\", \"2018-08-08T14:39:03.056043\", \"2018-08-09T14:39:03.056043\", \"2018-08-10T14:39:03.056043\", \"2018-08-11T14:39:03.056043\", \"2018-08-12T14:39:03.056043\", \"2018-08-13T14:39:03.056043\", \"2018-08-14T14:39:03.056043\", \"2018-08-15T14:39:03.056043\", \"2018-08-16T14:39:03.056043\", \"2018-08-17T14:39:03.056043\", \"2018-08-18T14:39:03.056043\", \"2018-08-19T14:39:03.056043\", \"2018-08-20T14:39:03.056043\", \"2018-08-21T14:39:03.056043\", \"2018-08-22T14:39:03.056043\", \"2018-08-23T14:39:03.056043\", \"2018-08-24T14:39:03.056043\", \"2018-08-25T14:39:03.056043\", \"2018-08-26T14:39:03.056043\", \"2018-08-27T14:39:03.056043\", \"2018-08-28T14:39:03.056043\", \"2018-08-29T14:39:03.056043\", \"2018-08-30T14:39:03.056043\", \"2018-08-31T14:39:03.056043\", \"2018-09-01T14:39:03.056043\", \"2018-09-02T14:39:03.056043\", \"2018-09-03T14:39:03.056043\", \"2018-09-04T14:39:03.056043\", \"2018-09-05T14:39:03.056043\", \"2018-09-06T14:39:03.056043\", \"2018-09-07T14:39:03.056043\", \"2018-09-08T14:39:03.056043\", \"2018-09-09T14:39:03.056043\", \"2018-09-10T14:39:03.056043\", \"2018-09-11T14:39:03.056043\", \"2018-09-12T14:39:03.056043\", \"2018-09-13T14:39:03.056043\", \"2018-09-14T14:39:03.056043\", \"2018-09-15T14:39:03.056043\", \"2018-09-16T14:39:03.056043\", \"2018-09-17T14:39:03.056043\", \"2018-09-18T14:39:03.056043\", \"2018-09-19T14:39:03.056043\", \"2018-09-20T14:39:03.056043\", \"2018-09-21T14:39:03.056043\", \"2018-09-22T14:39:03.056043\", \"2018-09-23T14:39:03.056043\", \"2018-09-24T14:39:03.056043\", \"2018-09-25T14:39:03.056043\", \"2018-09-26T14:39:03.056043\", \"2018-09-27T14:39:03.056043\", \"2018-09-28T14:39:03.056043\", \"2018-09-29T14:39:03.056043\", \"2018-09-30T14:39:03.056043\", \"2018-10-01T14:39:03.056043\", \"2018-10-02T14:39:03.056043\", \"2018-10-03T14:39:03.056043\", \"2018-10-04T14:39:03.056043\", \"2018-10-05T14:39:03.056043\", \"2018-10-06T14:39:03.056043\", \"2018-10-07T14:39:03.056043\", \"2018-10-08T14:39:03.056043\", \"2018-10-09T14:39:03.056043\", \"2018-10-10T14:39:03.056043\", \"2018-10-11T14:39:03.056043\", \"2018-10-12T14:39:03.056043\", \"2018-10-13T14:39:03.056043\", \"2018-10-14T14:39:03.056043\", \"2018-10-15T14:39:03.056043\", \"2018-10-16T14:39:03.056043\", \"2018-10-17T14:39:03.056043\", \"2018-10-18T14:39:03.056043\", \"2018-10-19T14:39:03.056043\", \"2018-10-20T14:39:03.056043\", \"2018-10-21T14:39:03.056043\", \"2018-10-22T14:39:03.056043\", \"2018-10-23T14:39:03.056043\", \"2018-10-24T14:39:03.056043\", \"2018-10-25T14:39:03.056043\", \"2018-10-26T14:39:03.056043\", \"2018-10-27T14:39:03.056043\", \"2018-10-28T14:39:03.056043\", \"2018-10-29T14:39:03.056043\", \"2018-10-30T14:39:03.056043\", \"2018-10-31T14:39:03.056043\", \"2018-11-01T14:39:03.056043\", \"2018-11-02T14:39:03.056043\", \"2018-11-03T14:39:03.056043\", \"2018-11-04T14:39:03.056043\", \"2018-11-05T14:39:03.056043\", \"2018-11-06T14:39:03.056043\", \"2018-11-07T14:39:03.056043\", \"2018-11-08T14:39:03.056043\", \"2018-11-09T14:39:03.056043\", \"2018-11-10T14:39:03.056043\", \"2018-11-11T14:39:03.056043\", \"2018-11-12T14:39:03.056043\", \"2018-11-13T14:39:03.056043\", \"2018-11-14T14:39:03.056043\", \"2018-11-15T14:39:03.056043\", \"2018-11-16T14:39:03.056043\", \"2018-11-17T14:39:03.056043\", \"2018-11-18T14:39:03.056043\", \"2018-11-19T14:39:03.056043\", \"2018-11-20T14:39:03.056043\", \"2018-11-21T14:39:03.056043\", \"2018-11-22T14:39:03.056043\", \"2018-11-23T14:39:03.056043\", \"2018-11-24T14:39:03.056043\", \"2018-11-25T14:39:03.056043\", \"2018-11-26T14:39:03.056043\", \"2018-11-27T14:39:03.056043\", \"2018-11-28T14:39:03.056043\", \"2018-11-29T14:39:03.056043\", \"2018-11-30T14:39:03.056043\", \"2018-12-01T14:39:03.056043\", \"2018-12-02T14:39:03.056043\", \"2018-12-03T14:39:03.056043\", \"2018-12-04T14:39:03.056043\", \"2018-12-05T14:39:03.056043\", \"2018-12-06T14:39:03.056043\", \"2018-12-07T14:39:03.056043\", \"2018-12-08T14:39:03.056043\", \"2018-12-09T14:39:03.056043\", \"2018-12-10T14:39:03.056043\", \"2018-12-11T14:39:03.056043\", \"2018-12-12T14:39:03.056043\", \"2018-12-13T14:39:03.056043\", \"2018-12-14T14:39:03.056043\", \"2018-12-15T14:39:03.056043\", \"2018-12-16T14:39:03.056043\", \"2018-12-17T14:39:03.056043\", \"2018-12-18T14:39:03.056043\", \"2018-12-19T14:39:03.056043\", \"2018-12-20T14:39:03.056043\", \"2018-12-21T14:39:03.056043\", \"2018-12-22T14:39:03.056043\", \"2018-12-23T14:39:03.056043\", \"2018-12-24T14:39:03.056043\", \"2018-12-25T14:39:03.056043\", \"2018-12-26T14:39:03.056043\", \"2018-12-27T14:39:03.056043\", \"2018-12-28T14:39:03.056043\", \"2018-12-29T14:39:03.056043\", \"2018-12-30T14:39:03.056043\", \"2018-12-31T14:39:03.056043\", \"2019-01-01T14:39:03.056043\", \"2019-01-02T14:39:03.056043\", \"2019-01-03T14:39:03.056043\", \"2019-01-04T14:39:03.056043\", \"2019-01-05T14:39:03.056043\", \"2019-01-06T14:39:03.056043\", \"2019-01-07T14:39:03.056043\", \"2019-01-08T14:39:03.056043\", \"2019-01-09T14:39:03.056043\", \"2019-01-10T14:39:03.056043\", \"2019-01-11T14:39:03.056043\", \"2019-01-12T14:39:03.056043\", \"2019-01-13T14:39:03.056043\", \"2019-01-14T14:39:03.056043\", \"2019-01-15T14:39:03.056043\", \"2019-01-16T14:39:03.056043\", \"2019-01-17T14:39:03.056043\", \"2019-01-18T14:39:03.056043\", \"2019-01-19T14:39:03.056043\", \"2019-01-20T14:39:03.056043\", \"2019-01-21T14:39:03.056043\", \"2019-01-22T14:39:03.056043\", \"2019-01-23T14:39:03.056043\", \"2019-01-24T14:39:03.056043\", \"2019-01-25T14:39:03.056043\", \"2019-01-26T14:39:03.056043\", \"2019-01-27T14:39:03.056043\", \"2019-01-28T14:39:03.056043\", \"2019-01-29T14:39:03.056043\", \"2019-01-30T14:39:03.056043\", \"2019-01-31T14:39:03.056043\", \"2019-02-01T14:39:03.056043\", \"2019-02-02T14:39:03.056043\", \"2019-02-03T14:39:03.056043\", \"2019-02-04T14:39:03.056043\", \"2019-02-05T14:39:03.056043\", \"2019-02-06T14:39:03.056043\", \"2019-02-07T14:39:03.056043\", \"2019-02-08T14:39:03.056043\", \"2019-02-09T14:39:03.056043\", \"2019-02-10T14:39:03.056043\", \"2019-02-11T14:39:03.056043\", \"2019-02-12T14:39:03.056043\", \"2019-02-13T14:39:03.056043\", \"2019-02-14T14:39:03.056043\", \"2019-02-15T14:39:03.056043\", \"2019-02-16T14:39:03.056043\", \"2019-02-17T14:39:03.056043\", \"2019-02-18T14:39:03.056043\", \"2019-02-19T14:39:03.056043\", \"2019-02-20T14:39:03.056043\", \"2019-02-21T14:39:03.056043\", \"2019-02-22T14:39:03.056043\", \"2019-02-23T14:39:03.056043\", \"2019-02-24T14:39:03.056043\", \"2019-02-25T14:39:03.056043\", \"2019-02-26T14:39:03.056043\", \"2019-02-27T14:39:03.056043\", \"2019-02-28T14:39:03.056043\", \"2019-03-01T14:39:03.056043\", \"2019-03-02T14:39:03.056043\", \"2019-03-03T14:39:03.056043\", \"2019-03-04T14:39:03.056043\", \"2019-03-05T14:39:03.056043\", \"2019-03-06T14:39:03.056043\", \"2019-03-07T14:39:03.056043\", \"2019-03-08T14:39:03.056043\", \"2019-03-09T14:39:03.056043\", \"2019-03-10T14:39:03.056043\", \"2019-03-11T14:39:03.056043\", \"2019-03-12T14:39:03.056043\", \"2019-03-13T14:39:03.056043\", \"2019-03-14T14:39:03.056043\", \"2019-03-15T14:39:03.056043\", \"2019-03-16T14:39:03.056043\", \"2019-03-17T14:39:03.056043\", \"2019-03-18T14:39:03.056043\", \"2019-03-19T14:39:03.056043\", \"2019-03-20T14:39:03.056043\", \"2019-03-21T14:39:03.056043\", \"2019-03-22T14:39:03.056043\", \"2019-03-23T14:39:03.056043\", \"2019-03-24T14:39:03.056043\", \"2019-03-25T14:39:03.056043\", \"2019-03-26T14:39:03.056043\", \"2019-03-27T14:39:03.056043\", \"2019-03-28T14:39:03.056043\", \"2019-03-29T14:39:03.056043\", \"2019-03-30T14:39:03.056043\", \"2019-03-31T14:39:03.056043\", \"2019-04-01T14:39:03.056043\", \"2019-04-02T14:39:03.056043\", \"2019-04-03T14:39:03.056043\", \"2019-04-04T14:39:03.056043\", \"2019-04-05T14:39:03.056043\", \"2019-04-06T14:39:03.056043\", \"2019-04-07T14:39:03.056043\", \"2019-04-08T14:39:03.056043\", \"2019-04-09T14:39:03.056043\", \"2019-04-10T14:39:03.056043\", \"2019-04-11T14:39:03.056043\", \"2019-04-12T14:39:03.056043\", \"2019-04-13T14:39:03.056043\", \"2019-04-14T14:39:03.056043\", \"2019-04-15T14:39:03.056043\", \"2019-04-16T14:39:03.056043\", \"2019-04-17T14:39:03.056043\", \"2019-04-18T14:39:03.056043\", \"2019-04-19T14:39:03.056043\", \"2019-04-20T14:39:03.056043\", \"2019-04-21T14:39:03.056043\", \"2019-04-22T14:39:03.056043\", \"2019-04-23T14:39:03.056043\", \"2019-04-24T14:39:03.056043\", \"2019-04-25T14:39:03.056043\", \"2019-04-26T14:39:03.056043\", \"2019-04-27T14:39:03.056043\", \"2019-04-28T14:39:03.056043\", \"2019-04-29T14:39:03.056043\", \"2019-04-30T14:39:03.056043\", \"2019-05-01T14:39:03.056043\", \"2019-05-02T14:39:03.056043\", \"2019-05-03T14:39:03.056043\", \"2019-05-04T14:39:03.056043\", \"2019-05-05T14:39:03.056043\", \"2019-05-06T14:39:03.056043\", \"2019-05-07T14:39:03.056043\", \"2019-05-08T14:39:03.056043\", \"2019-05-09T14:39:03.056043\", \"2019-05-10T14:39:03.056043\", \"2019-05-11T14:39:03.056043\", \"2019-05-12T14:39:03.056043\", \"2019-05-13T14:39:03.056043\", \"2019-05-14T14:39:03.056043\", \"2019-05-15T14:39:03.056043\", \"2019-05-16T14:39:03.056043\", \"2019-05-17T14:39:03.056043\", \"2019-05-18T14:39:03.056043\", \"2019-05-19T14:39:03.056043\", \"2019-05-20T14:39:03.056043\", \"2019-05-21T14:39:03.056043\", \"2019-05-22T14:39:03.056043\", \"2019-05-23T14:39:03.056043\", \"2019-05-24T14:39:03.056043\", \"2019-05-25T14:39:03.056043\", \"2019-05-26T14:39:03.056043\", \"2019-05-27T14:39:03.056043\", \"2019-05-28T14:39:03.056043\", \"2019-05-29T14:39:03.056043\", \"2019-05-30T14:39:03.056043\", \"2019-05-31T14:39:03.056043\", \"2019-06-01T14:39:03.056043\", \"2019-06-02T14:39:03.056043\", \"2019-06-03T14:39:03.056043\", \"2019-06-04T14:39:03.056043\", \"2019-06-05T14:39:03.056043\", \"2019-06-06T14:39:03.056043\", \"2019-06-07T14:39:03.056043\", \"2019-06-08T14:39:03.056043\", \"2019-06-09T14:39:03.056043\", \"2019-06-10T14:39:03.056043\", \"2019-06-11T14:39:03.056043\", \"2019-06-12T14:39:03.056043\", \"2019-06-13T14:39:03.056043\", \"2019-06-14T14:39:03.056043\", \"2019-06-15T14:39:03.056043\", \"2019-06-16T14:39:03.056043\", \"2019-06-17T14:39:03.056043\", \"2019-06-18T14:39:03.056043\", \"2019-06-19T14:39:03.056043\", \"2019-06-20T14:39:03.056043\", \"2019-06-21T14:39:03.056043\", \"2019-06-22T14:39:03.056043\", \"2019-06-23T14:39:03.056043\", \"2019-06-24T14:39:03.056043\", \"2019-06-25T14:39:03.056043\", \"2019-06-26T14:39:03.056043\", \"2019-06-27T14:39:03.056043\", \"2019-06-28T14:39:03.056043\", \"2019-06-29T14:39:03.056043\", \"2019-06-30T14:39:03.056043\", \"2019-07-01T14:39:03.056043\", \"2019-07-02T14:39:03.056043\", \"2019-07-03T14:39:03.056043\", \"2019-07-04T14:39:03.056043\", \"2019-07-05T14:39:03.056043\", \"2019-07-06T14:39:03.056043\", \"2019-07-07T14:39:03.056043\", \"2019-07-08T14:39:03.056043\", \"2019-07-09T14:39:03.056043\", \"2019-07-10T14:39:03.056043\", \"2019-07-11T14:39:03.056043\", \"2019-07-12T14:39:03.056043\", \"2019-07-13T14:39:03.056043\", \"2019-07-14T14:39:03.056043\", \"2019-07-15T14:39:03.056043\", \"2019-07-16T14:39:03.056043\", \"2019-07-17T14:39:03.056043\", \"2019-07-18T14:39:03.056043\", \"2019-07-19T14:39:03.056043\", \"2019-07-20T14:39:03.056043\", \"2019-07-21T14:39:03.056043\", \"2019-07-22T14:39:03.056043\", \"2019-07-23T14:39:03.056043\", \"2019-07-24T14:39:03.056043\", \"2019-07-25T14:39:03.056043\", \"2019-07-26T14:39:03.056043\", \"2019-07-27T14:39:03.056043\", \"2019-07-28T14:39:03.056043\", \"2019-07-29T14:39:03.056043\", \"2019-07-30T14:39:03.056043\", \"2019-07-31T14:39:03.056043\", \"2019-08-01T14:39:03.056043\", \"2019-08-02T14:39:03.056043\", \"2019-08-03T14:39:03.056043\", \"2019-08-04T14:39:03.056043\", \"2019-08-05T14:39:03.056043\", \"2019-08-06T14:39:03.056043\", \"2019-08-07T14:39:03.056043\", \"2019-08-08T14:39:03.056043\", \"2019-08-09T14:39:03.056043\", \"2019-08-10T14:39:03.056043\", \"2019-08-11T14:39:03.056043\", \"2019-08-12T14:39:03.056043\", \"2019-08-13T14:39:03.056043\", \"2019-08-14T14:39:03.056043\", \"2019-08-15T14:39:03.056043\", \"2019-08-16T14:39:03.056043\", \"2019-08-17T14:39:03.056043\", \"2019-08-18T14:39:03.056043\", \"2019-08-19T14:39:03.056043\", \"2019-08-20T14:39:03.056043\", \"2019-08-21T14:39:03.056043\", \"2019-08-22T14:39:03.056043\", \"2019-08-23T14:39:03.056043\", \"2019-08-24T14:39:03.056043\", \"2019-08-25T14:39:03.056043\", \"2019-08-26T14:39:03.056043\", \"2019-08-27T14:39:03.056043\", \"2019-08-28T14:39:03.056043\", \"2019-08-29T14:39:03.056043\", \"2019-08-30T14:39:03.056043\", \"2019-08-31T14:39:03.056043\", \"2019-09-01T14:39:03.056043\", \"2019-09-02T14:39:03.056043\", \"2019-09-03T14:39:03.056043\", \"2019-09-04T14:39:03.056043\", \"2019-09-05T14:39:03.056043\", \"2019-09-06T14:39:03.056043\", \"2019-09-07T14:39:03.056043\", \"2019-09-08T14:39:03.056043\", \"2019-09-09T14:39:03.056043\", \"2019-09-10T14:39:03.056043\", \"2019-09-11T14:39:03.056043\", \"2019-09-12T14:39:03.056043\", \"2019-09-13T14:39:03.056043\", \"2019-09-14T14:39:03.056043\", \"2019-09-15T14:39:03.056043\", \"2019-09-16T14:39:03.056043\", \"2019-09-17T14:39:03.056043\", \"2019-09-18T14:39:03.056043\", \"2019-09-19T14:39:03.056043\", \"2019-09-20T14:39:03.056043\", \"2019-09-21T14:39:03.056043\", \"2019-09-22T14:39:03.056043\", \"2019-09-23T14:39:03.056043\", \"2019-09-24T14:39:03.056043\", \"2019-09-25T14:39:03.056043\", \"2019-09-26T14:39:03.056043\", \"2019-09-27T14:39:03.056043\", \"2019-09-28T14:39:03.056043\", \"2019-09-29T14:39:03.056043\", \"2019-09-30T14:39:03.056043\", \"2019-10-01T14:39:03.056043\", \"2019-10-02T14:39:03.056043\", \"2019-10-03T14:39:03.056043\", \"2019-10-04T14:39:03.056043\", \"2019-10-05T14:39:03.056043\", \"2019-10-06T14:39:03.056043\", \"2019-10-07T14:39:03.056043\", \"2019-10-08T14:39:03.056043\", \"2019-10-09T14:39:03.056043\", \"2019-10-10T14:39:03.056043\", \"2019-10-11T14:39:03.056043\", \"2019-10-12T14:39:03.056043\", \"2019-10-13T14:39:03.056043\", \"2019-10-14T14:39:03.056043\", \"2019-10-15T14:39:03.056043\", \"2019-10-16T14:39:03.056043\", \"2019-10-17T14:39:03.056043\", \"2019-10-18T14:39:03.056043\", \"2019-10-19T14:39:03.056043\", \"2019-10-20T14:39:03.056043\", \"2019-10-21T14:39:03.056043\", \"2019-10-22T14:39:03.056043\", \"2019-10-23T14:39:03.056043\", \"2019-10-24T14:39:03.056043\", \"2019-10-25T14:39:03.056043\", \"2019-10-26T14:39:03.056043\", \"2019-10-27T14:39:03.056043\", \"2019-10-28T14:39:03.056043\", \"2019-10-29T14:39:03.056043\", \"2019-10-30T14:39:03.056043\", \"2019-10-31T14:39:03.056043\", \"2019-11-01T14:39:03.056043\", \"2019-11-02T14:39:03.056043\", \"2019-11-03T14:39:03.056043\", \"2019-11-04T14:39:03.056043\", \"2019-11-05T14:39:03.056043\", \"2019-11-06T14:39:03.056043\", \"2019-11-07T14:39:03.056043\", \"2019-11-08T14:39:03.056043\", \"2019-11-09T14:39:03.056043\", \"2019-11-10T14:39:03.056043\", \"2019-11-11T14:39:03.056043\", \"2019-11-12T14:39:03.056043\", \"2019-11-13T14:39:03.056043\", \"2019-11-14T14:39:03.056043\", \"2019-11-15T14:39:03.056043\", \"2019-11-16T14:39:03.056043\", \"2019-11-17T14:39:03.056043\", \"2019-11-18T14:39:03.056043\", \"2019-11-19T14:39:03.056043\", \"2019-11-20T14:39:03.056043\", \"2019-11-21T14:39:03.056043\", \"2019-11-22T14:39:03.056043\", \"2019-11-23T14:39:03.056043\", \"2019-11-24T14:39:03.056043\", \"2019-11-25T14:39:03.056043\", \"2019-11-26T14:39:03.056043\", \"2019-11-27T14:39:03.056043\", \"2019-11-28T14:39:03.056043\", \"2019-11-29T14:39:03.056043\", \"2019-11-30T14:39:03.056043\", \"2019-12-01T14:39:03.056043\", \"2019-12-02T14:39:03.056043\", \"2019-12-03T14:39:03.056043\", \"2019-12-04T14:39:03.056043\", \"2019-12-05T14:39:03.056043\", \"2019-12-06T14:39:03.056043\", \"2019-12-07T14:39:03.056043\", \"2019-12-08T14:39:03.056043\", \"2019-12-09T14:39:03.056043\", \"2019-12-10T14:39:03.056043\", \"2019-12-11T14:39:03.056043\", \"2019-12-12T14:39:03.056043\", \"2019-12-13T14:39:03.056043\", \"2019-12-14T14:39:03.056043\", \"2019-12-15T14:39:03.056043\", \"2019-12-16T14:39:03.056043\", \"2019-12-17T14:39:03.056043\", \"2019-12-18T14:39:03.056043\", \"2019-12-19T14:39:03.056043\", \"2019-12-20T14:39:03.056043\", \"2019-12-21T14:39:03.056043\", \"2019-12-22T14:39:03.056043\", \"2019-12-23T14:39:03.056043\", \"2019-12-24T14:39:03.056043\", \"2019-12-25T14:39:03.056043\", \"2019-12-26T14:39:03.056043\", \"2019-12-27T14:39:03.056043\", \"2019-12-28T14:39:03.056043\", \"2019-12-29T14:39:03.056043\", \"2019-12-30T14:39:03.056043\", \"2019-12-31T14:39:03.056043\", \"2020-01-01T14:39:03.056043\", \"2020-01-02T14:39:03.056043\", \"2020-01-03T14:39:03.056043\", \"2020-01-04T14:39:03.056043\", \"2020-01-05T14:39:03.056043\", \"2020-01-06T14:39:03.056043\", \"2020-01-07T14:39:03.056043\", \"2020-01-08T14:39:03.056043\", \"2020-01-09T14:39:03.056043\", \"2020-01-10T14:39:03.056043\", \"2020-01-11T14:39:03.056043\", \"2020-01-12T14:39:03.056043\", \"2020-01-13T14:39:03.056043\", \"2020-01-14T14:39:03.056043\", \"2020-01-15T14:39:03.056043\", \"2020-01-16T14:39:03.056043\", \"2020-01-17T14:39:03.056043\", \"2020-01-18T14:39:03.056043\", \"2020-01-19T14:39:03.056043\", \"2020-01-20T14:39:03.056043\", \"2020-01-21T14:39:03.056043\", \"2020-01-22T14:39:03.056043\", \"2020-01-23T14:39:03.056043\", \"2020-01-24T14:39:03.056043\", \"2020-01-25T14:39:03.056043\", \"2020-01-26T14:39:03.056043\", \"2020-01-27T14:39:03.056043\", \"2020-01-28T14:39:03.056043\", \"2020-01-29T14:39:03.056043\", \"2020-01-30T14:39:03.056043\", \"2020-01-31T14:39:03.056043\", \"2020-02-01T14:39:03.056043\", \"2020-02-02T14:39:03.056043\", \"2020-02-03T14:39:03.056043\", \"2020-02-04T14:39:03.056043\", \"2020-02-05T14:39:03.056043\", \"2020-02-06T14:39:03.056043\", \"2020-02-07T14:39:03.056043\", \"2020-02-08T14:39:03.056043\", \"2020-02-09T14:39:03.056043\", \"2020-02-10T14:39:03.056043\", \"2020-02-11T14:39:03.056043\", \"2020-02-12T14:39:03.056043\", \"2020-02-13T14:39:03.056043\", \"2020-02-14T14:39:03.056043\", \"2020-02-15T14:39:03.056043\", \"2020-02-16T14:39:03.056043\", \"2020-02-17T14:39:03.056043\", \"2020-02-18T14:39:03.056043\", \"2020-02-19T14:39:03.056043\", \"2020-02-20T14:39:03.056043\", \"2020-02-21T14:39:03.056043\", \"2020-02-22T14:39:03.056043\", \"2020-02-23T14:39:03.056043\", \"2020-02-24T14:39:03.056043\", \"2020-02-25T14:39:03.056043\", \"2020-02-26T14:39:03.056043\", \"2020-02-27T14:39:03.056043\", \"2020-02-28T14:39:03.056043\", \"2020-02-29T14:39:03.056043\", \"2020-03-01T14:39:03.056043\", \"2020-03-02T14:39:03.056043\", \"2020-03-03T14:39:03.056043\", \"2020-03-04T14:39:03.056043\", \"2020-03-05T14:39:03.056043\", \"2020-03-06T14:39:03.056043\", \"2020-03-07T14:39:03.056043\", \"2020-03-08T14:39:03.056043\", \"2020-03-09T14:39:03.056043\", \"2020-03-10T14:39:03.056043\", \"2020-03-11T14:39:03.056043\", \"2020-03-12T14:39:03.056043\", \"2020-03-13T14:39:03.056043\", \"2020-03-14T14:39:03.056043\", \"2020-03-15T14:39:03.056043\", \"2020-03-16T14:39:03.056043\", \"2020-03-17T14:39:03.056043\", \"2020-03-18T14:39:03.056043\", \"2020-03-19T14:39:03.056043\", \"2020-03-20T14:39:03.056043\", \"2020-03-21T14:39:03.056043\", \"2020-03-22T14:39:03.056043\", \"2020-03-23T14:39:03.056043\", \"2020-03-24T14:39:03.056043\", \"2020-03-25T14:39:03.056043\", \"2020-03-26T14:39:03.056043\", \"2020-03-27T14:39:03.056043\", \"2020-03-28T14:39:03.056043\", \"2020-03-29T14:39:03.056043\", \"2020-03-30T14:39:03.056043\", \"2020-03-31T14:39:03.056043\", \"2020-04-01T14:39:03.056043\", \"2020-04-02T14:39:03.056043\", \"2020-04-03T14:39:03.056043\", \"2020-04-04T14:39:03.056043\", \"2020-04-05T14:39:03.056043\", \"2020-04-06T14:39:03.056043\", \"2020-04-07T14:39:03.056043\", \"2020-04-08T14:39:03.056043\", \"2020-04-09T14:39:03.056043\", \"2020-04-10T14:39:03.056043\", \"2020-04-11T14:39:03.056043\", \"2020-04-12T14:39:03.056043\", \"2020-04-13T14:39:03.056043\", \"2020-04-14T14:39:03.056043\", \"2020-04-15T14:39:03.056043\", \"2020-04-16T14:39:03.056043\", \"2020-04-17T14:39:03.056043\", \"2020-04-18T14:39:03.056043\", \"2020-04-19T14:39:03.056043\", \"2020-04-20T14:39:03.056043\", \"2020-04-21T14:39:03.056043\", \"2020-04-22T14:39:03.056043\", \"2020-04-23T14:39:03.056043\", \"2020-04-24T14:39:03.056043\", \"2020-04-25T14:39:03.056043\", \"2020-04-26T14:39:03.056043\", \"2020-04-27T14:39:03.056043\", \"2020-04-28T14:39:03.056043\", \"2020-04-29T14:39:03.056043\", \"2020-04-30T14:39:03.056043\", \"2020-05-01T14:39:03.056043\", \"2020-05-02T14:39:03.056043\", \"2020-05-03T14:39:03.056043\", \"2020-05-04T14:39:03.056043\", \"2020-05-05T14:39:03.056043\", \"2020-05-06T14:39:03.056043\", \"2020-05-07T14:39:03.056043\", \"2020-05-08T14:39:03.056043\", \"2020-05-09T14:39:03.056043\", \"2020-05-10T14:39:03.056043\", \"2020-05-11T14:39:03.056043\", \"2020-05-12T14:39:03.056043\", \"2020-05-13T14:39:03.056043\", \"2020-05-14T14:39:03.056043\", \"2020-05-15T14:39:03.056043\", \"2020-05-16T14:39:03.056043\", \"2020-05-17T14:39:03.056043\", \"2020-05-18T14:39:03.056043\", \"2020-05-19T14:39:03.056043\", \"2020-05-20T14:39:03.056043\", \"2020-05-21T14:39:03.056043\", \"2020-05-22T14:39:03.056043\", \"2020-05-23T14:39:03.056043\", \"2020-05-24T14:39:03.056043\", \"2020-05-25T14:39:03.056043\", \"2020-05-26T14:39:03.056043\", \"2020-05-27T14:39:03.056043\", \"2020-05-28T14:39:03.056043\", \"2020-05-29T14:39:03.056043\", \"2020-05-30T14:39:03.056043\", \"2020-05-31T14:39:03.056043\", \"2020-06-01T14:39:03.056043\", \"2020-06-02T14:39:03.056043\", \"2020-06-03T14:39:03.056043\", \"2020-06-04T14:39:03.056043\", \"2020-06-05T14:39:03.056043\", \"2020-06-06T14:39:03.056043\", \"2020-06-07T14:39:03.056043\", \"2020-06-08T14:39:03.056043\", \"2020-06-09T14:39:03.056043\", \"2020-06-10T14:39:03.056043\", \"2020-06-11T14:39:03.056043\", \"2020-06-12T14:39:03.056043\", \"2020-06-13T14:39:03.056043\", \"2020-06-14T14:39:03.056043\", \"2020-06-15T14:39:03.056043\", \"2020-06-16T14:39:03.056043\", \"2020-06-17T14:39:03.056043\", \"2020-06-18T14:39:03.056043\", \"2020-06-19T14:39:03.056043\", \"2020-06-20T14:39:03.056043\", \"2020-06-21T14:39:03.056043\", \"2020-06-22T14:39:03.056043\", \"2020-06-23T14:39:03.056043\", \"2020-06-24T14:39:03.056043\", \"2020-06-25T14:39:03.056043\", \"2020-06-26T14:39:03.056043\", \"2020-06-27T14:39:03.056043\", \"2020-06-28T14:39:03.056043\", \"2020-06-29T14:39:03.056043\", \"2020-06-30T14:39:03.056043\", \"2020-07-01T14:39:03.056043\", \"2020-07-02T14:39:03.056043\", \"2020-07-03T14:39:03.056043\", \"2020-07-04T14:39:03.056043\", \"2020-07-05T14:39:03.056043\", \"2020-07-06T14:39:03.056043\", \"2020-07-07T14:39:03.056043\", \"2020-07-08T14:39:03.056043\", \"2020-07-09T14:39:03.056043\", \"2020-07-10T14:39:03.056043\", \"2020-07-11T14:39:03.056043\", \"2020-07-12T14:39:03.056043\", \"2020-07-13T14:39:03.056043\", \"2020-07-14T14:39:03.056043\", \"2020-07-15T14:39:03.056043\", \"2020-07-16T14:39:03.056043\", \"2020-07-17T14:39:03.056043\", \"2020-07-18T14:39:03.056043\", \"2020-07-19T14:39:03.056043\", \"2020-07-20T14:39:03.056043\", \"2020-07-21T14:39:03.056043\", \"2020-07-22T14:39:03.056043\", \"2020-07-23T14:39:03.056043\", \"2020-07-24T14:39:03.056043\", \"2020-07-25T14:39:03.056043\", \"2020-07-26T14:39:03.056043\", \"2020-07-27T14:39:03.056043\", \"2020-07-28T14:39:03.056043\", \"2020-07-29T14:39:03.056043\", \"2020-07-30T14:39:03.056043\", \"2020-07-31T14:39:03.056043\", \"2020-08-01T14:39:03.056043\", \"2020-08-02T14:39:03.056043\", \"2020-08-03T14:39:03.056043\", \"2020-08-04T14:39:03.056043\", \"2020-08-05T14:39:03.056043\", \"2020-08-06T14:39:03.056043\", \"2020-08-07T14:39:03.056043\", \"2020-08-08T14:39:03.056043\", \"2020-08-09T14:39:03.056043\", \"2020-08-10T14:39:03.056043\", \"2020-08-11T14:39:03.056043\", \"2020-08-12T14:39:03.056043\", \"2020-08-13T14:39:03.056043\", \"2020-08-14T14:39:03.056043\", \"2020-08-15T14:39:03.056043\", \"2020-08-16T14:39:03.056043\", \"2020-08-17T14:39:03.056043\", \"2020-08-18T14:39:03.056043\", \"2020-08-19T14:39:03.056043\", \"2020-08-20T14:39:03.056043\", \"2020-08-21T14:39:03.056043\", \"2020-08-22T14:39:03.056043\", \"2020-08-23T14:39:03.056043\", \"2020-08-24T14:39:03.056043\", \"2020-08-25T14:39:03.056043\", \"2020-08-26T14:39:03.056043\", \"2020-08-27T14:39:03.056043\", \"2020-08-28T14:39:03.056043\", \"2020-08-29T14:39:03.056043\", \"2020-08-30T14:39:03.056043\", \"2020-08-31T14:39:03.056043\", \"2020-09-01T14:39:03.056043\", \"2020-09-02T14:39:03.056043\", \"2020-09-03T14:39:03.056043\", \"2020-09-04T14:39:03.056043\", \"2020-09-05T14:39:03.056043\", \"2020-09-06T14:39:03.056043\", \"2020-09-07T14:39:03.056043\", \"2020-09-08T14:39:03.056043\", \"2020-09-09T14:39:03.056043\", \"2020-09-10T14:39:03.056043\", \"2020-09-11T14:39:03.056043\", \"2020-09-12T14:39:03.056043\", \"2020-09-13T14:39:03.056043\", \"2020-09-14T14:39:03.056043\", \"2020-09-15T14:39:03.056043\", \"2020-09-16T14:39:03.056043\", \"2020-09-17T14:39:03.056043\", \"2020-09-18T14:39:03.056043\", \"2020-09-19T14:39:03.056043\", \"2020-09-20T14:39:03.056043\", \"2020-09-21T14:39:03.056043\", \"2020-09-22T14:39:03.056043\", \"2020-09-23T14:39:03.056043\", \"2020-09-24T14:39:03.056043\", \"2020-09-25T14:39:03.056043\", \"2020-09-26T14:39:03.056043\", \"2020-09-27T14:39:03.056043\", \"2020-09-28T14:39:03.056043\", \"2020-09-29T14:39:03.056043\", \"2020-09-30T14:39:03.056043\", \"2020-10-01T14:39:03.056043\", \"2020-10-02T14:39:03.056043\", \"2020-10-03T14:39:03.056043\", \"2020-10-04T14:39:03.056043\", \"2020-10-05T14:39:03.056043\", \"2020-10-06T14:39:03.056043\", \"2020-10-07T14:39:03.056043\", \"2020-10-08T14:39:03.056043\", \"2020-10-09T14:39:03.056043\", \"2020-10-10T14:39:03.056043\", \"2020-10-11T14:39:03.056043\", \"2020-10-12T14:39:03.056043\", \"2020-10-13T14:39:03.056043\", \"2020-10-14T14:39:03.056043\", \"2020-10-15T14:39:03.056043\", \"2020-10-16T14:39:03.056043\", \"2020-10-17T14:39:03.056043\", \"2020-10-18T14:39:03.056043\", \"2020-10-19T14:39:03.056043\", \"2020-10-20T14:39:03.056043\", \"2020-10-21T14:39:03.056043\", \"2020-10-22T14:39:03.056043\", \"2020-10-23T14:39:03.056043\", \"2020-10-24T14:39:03.056043\", \"2020-10-25T14:39:03.056043\", \"2020-10-26T14:39:03.056043\", \"2020-10-27T14:39:03.056043\", \"2020-10-28T14:39:03.056043\", \"2020-10-29T14:39:03.056043\", \"2020-10-30T14:39:03.056043\", \"2020-10-31T14:39:03.056043\", \"2020-11-01T14:39:03.056043\", \"2020-11-02T14:39:03.056043\", \"2020-11-03T14:39:03.056043\", \"2020-11-04T14:39:03.056043\", \"2020-11-05T14:39:03.056043\", \"2020-11-06T14:39:03.056043\", \"2020-11-07T14:39:03.056043\", \"2020-11-08T14:39:03.056043\", \"2020-11-09T14:39:03.056043\", \"2020-11-10T14:39:03.056043\", \"2020-11-11T14:39:03.056043\", \"2020-11-12T14:39:03.056043\", \"2020-11-13T14:39:03.056043\", \"2020-11-14T14:39:03.056043\", \"2020-11-15T14:39:03.056043\", \"2020-11-16T14:39:03.056043\", \"2020-11-17T14:39:03.056043\", \"2020-11-18T14:39:03.056043\", \"2020-11-19T14:39:03.056043\", \"2020-11-20T14:39:03.056043\", \"2020-11-21T14:39:03.056043\", \"2020-11-22T14:39:03.056043\", \"2020-11-23T14:39:03.056043\", \"2020-11-24T14:39:03.056043\", \"2020-11-25T14:39:03.056043\", \"2020-11-26T14:39:03.056043\", \"2020-11-27T14:39:03.056043\", \"2020-11-28T14:39:03.056043\", \"2020-11-29T14:39:03.056043\", \"2020-11-30T14:39:03.056043\", \"2020-12-01T14:39:03.056043\", \"2020-12-02T14:39:03.056043\", \"2020-12-03T14:39:03.056043\", \"2020-12-04T14:39:03.056043\", \"2020-12-05T14:39:03.056043\", \"2020-12-06T14:39:03.056043\", \"2020-12-07T14:39:03.056043\", \"2020-12-08T14:39:03.056043\", \"2020-12-09T14:39:03.056043\", \"2020-12-10T14:39:03.056043\", \"2020-12-11T14:39:03.056043\", \"2020-12-12T14:39:03.056043\", \"2020-12-13T14:39:03.056043\", \"2020-12-14T14:39:03.056043\", \"2020-12-15T14:39:03.056043\", \"2020-12-16T14:39:03.056043\", \"2020-12-17T14:39:03.056043\", \"2020-12-18T14:39:03.056043\", \"2020-12-19T14:39:03.056043\", \"2020-12-20T14:39:03.056043\", \"2020-12-21T14:39:03.056043\", \"2020-12-22T14:39:03.056043\", \"2020-12-23T14:39:03.056043\", \"2020-12-24T14:39:03.056043\", \"2020-12-25T14:39:03.056043\", \"2020-12-26T14:39:03.056043\", \"2020-12-27T14:39:03.056043\", \"2020-12-28T14:39:03.056043\", \"2020-12-29T14:39:03.056043\", \"2020-12-30T14:39:03.056043\", \"2020-12-31T14:39:03.056043\", \"2021-01-01T14:39:03.056043\", \"2021-01-02T14:39:03.056043\", \"2021-01-03T14:39:03.056043\", \"2021-01-04T14:39:03.056043\", \"2021-01-05T14:39:03.056043\", \"2021-01-06T14:39:03.056043\", \"2021-01-07T14:39:03.056043\", \"2021-01-08T14:39:03.056043\", \"2021-01-09T14:39:03.056043\", \"2021-01-10T14:39:03.056043\", \"2021-01-11T14:39:03.056043\", \"2021-01-12T14:39:03.056043\", \"2021-01-13T14:39:03.056043\", \"2021-01-14T14:39:03.056043\", \"2021-01-15T14:39:03.056043\", \"2021-01-16T14:39:03.056043\", \"2021-01-17T14:39:03.056043\", \"2021-01-18T14:39:03.056043\", \"2021-01-19T14:39:03.056043\", \"2021-01-20T14:39:03.056043\", \"2021-01-21T14:39:03.056043\", \"2021-01-22T14:39:03.056043\", \"2021-01-23T14:39:03.056043\", \"2021-01-24T14:39:03.056043\", \"2021-01-25T14:39:03.056043\", \"2021-01-26T14:39:03.056043\", \"2021-01-27T14:39:03.056043\", \"2021-01-28T14:39:03.056043\", \"2021-01-29T14:39:03.056043\", \"2021-01-30T14:39:03.056043\", \"2021-01-31T14:39:03.056043\", \"2021-02-01T14:39:03.056043\", \"2021-02-02T14:39:03.056043\", \"2021-02-03T14:39:03.056043\", \"2021-02-04T14:39:03.056043\", \"2021-02-05T14:39:03.056043\", \"2021-02-06T14:39:03.056043\", \"2021-02-07T14:39:03.056043\", \"2021-02-08T14:39:03.056043\", \"2021-02-09T14:39:03.056043\", \"2021-02-10T14:39:03.056043\", \"2021-02-11T14:39:03.056043\", \"2021-02-12T14:39:03.056043\", \"2021-02-13T14:39:03.056043\", \"2021-02-14T14:39:03.056043\", \"2021-02-15T14:39:03.056043\", \"2021-02-16T14:39:03.056043\", \"2021-02-17T14:39:03.056043\", \"2021-02-18T14:39:03.056043\", \"2021-02-19T14:39:03.056043\", \"2021-02-20T14:39:03.056043\", \"2021-02-21T14:39:03.056043\", \"2021-02-22T14:39:03.056043\", \"2021-02-23T14:39:03.056043\", \"2021-02-24T14:39:03.056043\", \"2021-02-25T14:39:03.056043\", \"2021-02-26T14:39:03.056043\", \"2021-02-27T14:39:03.056043\", \"2021-02-28T14:39:03.056043\", \"2021-03-01T14:39:03.056043\", \"2021-03-02T14:39:03.056043\", \"2021-03-03T14:39:03.056043\", \"2021-03-04T14:39:03.056043\", \"2021-03-05T14:39:03.056043\", \"2021-03-06T14:39:03.056043\", \"2021-03-07T14:39:03.056043\", \"2021-03-08T14:39:03.056043\", \"2021-03-09T14:39:03.056043\", \"2021-03-10T14:39:03.056043\", \"2021-03-11T14:39:03.056043\", \"2021-03-12T14:39:03.056043\", \"2021-03-13T14:39:03.056043\", \"2021-03-14T14:39:03.056043\", \"2021-03-15T14:39:03.056043\", \"2021-03-16T14:39:03.056043\", \"2021-03-17T14:39:03.056043\", \"2021-03-18T14:39:03.056043\", \"2021-03-19T14:39:03.056043\", \"2021-03-20T14:39:03.056043\", \"2021-03-21T14:39:03.056043\", \"2021-03-22T14:39:03.056043\", \"2021-03-23T14:39:03.056043\", \"2021-03-24T14:39:03.056043\", \"2021-03-25T14:39:03.056043\", \"2021-03-26T14:39:03.056043\", \"2021-03-27T14:39:03.056043\", \"2021-03-28T14:39:03.056043\", \"2021-03-29T14:39:03.056043\", \"2021-03-30T14:39:03.056043\", \"2021-03-31T14:39:03.056043\", \"2021-04-01T14:39:03.056043\", \"2021-04-02T14:39:03.056043\", \"2021-04-03T14:39:03.056043\", \"2021-04-04T14:39:03.056043\", \"2021-04-05T14:39:03.056043\", \"2021-04-06T14:39:03.056043\", \"2021-04-07T14:39:03.056043\", \"2021-04-08T14:39:03.056043\", \"2021-04-09T14:39:03.056043\", \"2021-04-10T14:39:03.056043\", \"2021-04-11T14:39:03.056043\", \"2021-04-12T14:39:03.056043\", \"2021-04-13T14:39:03.056043\", \"2021-04-14T14:39:03.056043\", \"2021-04-15T14:39:03.056043\", \"2021-04-16T14:39:03.056043\", \"2021-04-17T14:39:03.056043\", \"2021-04-18T14:39:03.056043\", \"2021-04-19T14:39:03.056043\", \"2021-04-20T14:39:03.056043\", \"2021-04-21T14:39:03.056043\", \"2021-04-22T14:39:03.056043\", \"2021-04-23T14:39:03.056043\", \"2021-04-24T14:39:03.056043\", \"2021-04-25T14:39:03.056043\", \"2021-04-26T14:39:03.056043\", \"2021-04-27T14:39:03.056043\", \"2021-04-28T14:39:03.056043\", \"2021-04-29T14:39:03.056043\", \"2021-04-30T14:39:03.056043\", \"2021-05-01T14:39:03.056043\", \"2021-05-02T14:39:03.056043\", \"2021-05-03T14:39:03.056043\", \"2021-05-04T14:39:03.056043\", \"2021-05-05T14:39:03.056043\", \"2021-05-06T14:39:03.056043\", \"2021-05-07T14:39:03.056043\", \"2021-05-08T14:39:03.056043\", \"2021-05-09T14:39:03.056043\", \"2021-05-10T14:39:03.056043\", \"2021-05-11T14:39:03.056043\", \"2021-05-12T14:39:03.056043\", \"2021-05-13T14:39:03.056043\", \"2021-05-14T14:39:03.056043\", \"2021-05-15T14:39:03.056043\", \"2021-05-16T14:39:03.056043\", \"2021-05-17T14:39:03.056043\", \"2021-05-18T14:39:03.056043\", \"2021-05-19T14:39:03.056043\", \"2021-05-20T14:39:03.056043\", \"2021-05-21T14:39:03.056043\", \"2021-05-22T14:39:03.056043\", \"2021-05-23T14:39:03.056043\", \"2021-05-24T14:39:03.056043\", \"2021-05-25T14:39:03.056043\", \"2021-05-26T14:39:03.056043\", \"2021-05-27T14:39:03.056043\", \"2021-05-28T14:39:03.056043\", \"2021-05-29T14:39:03.056043\", \"2021-05-30T14:39:03.056043\", \"2021-05-31T14:39:03.056043\", \"2021-06-01T14:39:03.056043\", \"2021-06-02T14:39:03.056043\", \"2021-06-03T14:39:03.056043\", \"2021-06-04T14:39:03.056043\", \"2021-06-05T14:39:03.056043\", \"2021-06-06T14:39:03.056043\", \"2021-06-07T14:39:03.056043\", \"2021-06-08T14:39:03.056043\", \"2021-06-09T14:39:03.056043\", \"2021-06-10T14:39:03.056043\", \"2021-06-11T14:39:03.056043\", \"2021-06-12T14:39:03.056043\", \"2021-06-13T14:39:03.056043\", \"2021-06-14T14:39:03.056043\", \"2021-06-15T14:39:03.056043\", \"2021-06-16T14:39:03.056043\", \"2021-06-17T14:39:03.056043\", \"2021-06-18T14:39:03.056043\", \"2021-06-19T14:39:03.056043\", \"2021-06-20T14:39:03.056043\", \"2021-06-21T14:39:03.056043\", \"2021-06-22T14:39:03.056043\", \"2021-06-23T14:39:03.056043\", \"2021-06-24T14:39:03.056043\", \"2021-06-25T14:39:03.056043\", \"2021-06-26T14:39:03.056043\", \"2021-06-27T14:39:03.056043\", \"2021-06-28T14:39:03.056043\", \"2021-06-29T14:39:03.056043\", \"2021-06-30T14:39:03.056043\", \"2021-07-01T14:39:03.056043\", \"2021-07-02T14:39:03.056043\", \"2021-07-03T14:39:03.056043\", \"2021-07-04T14:39:03.056043\", \"2021-07-05T14:39:03.056043\", \"2021-07-06T14:39:03.056043\", \"2021-07-07T14:39:03.056043\", \"2021-07-08T14:39:03.056043\", \"2021-07-09T14:39:03.056043\", \"2021-07-10T14:39:03.056043\", \"2021-07-11T14:39:03.056043\", \"2021-07-12T14:39:03.056043\", \"2021-07-13T14:39:03.056043\", \"2021-07-14T14:39:03.056043\", \"2021-07-15T14:39:03.056043\", \"2021-07-16T14:39:03.056043\", \"2021-07-17T14:39:03.056043\", \"2021-07-18T14:39:03.056043\", \"2021-07-19T14:39:03.056043\", \"2021-07-20T14:39:03.056043\", \"2021-07-21T14:39:03.056043\", \"2021-07-22T14:39:03.056043\", \"2021-07-23T14:39:03.056043\", \"2021-07-24T14:39:03.056043\", \"2021-07-25T14:39:03.056043\", \"2021-07-26T14:39:03.056043\", \"2021-07-27T14:39:03.056043\", \"2021-07-28T14:39:03.056043\", \"2021-07-29T14:39:03.056043\", \"2021-07-30T14:39:03.056043\", \"2021-07-31T14:39:03.056043\", \"2021-08-01T14:39:03.056043\", \"2021-08-02T14:39:03.056043\", \"2021-08-03T14:39:03.056043\", \"2021-08-04T14:39:03.056043\", \"2021-08-05T14:39:03.056043\", \"2021-08-06T14:39:03.056043\", \"2021-08-07T14:39:03.056043\", \"2021-08-08T14:39:03.056043\", \"2021-08-09T14:39:03.056043\", \"2021-08-10T14:39:03.056043\", \"2021-08-11T14:39:03.056043\", \"2021-08-12T14:39:03.056043\", \"2021-08-13T14:39:03.056043\", \"2021-08-14T14:39:03.056043\", \"2021-08-15T14:39:03.056043\", \"2021-08-16T14:39:03.056043\", \"2021-08-17T14:39:03.056043\", \"2021-08-18T14:39:03.056043\", \"2021-08-19T14:39:03.056043\", \"2021-08-20T14:39:03.056043\", \"2021-08-21T14:39:03.056043\", \"2021-08-22T14:39:03.056043\", \"2021-08-23T14:39:03.056043\", \"2021-08-24T14:39:03.056043\", \"2021-08-25T14:39:03.056043\", \"2021-08-26T14:39:03.056043\", \"2021-08-27T14:39:03.056043\", \"2021-08-28T14:39:03.056043\", \"2021-08-29T14:39:03.056043\", \"2021-08-30T14:39:03.056043\", \"2021-08-31T14:39:03.056043\", \"2021-09-01T14:39:03.056043\", \"2021-09-02T14:39:03.056043\", \"2021-09-03T14:39:03.056043\", \"2021-09-04T14:39:03.056043\", \"2021-09-05T14:39:03.056043\", \"2021-09-06T14:39:03.056043\", \"2021-09-07T14:39:03.056043\", \"2021-09-08T14:39:03.056043\", \"2021-09-09T14:39:03.056043\", \"2021-09-10T14:39:03.056043\", \"2021-09-11T14:39:03.056043\", \"2021-09-12T14:39:03.056043\", \"2021-09-13T14:39:03.056043\", \"2021-09-14T14:39:03.056043\", \"2021-09-15T14:39:03.056043\", \"2021-09-16T14:39:03.056043\", \"2021-09-17T14:39:03.056043\", \"2021-09-18T14:39:03.056043\", \"2021-09-19T14:39:03.056043\", \"2021-09-20T14:39:03.056043\", \"2021-09-21T14:39:03.056043\", \"2021-09-22T14:39:03.056043\", \"2021-09-23T14:39:03.056043\", \"2021-09-24T14:39:03.056043\", \"2021-09-25T14:39:03.056043\", \"2021-09-26T14:39:03.056043\", \"2021-09-27T14:39:03.056043\", \"2021-09-28T14:39:03.056043\", \"2021-09-29T14:39:03.056043\", \"2021-09-30T14:39:03.056043\", \"2021-10-01T14:39:03.056043\", \"2021-10-02T14:39:03.056043\", \"2021-10-03T14:39:03.056043\", \"2021-10-04T14:39:03.056043\", \"2021-10-05T14:39:03.056043\", \"2021-10-06T14:39:03.056043\", \"2021-10-07T14:39:03.056043\", \"2021-10-08T14:39:03.056043\", \"2021-10-09T14:39:03.056043\", \"2021-10-10T14:39:03.056043\", \"2021-10-11T14:39:03.056043\", \"2021-10-12T14:39:03.056043\", \"2021-10-13T14:39:03.056043\", \"2021-10-14T14:39:03.056043\", \"2021-10-15T14:39:03.056043\", \"2021-10-16T14:39:03.056043\", \"2021-10-17T14:39:03.056043\", \"2021-10-18T14:39:03.056043\", \"2021-10-19T14:39:03.056043\", \"2021-10-20T14:39:03.056043\", \"2021-10-21T14:39:03.056043\", \"2021-10-22T14:39:03.056043\", \"2021-10-23T14:39:03.056043\", \"2021-10-24T14:39:03.056043\", \"2021-10-25T14:39:03.056043\", \"2021-10-26T14:39:03.056043\", \"2021-10-27T14:39:03.056043\", \"2021-10-28T14:39:03.056043\", \"2021-10-29T14:39:03.056043\", \"2021-10-30T14:39:03.056043\", \"2021-10-31T14:39:03.056043\", \"2021-11-01T14:39:03.056043\", \"2021-11-02T14:39:03.056043\", \"2021-11-03T14:39:03.056043\", \"2021-11-04T14:39:03.056043\", \"2021-11-05T14:39:03.056043\", \"2021-11-06T14:39:03.056043\", \"2021-11-07T14:39:03.056043\", \"2021-11-08T14:39:03.056043\", \"2021-11-09T14:39:03.056043\", \"2021-11-10T14:39:03.056043\", \"2021-11-11T14:39:03.056043\", \"2021-11-12T14:39:03.056043\", \"2021-11-13T14:39:03.056043\", \"2021-11-14T14:39:03.056043\", \"2021-11-15T14:39:03.056043\", \"2021-11-16T14:39:03.056043\", \"2021-11-17T14:39:03.056043\", \"2021-11-18T14:39:03.056043\", \"2021-11-19T14:39:03.056043\", \"2021-11-20T14:39:03.056043\", \"2021-11-21T14:39:03.056043\", \"2021-11-22T14:39:03.056043\", \"2021-11-23T14:39:03.056043\", \"2021-11-24T14:39:03.056043\", \"2021-11-25T14:39:03.056043\", \"2021-11-26T14:39:03.056043\", \"2021-11-27T14:39:03.056043\", \"2021-11-28T14:39:03.056043\", \"2021-11-29T14:39:03.056043\", \"2021-11-30T14:39:03.056043\", \"2021-12-01T14:39:03.056043\", \"2021-12-02T14:39:03.056043\", \"2021-12-03T14:39:03.056043\", \"2021-12-04T14:39:03.056043\", \"2021-12-05T14:39:03.056043\", \"2021-12-06T14:39:03.056043\", \"2021-12-07T14:39:03.056043\", \"2021-12-08T14:39:03.056043\", \"2021-12-09T14:39:03.056043\", \"2021-12-10T14:39:03.056043\", \"2021-12-11T14:39:03.056043\", \"2021-12-12T14:39:03.056043\", \"2021-12-13T14:39:03.056043\", \"2021-12-14T14:39:03.056043\", \"2021-12-15T14:39:03.056043\", \"2021-12-16T14:39:03.056043\", \"2021-12-17T14:39:03.056043\", \"2021-12-18T14:39:03.056043\", \"2021-12-19T14:39:03.056043\", \"2021-12-20T14:39:03.056043\", \"2021-12-21T14:39:03.056043\", \"2021-12-22T14:39:03.056043\", \"2021-12-23T14:39:03.056043\", \"2021-12-24T14:39:03.056043\", \"2021-12-25T14:39:03.056043\", \"2021-12-26T14:39:03.056043\", \"2021-12-27T14:39:03.056043\", \"2021-12-28T14:39:03.056043\", \"2021-12-29T14:39:03.056043\", \"2021-12-30T14:39:03.056043\", \"2021-12-31T14:39:03.056043\", \"2022-01-01T14:39:03.056043\", \"2022-01-02T14:39:03.056043\", \"2022-01-03T14:39:03.056043\", \"2022-01-04T14:39:03.056043\", \"2022-01-05T14:39:03.056043\"], \"y\": [111.57, 111.46, 110.52, 109.49, 109.9, 109.11, 109.95000000000002, 111.02999999999999, 112.12000000000002, 113.95, 113.3, 115.19000000000001, 115.19000000000001, 115.82, 115.97, 116.63999999999999, 116.95, 117.06, 116.29, 116.52, 117.26, 116.76, 116.73, 115.82, 116.15000000000002, 116.02, 116.61, 117.91000000000001, 118.99, 119.11, 119.74999999999999, 119.25, 119.04, 120.0, 119.99000000000001, 119.78, 120.0, 120.07999999999998, 119.96999999999998, 121.87999999999998, 121.94000000000001, 121.95, 121.63, 121.35000000000001, 128.75, 128.53, 129.08, 130.29, 131.53, 132.04, 132.42, 132.12, 133.29, 135.02, 135.51, 135.345, 135.72, 136.7, 137.11, 136.53, 136.66, 136.93, 136.99, 139.79, 138.96, 139.78, 139.34, 139.52, 139.0, 138.68, 139.14, 139.2, 138.99, 140.46, 140.69, 139.99, 141.46, 139.84, 141.42, 140.92, 140.64, 140.88, 143.8, 144.12, 143.93, 143.66, 143.7, 144.77, 144.02, 143.66, 143.34, 143.17, 141.63, 141.8, 141.05, 141.83, 141.2, 140.68, 142.44, 142.27, 143.64, 144.53, 143.68, 143.79, 143.65, 146.58, 147.51, 147.06, 146.53, 148.96, 153.01, 153.99, 153.26, 153.95, 156.1, 155.7, 155.47, 150.25, 152.54, 153.06, 153.99, 153.8, 153.34, 153.87, 153.61, 153.67, 152.76, 153.18, 155.45, 153.93, 154.45, 155.37, 154.99, 148.98, 145.42, 146.59, 145.16, 144.29, 142.27, 146.34, 145.01, 145.87, 145.63, 146.28, 145.82, 143.73, 145.83, 143.68, 144.02, 143.5, 144.09, 142.73, 144.18, 145.06, 145.53, 145.74, 147.77, 149.04, 149.56, 150.08, 151.02, 150.34, 150.27, 152.09, 152.74, 153.46, 150.56, 149.5, 148.73, 150.05, 157.14, 155.57, 156.39, 158.81, 160.08, 161.059998, 155.32, 157.48, 159.85, 161.6, 160.95, 157.86, 157.5, 157.21, 159.78, 159.98, 159.27, 159.86, 161.47, 162.91, 163.35, 164.0, 164.05, 162.08, 161.91, 161.26, 158.63, 161.5, 160.86, 159.65, 158.28, 159.88, 158.67, 158.73, 156.07, 153.39, 151.89, 150.55, 153.14, 154.23, 153.28, 154.12, 153.81, 154.48, 153.48, 155.39, 155.3, 155.84, 155.9, 156.55, 156.0, 156.99, 159.88, 160.47, 159.76, 155.98, 156.25, 156.17, 157.1, 156.41, 157.41, 163.05, 166.72, 169.04, 166.89, 168.11, 172.5, 174.25, 174.81, 176.24, 175.88, 174.67, 173.97, 171.34, 169.08, 171.1, 170.15, 169.98, 173.14, 174.96, 174.97, 174.09, 173.07, 169.48, 171.85, 171.05, 169.8, 169.64, 169.01, 169.32, 169.37, 172.67, 171.7, 172.27, 172.22, 173.97, 176.42, 174.54, 174.35, 175.01, 175.01, 170.57, 170.6, 171.08, 169.23, 172.26, 172.23, 173.03, 175.0, 174.35, 174.33, 174.29, 175.28, 177.09, 176.19, 179.1, 179.26, 178.46, 177.0, 177.04, 174.22, 171.11, 171.51, 167.96, 166.97, 167.43, 167.78, 160.5, 156.49, 163.03, 159.54, 155.15, 156.41, 162.71, 164.34, 167.37, 172.99, 172.43, 171.85, 171.07, 172.5, 175.5, 178.97, 178.39, 178.12, 175.0, 176.21, 176.82, 176.67, 175.03, 176.94, 179.98, 181.72, 179.97, 178.44, 178.65, 178.02, 175.3, 175.24, 171.27, 168.85, 164.94, 172.77, 168.34, 166.48, 167.78, 166.68, 168.39, 171.61, 172.8, 168.38, 170.05, 173.25, 172.44, 174.14, 174.73, 175.82, 178.24, 177.84, 172.8, 165.72, 165.24, 162.94, 163.65, 164.22, 162.32, 165.26, 169.1, 176.57, 176.89, 183.83, 185.16, 186.05, 187.36, 190.04, 188.59, 188.15, 186.44, 188.18, 186.99, 186.31, 187.63, 187.16, 188.36, 188.15, 188.58, 187.9, 187.5, 186.87, 190.24, 191.83, 193.31, 193.98, 193.46, 191.7, 191.23, 192.28, 190.7, 190.8, 188.84, 188.74, 185.69, 186.5, 185.46, 184.92, 182.17, 184.43, 184.16, 185.5, 185.11, 187.18, 183.92, 185.4, 187.97, 190.58, 190.35, 187.88, 191.03, 191.33, 190.91, 191.45, 190.4, 191.88, 191.44, 191.61, 193.0, 194.82, 194.21, 190.98, 189.91, 190.29, 201.49999999999997, 207.39, 207.99, 209.07, 207.10999999999999, 207.25, 208.88, 207.53, 208.87, 209.75, 210.24, 213.32, 217.57999999999998, 215.46, 215.04000000000002, 215.05, 215.49, 216.16, 217.93999999999997, 219.69999999999996, 222.98000000000002, 225.03000000000003, 227.62999999999997, 228.35999999999999, 226.87000000000003, 223.1, 221.30000000000004, 218.32999999999998, 223.85000000000002, 221.07, 226.41, 223.84, 217.88, 218.23999999999998, 218.37000000000003, 220.03, 217.66, 220.78999999999996, 222.18999999999997, 220.42, 224.95000000000002, 225.74, 227.26, 229.28000000000003, 232.07, 227.99, 224.29000000000002, 223.77, 226.87000000000003, 216.36, 214.45, 222.11, 217.35999999999999, 222.15, 221.19, 216.02, 219.31, 220.64999999999998, 222.73, 215.08999999999997, 219.8, 216.30000000000004, 212.23999999999998, 213.3, 218.86, 222.22, 207.48, 201.58999999999997, 203.77000000000004, 209.95, 208.49, 204.47, 194.17, 192.23, 186.8, 191.41, 193.53, 185.86, 176.98, 176.78, 172.29, 174.62, 174.24, 180.94, 179.55, 178.58, 184.82, 176.69, 174.72, 168.49, 169.6, 168.63, 169.1, 170.95, 165.48, 163.94, 166.07, 160.89, 156.83, 150.73, 146.83, 157.17, 156.15, 156.23, 157.74, 157.92, 142.19, 148.26, 147.93, 150.75, 153.31, 153.8, 152.29, 150.0, 153.07, 154.94, 155.86, 156.82, 153.3, 153.92, 152.7, 157.76, 156.3, 154.68, 165.25, 166.44, 166.52, 171.25, 174.18, 174.24, 170.94, 170.41, 169.43, 170.89, 170.18, 170.8, 170.42, 170.93, 172.03, 171.06, 172.97, 174.23, 174.33, 174.87, 173.15, 174.97, 175.85, 175.53, 174.52, 172.5, 172.91, 178.9, 180.91, 181.71, 183.73, 186.12, 188.02, 186.53, 188.16, 195.09, 191.05, 188.74, 186.79, 188.47, 188.72, 189.95, 191.24, 194.02, 195.35, 195.69, 197.0, 200.10000000000002, 199.5, 200.62000000000003, 198.95, 198.87, 199.23, 199.25, 203.12999999999997, 203.85999999999999, 204.52999999999997, 207.48, 207.15999999999997, 205.28, 204.29999999999998, 204.60999999999999, 200.67000000000002, 210.52000000000004, 209.15, 211.75000000000003, 208.47999999999996, 202.86, 202.89999999999998, 200.72, 197.18, 185.72, 188.66, 190.92, 190.08, 189.0, 183.09, 186.6, 182.78, 179.66, 178.97, 178.23, 177.38, 178.3, 175.07, 173.3, 179.64, 182.54, 185.22, 190.15, 192.58, 194.81, 194.19, 194.15, 192.74, 193.89, 198.45, 197.87, 199.46, 198.78, 198.58, 195.57, 199.8, 199.74000000000004, 197.92, 201.55, 202.73000000000002, 204.41, 204.22999999999996, 200.02, 201.24, 203.23, 201.75, 203.3, 205.21, 204.5, 203.34999999999997, 205.66000000000003, 202.59000000000003, 207.22, 208.84, 208.67, 207.01999999999998, 207.74, 209.68, 208.77999999999997, 213.04, 208.43, 204.02, 193.34, 197.0, 199.04, 203.42999999999998, 200.99, 200.48, 208.97, 202.75, 201.74, 206.49999999999997, 210.35000000000002, 210.36, 212.63999999999996, 212.45999999999998, 202.64000000000001, 206.49000000000004, 204.16, 205.53000000000003, 209.01, 208.74, 205.7, 209.19, 213.28, 213.26, 214.17000000000002, 216.7, 223.58999999999997, 223.09, 218.75, 219.90000000000003, 220.70000000000002, 222.77, 220.95999999999998, 217.73, 218.72000000000003, 217.68, 221.03, 219.89, 218.81999999999996, 223.97, 224.59000000000003, 218.96, 220.82, 227.01000000000002, 227.06, 224.4, 227.03, 230.09, 236.20999999999998, 235.87, 235.32, 234.36999999999998, 235.28, 236.41, 240.51000000000002, 239.96, 243.17999999999998, 243.58, 246.58, 249.04999999999998, 243.29, 243.26, 248.76, 255.82, 257.5, 257.13, 257.24, 259.43, 260.14, 262.2, 261.96, 264.47, 262.64, 265.76, 267.1, 266.29, 263.19, 262.01, 261.78, 266.37, 264.29, 267.84, 267.25, 264.16, 259.45, 261.74, 265.58, 270.71, 266.92, 268.48, 270.77, 271.46, 275.15, 279.86, 280.41, 279.74, 280.02, 279.44, 284.0, 284.27, 289.91, 289.8, 291.52, 293.65, 300.35, 297.43, 299.8, 298.39, 303.19, 309.63, 310.33000000000004, 316.96, 312.68, 311.34000000000003, 315.24000000000007, 318.73, 316.57, 317.7, 319.2300000000001, 318.31, 308.95, 317.69, 324.34, 323.87, 309.51000000000005, 308.6600000000001, 318.85, 321.45000000000005, 325.21000000000004, 320.03, 321.55, 319.61, 327.20000000000005, 324.87000000000006, 324.95000000000005, 319.0, 323.62, 320.3, 313.05, 298.18, 288.08, 292.65, 273.52, 273.36, 298.81, 289.32, 302.74, 292.92, 289.03, 266.17, 285.34, 275.43, 248.22999999999996, 277.97, 242.21000000000004, 252.85999999999999, 246.67, 244.78, 229.23999999999998, 224.37000000000003, 246.88, 245.52, 258.44, 247.73999999999998, 254.81, 254.29, 240.90999999999997, 244.92999999999998, 241.41, 262.47, 259.43, 266.07, 267.99, 273.25, 287.05, 284.43, 286.69, 282.8, 276.93, 268.37, 276.1, 275.03, 282.97, 283.17, 278.58, 287.73, 293.8, 289.07, 293.16, 297.56, 300.63, 303.74, 310.13000000000005, 315.01, 311.41, 307.65, 309.5400000000001, 307.71, 314.96, 313.14, 319.2300000000001, 316.8500000000001, 318.89000000000004, 316.73, 318.11000000000007, 318.25, 317.94, 321.8500000000001, 323.34000000000003, 325.12, 322.32, 331.5, 333.46, 343.99, 352.84, 335.9, 338.8, 342.99000000000007, 352.08000000000004, 351.59000000000003, 351.73, 349.72, 358.87000000000006, 366.53, 360.06000000000006, 364.84, 353.63, 361.78, 364.8, 364.11000000000007, 364.11000000000007, 373.8500000000001, 372.69, 381.37, 383.01, 383.68, 381.9100000000001, 388.2300000000001, 390.90000000000003, 386.09, 385.31, 393.43, 388.00000000000006, 389.09, 371.38000000000005, 370.46, 379.24000000000007, 373.01, 380.16, 384.76000000000005, 425.04, 435.74999999999994, 438.6600000000001, 440.25, 455.61, 444.45, 450.91, 437.5, 452.04, 460.0400000000001, 459.63, 458.43000000000006, 462.25, 462.83000000000004, 473.1000000000001, 497.4800000000001, 503.43, 499.3, 506.09, 500.04, 499.23, 129.04, 134.18, 131.4, 120.88, 120.95999999999998, 112.82, 117.32000000000001, 113.49, 112.0, 115.355, 115.53999999999999, 112.13, 110.34, 106.84000000000002, 110.08, 111.81, 107.12, 108.22000000000001, 112.28, 114.96, 114.09000000000002, 115.81, 116.78999999999999, 113.02, 116.5, 113.16, 115.08000000000001, 114.97000000000001, 116.96999999999998, 124.4, 121.1, 121.19, 120.71, 119.02, 115.97999999999999, 117.51000000000002, 116.87, 115.75, 115.04, 115.05, 116.59999999999998, 111.20000000000002, 115.32, 108.85999999999999, 108.77000000000001, 110.43999999999998, 114.94999999999999, 119.03, 118.69, 116.32, 115.97, 119.48999999999998, 119.21, 119.26, 120.29999999999998, 119.39, 118.03, 118.64, 117.33999999999999, 113.85, 115.16999999999999, 116.03, 116.59000000000002, 119.04999999999998, 122.72, 123.08000000000001, 122.94, 122.24999999999999, 123.75, 124.38, 121.78, 123.23999999999998, 122.41, 121.78, 127.88000000000001, 127.81000000000002, 128.7, 126.65499999999999, 128.23, 131.88, 130.96, 131.97, 136.69, 134.87, 133.72, 132.69, 129.41, 131.01, 126.6, 130.92, 132.05, 128.98, 128.8, 130.89, 128.91, 127.14, 127.83, 132.03, 136.87, 139.07, 142.92, 143.16, 142.06, 137.09, 131.96, 134.14, 134.99, 133.94, 137.39, 136.76, 136.91, 136.01, 135.39, 135.13, 135.37, 133.19, 130.84, 129.71, 129.87, 126.0, 125.86000000000001, 125.35, 120.99, 121.25999999999999, 127.78999999999999, 125.12, 122.06, 120.13, 121.42, 116.36, 121.085, 119.98, 121.96, 121.03, 123.99, 125.57, 124.76, 120.53, 119.99000000000001, 123.38999999999999, 122.54, 120.09, 120.59, 121.21, 121.39000000000001, 119.89999999999999, 122.15, 123.0, 125.9, 126.21, 127.89999999999999, 130.36, 132.995, 131.24, 134.43, 132.03, 134.5, 134.16, 134.84, 133.11, 133.5, 131.94, 134.32, 134.72, 134.39, 133.58, 133.48, 131.46, 132.54, 127.85, 128.1, 129.74, 130.21, 126.85000000000001, 125.90999999999998, 122.77, 124.97, 127.45, 126.27, 124.85, 124.69, 127.30999999999999, 125.43, 127.1, 126.9, 126.85000000000001, 125.28, 124.61, 124.28, 125.06, 123.53999999999999, 125.89, 125.9, 126.74000000000001, 127.13, 126.11, 127.35, 130.48, 129.64, 130.15, 131.79, 130.46, 132.3, 133.98, 133.7, 133.41, 133.11, 134.78, 136.33, 136.96, 137.27, 139.96, 142.02, 144.57, 143.24, 145.11, 144.5, 145.64, 149.15, 148.48, 146.39, 142.45, 146.15, 145.4, 146.8, 148.56, 148.99, 146.77, 144.98, 145.64, 145.86, 145.52, 147.36, 146.95, 147.06, 146.14, 146.09, 145.6, 145.86, 148.89, 149.1, 151.12, 150.19, 146.36, 146.7, 148.19, 149.71, 149.62, 148.36, 147.54, 148.6, 153.12, 151.83, 152.51, 153.65, 154.3, 156.69, 155.11, 154.07, 148.97, 149.55, 148.12, 149.03, 148.79, 146.06, 142.94, 143.43, 145.85, 146.83, 146.92, 145.37, 141.91, 142.83, 141.5, 142.65, 139.14, 141.11, 142.0, 143.29, 142.9, 142.81, 141.51, 140.91, 143.76, 144.84, 146.55, 148.76, 149.26, 149.48, 148.69, 148.64, 149.32, 148.85, 152.57, 149.8, 148.96, 150.02, 151.49, 150.96, 151.28, 150.44, 150.81, 147.92, 147.87, 149.99, 150.0, 151.0, 153.49, 157.87, 160.55, 161.02, 161.41, 161.94, 157.94667960718274, 159.11172284573317, 160.1220250876248, 160.98406510815025, 161.72992147147656, 162.39577180162073, 163.01242746427656, 163.6026861333847, 164.18165305271745, 164.75850797459483, 165.33836133792997, 165.92371779322625, 166.51556492239237, 167.1142120884359, 167.7195760013163, 168.33150792881847, 168.9498710373044, 169.5745641888678, 170.2055100427568, 170.84272049754858, 171.4861955532432, 172.13598280414942, 172.79214174315337, 173.45470211669806, 174.12377101197842, 174.79934247970584, 175.48154145494107, 176.17041553199294, 176.866077747345, 177.56855784744027]}],\n",
              "                        {\"template\": {\"data\": {\"bar\": [{\"error_x\": {\"color\": \"#2a3f5f\"}, \"error_y\": {\"color\": \"#2a3f5f\"}, \"marker\": {\"line\": {\"color\": \"#E5ECF6\", \"width\": 0.5}}, \"type\": \"bar\"}], \"barpolar\": [{\"marker\": {\"line\": {\"color\": \"#E5ECF6\", \"width\": 0.5}}, \"type\": \"barpolar\"}], \"carpet\": [{\"aaxis\": {\"endlinecolor\": \"#2a3f5f\", \"gridcolor\": \"white\", \"linecolor\": \"white\", \"minorgridcolor\": \"white\", \"startlinecolor\": \"#2a3f5f\"}, \"baxis\": {\"endlinecolor\": \"#2a3f5f\", \"gridcolor\": \"white\", \"linecolor\": \"white\", \"minorgridcolor\": \"white\", \"startlinecolor\": \"#2a3f5f\"}, \"type\": \"carpet\"}], \"choropleth\": [{\"colorbar\": {\"outlinewidth\": 0, \"ticks\": \"\"}, \"type\": \"choropleth\"}], \"contour\": [{\"colorbar\": {\"outlinewidth\": 0, \"ticks\": \"\"}, \"colorscale\": [[0.0, \"#0d0887\"], [0.1111111111111111, \"#46039f\"], [0.2222222222222222, \"#7201a8\"], [0.3333333333333333, \"#9c179e\"], [0.4444444444444444, \"#bd3786\"], [0.5555555555555556, \"#d8576b\"], [0.6666666666666666, \"#ed7953\"], [0.7777777777777778, \"#fb9f3a\"], [0.8888888888888888, \"#fdca26\"], [1.0, \"#f0f921\"]], \"type\": \"contour\"}], \"contourcarpet\": [{\"colorbar\": {\"outlinewidth\": 0, \"ticks\": \"\"}, \"type\": \"contourcarpet\"}], \"heatmap\": [{\"colorbar\": {\"outlinewidth\": 0, \"ticks\": \"\"}, \"colorscale\": [[0.0, \"#0d0887\"], [0.1111111111111111, \"#46039f\"], [0.2222222222222222, \"#7201a8\"], [0.3333333333333333, \"#9c179e\"], [0.4444444444444444, \"#bd3786\"], [0.5555555555555556, \"#d8576b\"], [0.6666666666666666, \"#ed7953\"], [0.7777777777777778, \"#fb9f3a\"], [0.8888888888888888, \"#fdca26\"], [1.0, \"#f0f921\"]], \"type\": \"heatmap\"}], \"heatmapgl\": [{\"colorbar\": {\"outlinewidth\": 0, \"ticks\": \"\"}, \"colorscale\": [[0.0, \"#0d0887\"], [0.1111111111111111, \"#46039f\"], [0.2222222222222222, \"#7201a8\"], [0.3333333333333333, \"#9c179e\"], [0.4444444444444444, \"#bd3786\"], [0.5555555555555556, \"#d8576b\"], [0.6666666666666666, \"#ed7953\"], [0.7777777777777778, \"#fb9f3a\"], [0.8888888888888888, \"#fdca26\"], [1.0, \"#f0f921\"]], \"type\": \"heatmapgl\"}], \"histogram\": [{\"marker\": {\"colorbar\": {\"outlinewidth\": 0, \"ticks\": \"\"}}, \"type\": \"histogram\"}], \"histogram2d\": [{\"colorbar\": {\"outlinewidth\": 0, \"ticks\": \"\"}, \"colorscale\": [[0.0, \"#0d0887\"], [0.1111111111111111, \"#46039f\"], [0.2222222222222222, \"#7201a8\"], [0.3333333333333333, \"#9c179e\"], [0.4444444444444444, \"#bd3786\"], [0.5555555555555556, \"#d8576b\"], [0.6666666666666666, \"#ed7953\"], [0.7777777777777778, \"#fb9f3a\"], [0.8888888888888888, \"#fdca26\"], [1.0, \"#f0f921\"]], \"type\": \"histogram2d\"}], \"histogram2dcontour\": [{\"colorbar\": {\"outlinewidth\": 0, \"ticks\": \"\"}, \"colorscale\": [[0.0, \"#0d0887\"], [0.1111111111111111, \"#46039f\"], [0.2222222222222222, \"#7201a8\"], [0.3333333333333333, \"#9c179e\"], [0.4444444444444444, \"#bd3786\"], [0.5555555555555556, \"#d8576b\"], [0.6666666666666666, \"#ed7953\"], [0.7777777777777778, \"#fb9f3a\"], [0.8888888888888888, \"#fdca26\"], [1.0, \"#f0f921\"]], \"type\": \"histogram2dcontour\"}], \"mesh3d\": [{\"colorbar\": {\"outlinewidth\": 0, \"ticks\": \"\"}, \"type\": \"mesh3d\"}], \"parcoords\": [{\"line\": {\"colorbar\": {\"outlinewidth\": 0, \"ticks\": \"\"}}, \"type\": \"parcoords\"}], \"pie\": [{\"automargin\": true, \"type\": \"pie\"}], \"scatter\": [{\"marker\": {\"colorbar\": {\"outlinewidth\": 0, \"ticks\": \"\"}}, \"type\": \"scatter\"}], \"scatter3d\": [{\"line\": {\"colorbar\": {\"outlinewidth\": 0, \"ticks\": \"\"}}, \"marker\": {\"colorbar\": {\"outlinewidth\": 0, \"ticks\": \"\"}}, \"type\": \"scatter3d\"}], \"scattercarpet\": [{\"marker\": {\"colorbar\": {\"outlinewidth\": 0, \"ticks\": \"\"}}, \"type\": \"scattercarpet\"}], \"scattergeo\": [{\"marker\": {\"colorbar\": {\"outlinewidth\": 0, \"ticks\": \"\"}}, \"type\": \"scattergeo\"}], \"scattergl\": [{\"marker\": {\"colorbar\": {\"outlinewidth\": 0, \"ticks\": \"\"}}, \"type\": \"scattergl\"}], \"scattermapbox\": [{\"marker\": {\"colorbar\": {\"outlinewidth\": 0, \"ticks\": \"\"}}, \"type\": \"scattermapbox\"}], \"scatterpolar\": [{\"marker\": {\"colorbar\": {\"outlinewidth\": 0, \"ticks\": \"\"}}, \"type\": \"scatterpolar\"}], \"scatterpolargl\": [{\"marker\": {\"colorbar\": {\"outlinewidth\": 0, \"ticks\": \"\"}}, \"type\": \"scatterpolargl\"}], \"scatterternary\": [{\"marker\": {\"colorbar\": {\"outlinewidth\": 0, \"ticks\": \"\"}}, \"type\": \"scatterternary\"}], \"surface\": [{\"colorbar\": {\"outlinewidth\": 0, \"ticks\": \"\"}, \"colorscale\": [[0.0, \"#0d0887\"], [0.1111111111111111, \"#46039f\"], [0.2222222222222222, \"#7201a8\"], [0.3333333333333333, \"#9c179e\"], [0.4444444444444444, \"#bd3786\"], [0.5555555555555556, \"#d8576b\"], [0.6666666666666666, \"#ed7953\"], [0.7777777777777778, \"#fb9f3a\"], [0.8888888888888888, \"#fdca26\"], [1.0, \"#f0f921\"]], \"type\": \"surface\"}], \"table\": [{\"cells\": {\"fill\": {\"color\": \"#EBF0F8\"}, \"line\": {\"color\": \"white\"}}, \"header\": {\"fill\": {\"color\": \"#C8D4E3\"}, \"line\": {\"color\": \"white\"}}, \"type\": \"table\"}]}, \"layout\": {\"annotationdefaults\": {\"arrowcolor\": \"#2a3f5f\", \"arrowhead\": 0, \"arrowwidth\": 1}, \"coloraxis\": {\"colorbar\": {\"outlinewidth\": 0, \"ticks\": \"\"}}, \"colorscale\": {\"diverging\": [[0, \"#8e0152\"], [0.1, \"#c51b7d\"], [0.2, \"#de77ae\"], [0.3, \"#f1b6da\"], [0.4, \"#fde0ef\"], [0.5, \"#f7f7f7\"], [0.6, \"#e6f5d0\"], [0.7, \"#b8e186\"], [0.8, \"#7fbc41\"], [0.9, \"#4d9221\"], [1, \"#276419\"]], \"sequential\": [[0.0, \"#0d0887\"], [0.1111111111111111, \"#46039f\"], [0.2222222222222222, \"#7201a8\"], [0.3333333333333333, \"#9c179e\"], [0.4444444444444444, \"#bd3786\"], [0.5555555555555556, \"#d8576b\"], [0.6666666666666666, \"#ed7953\"], [0.7777777777777778, \"#fb9f3a\"], [0.8888888888888888, \"#fdca26\"], [1.0, \"#f0f921\"]], \"sequentialminus\": [[0.0, \"#0d0887\"], [0.1111111111111111, \"#46039f\"], [0.2222222222222222, \"#7201a8\"], [0.3333333333333333, \"#9c179e\"], [0.4444444444444444, \"#bd3786\"], [0.5555555555555556, \"#d8576b\"], [0.6666666666666666, \"#ed7953\"], [0.7777777777777778, \"#fb9f3a\"], [0.8888888888888888, \"#fdca26\"], [1.0, \"#f0f921\"]]}, \"colorway\": [\"#636efa\", \"#EF553B\", \"#00cc96\", \"#ab63fa\", \"#FFA15A\", \"#19d3f3\", \"#FF6692\", \"#B6E880\", \"#FF97FF\", \"#FECB52\"], \"font\": {\"color\": \"#2a3f5f\"}, \"geo\": {\"bgcolor\": \"white\", \"lakecolor\": \"white\", \"landcolor\": \"#E5ECF6\", \"showlakes\": true, \"showland\": true, \"subunitcolor\": \"white\"}, \"hoverlabel\": {\"align\": \"left\"}, \"hovermode\": \"closest\", \"mapbox\": {\"style\": \"light\"}, \"paper_bgcolor\": \"white\", \"plot_bgcolor\": \"#E5ECF6\", \"polar\": {\"angularaxis\": {\"gridcolor\": \"white\", \"linecolor\": \"white\", \"ticks\": \"\"}, \"bgcolor\": \"#E5ECF6\", \"radialaxis\": {\"gridcolor\": \"white\", \"linecolor\": \"white\", \"ticks\": \"\"}}, \"scene\": {\"xaxis\": {\"backgroundcolor\": \"#E5ECF6\", \"gridcolor\": \"white\", \"gridwidth\": 2, \"linecolor\": \"white\", \"showbackground\": true, \"ticks\": \"\", \"zerolinecolor\": \"white\"}, \"yaxis\": {\"backgroundcolor\": \"#E5ECF6\", \"gridcolor\": \"white\", \"gridwidth\": 2, \"linecolor\": \"white\", \"showbackground\": true, \"ticks\": \"\", \"zerolinecolor\": \"white\"}, \"zaxis\": {\"backgroundcolor\": \"#E5ECF6\", \"gridcolor\": \"white\", \"gridwidth\": 2, \"linecolor\": \"white\", \"showbackground\": true, \"ticks\": \"\", \"zerolinecolor\": \"white\"}}, \"shapedefaults\": {\"line\": {\"color\": \"#2a3f5f\"}}, \"ternary\": {\"aaxis\": {\"gridcolor\": \"white\", \"linecolor\": \"white\", \"ticks\": \"\"}, \"baxis\": {\"gridcolor\": \"white\", \"linecolor\": \"white\", \"ticks\": \"\"}, \"bgcolor\": \"#E5ECF6\", \"caxis\": {\"gridcolor\": \"white\", \"linecolor\": \"white\", \"ticks\": \"\"}}, \"title\": {\"x\": 0.05}, \"xaxis\": {\"automargin\": true, \"gridcolor\": \"white\", \"linecolor\": \"white\", \"ticks\": \"\", \"title\": {\"standoff\": 15}, \"zerolinecolor\": \"white\", \"zerolinewidth\": 2}, \"yaxis\": {\"automargin\": true, \"gridcolor\": \"white\", \"linecolor\": \"white\", \"ticks\": \"\", \"title\": {\"standoff\": 15}, \"zerolinecolor\": \"white\", \"zerolinewidth\": 2}}}},\n",
              "                        {\"responsive\": true}\n",
              "                    ).then(function(){\n",
              "                            \n",
              "var gd = document.getElementById('3a66aada-7ef8-41ef-be25-01c70826fe4e');\n",
              "var x = new MutationObserver(function (mutations, observer) {{\n",
              "        var display = window.getComputedStyle(gd).display;\n",
              "        if (!display || display === 'none') {{\n",
              "            console.log([gd, 'removed!']);\n",
              "            Plotly.purge(gd);\n",
              "            observer.disconnect();\n",
              "        }}\n",
              "}});\n",
              "\n",
              "// Listen for the removal of the full notebook cells\n",
              "var notebookContainer = gd.closest('#notebook-container');\n",
              "if (notebookContainer) {{\n",
              "    x.observe(notebookContainer, {childList: true});\n",
              "}}\n",
              "\n",
              "// Listen for the clearing of the current output cell\n",
              "var outputEl = gd.closest('.output');\n",
              "if (outputEl) {{\n",
              "    x.observe(outputEl, {childList: true});\n",
              "}}\n",
              "\n",
              "                        })\n",
              "                };\n",
              "                \n",
              "            </script>\n",
              "        </div>\n",
              "</body>\n",
              "</html>"
            ]
          },
          "metadata": {}
        }
      ]
    },
    {
      "cell_type": "code",
      "metadata": {
        "id": "0B4lY3HCzYRf"
      },
      "source": [
        ""
      ],
      "execution_count": 170,
      "outputs": []
    }
  ]
}